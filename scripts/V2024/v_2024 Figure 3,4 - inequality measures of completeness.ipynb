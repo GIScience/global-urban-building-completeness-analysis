{
 "cells": [
  {
   "cell_type": "code",
   "execution_count": 1,
   "id": "f43a22e3",
   "metadata": {},
   "outputs": [],
   "source": [
    "import datetime\n",
    "import pickle\n",
    "\n",
    "import geopandas as gpd\n",
    "import matplotlib\n",
    "import matplotlib.gridspec as gridspec\n",
    "import matplotlib.pyplot as plt\n",
    "import numpy as np\n",
    "import pandas as pd\n",
    "import segregation\n",
    "from esda.moran import Moran, Moran_Local\n",
    "from libpysal.weights.distance import DistanceBand"
   ]
  },
  {
   "cell_type": "code",
   "execution_count": 2,
   "id": "be8b4f3c",
   "metadata": {},
   "outputs": [],
   "source": [
    "def get_urban_centers_gdf_timeline(region, month):\n",
    "    column_b = f'prediction_osm_completeness_{month.year}_{str(month.month).zfill(2)}'\n",
    "    gdf = gpd.read_file(\n",
    "        \"../data/global_urban_building_completeness.gpkg\",\n",
    "        layer='rf_adjusted_prediction_reference_and_osm_urban_centers_v2024',\n",
    "    )\n",
    "    gdf.set_geometry(gdf[\"geometry\"].to_crs('+proj=cea').centroid.to_crs('epsg:4326'), inplace=True)\n",
    "    \n",
    "\n",
    "    gdf[\"osm_completeness\"] = gdf[column_b]\n",
    "    gdf.rename(columns={column_b: \"prediction_osm_completeness\"}, inplace=True)\n",
    "    gdf.loc[gdf['prediction'] < 0, 'prediction'] = 0     #v2023: sum_prediction_sqkm\n",
    "    gdf.loc[gdf['osm_completeness'] < 0, 'osm_completeness'] = 0\n",
    "    gdf.loc[gdf['osm_completeness'] > 1, 'osm_completeness'] = 1\n",
    "    gdf = gdf.loc[gdf[\"region_wb\"].isin(region)]\n",
    "    gdf[\"sum_osm_building_area_sqkm\"] = gdf[\"prediction\"] * gdf[\"osm_completeness\"]\n",
    "    \n",
    "    print(len(gdf))\n",
    "    \n",
    "    all_columns = gdf.columns\n",
    "    include_fields=[\n",
    "        \"urban_center_id\", \"region_wb\", \"ghs_pop_2023\", \"prediction\",\n",
    "        \"prediction_osm_completeness\", \"sum_osm_building_area_sqkm\", \"osm_completeness\",\n",
    "        \"geometry\"\n",
    "    ]\n",
    "    columns_to_drop = list(set(all_columns) - set(include_fields))    \n",
    "    gdf.drop(\n",
    "        columns_to_drop,\n",
    "        axis=1,\n",
    "        inplace=True\n",
    "    )\n",
    "    \n",
    "    gdf.dropna(inplace=True)\n",
    "    print(len(gdf))\n",
    "    \n",
    "    print(f\"got {len(gdf)} samples\")\n",
    "    return gdf"
   ]
  },
  {
   "cell_type": "markdown",
   "id": "c9b880d2",
   "metadata": {},
   "source": [
    "## Configuration and Styles"
   ]
  },
  {
   "cell_type": "code",
   "execution_count": 3,
   "id": "3dc97cb0",
   "metadata": {},
   "outputs": [
    {
     "name": "stderr",
     "output_type": "stream",
     "text": [
      "/tmp/ipykernel_18691/3302344990.py:45: MatplotlibDeprecationWarning: The get_cmap function was deprecated in Matplotlib 3.7 and will be removed in 3.11. Use ``matplotlib.colormaps[name]`` or ``matplotlib.colormaps.get_cmap()`` or ``pyplot.get_cmap()`` instead.\n",
      "  cmap = matplotlib.cm.get_cmap('tab10')\n"
     ]
    }
   ],
   "source": [
    "model_name = \"rf_adjusted\"\n",
    "training_data = \"reference_and_osm\"\n",
    "\n",
    "wb_regions = [\n",
    "    [\"East Asia & Pacific\"],\n",
    "    [\"Europe & Central Asia\"],\n",
    "    [\"Latin America & Caribbean\"],\n",
    "    [\"Middle East & North Africa\"],\n",
    "    [\"North America\"],\n",
    "    [\"South Asia\"],\n",
    "    [\"Sub-Saharan Africa\"],\n",
    "    [\n",
    "        \"Europe & Central Asia\", \n",
    "        \"Latin America & Caribbean\", \n",
    "        \"North America\", \n",
    "        \"East Asia & Pacific\", \n",
    "        \"South Asia\", \n",
    "        \"Middle East & North Africa\",\n",
    "        \"Sub-Saharan Africa\"\n",
    "    ],\n",
    "]\n",
    "\n",
    "linestyles = [\n",
    "    ('dotted',                (0, (1, 1))),\n",
    "    ('densely dashed',        (0, (5, 1))),\n",
    "    ('densely dashed',        (0, (5, 1))),\n",
    "    ('solid',                 (0, ())),\n",
    "    ('dotted',                (0, (1, 1))),\n",
    "    ('solid',                 (0, ())),\n",
    "    ('densely dashed',        (0, (5, 1))),\n",
    "    ('solid',                 (0, ())),\n",
    "]\n",
    "\n",
    "label_strings = [\n",
    "    \"East Asia & Pacific\",\n",
    "    \"Europe & Central Asia\",\n",
    "    \"Latin America & Caribbean\",\n",
    "    \"Middle East & North Africa\",\n",
    "    \"North America\",\n",
    "    \"South Asia\",\n",
    "    \"Sub-Saharan Africa\",\n",
    "    \"all\"\n",
    "]\n",
    "\n",
    "cmap = matplotlib.cm.get_cmap('tab10')\n",
    "colors_dict = {\n",
    "    \"East Asia & Pacific\": cmap(0),\n",
    "    \"Europe & Central Asia\": cmap(0.125),\n",
    "    \"Latin America & Caribbean\": cmap(0.25),\n",
    "    \"Middle East & North Africa\": cmap(0.375),\n",
    "    \"North America\": cmap(0.5),\n",
    "    \"South Asia\": cmap(0.625),\n",
    "    \"Sub-Saharan Africa\": cmap(0.75),\n",
    "    \"all\": \"black\",\n",
    "}\n",
    "\n",
    "\n",
    "all_months = [\n",
    "    datetime.date(2008, 1, 1),\n",
    "    datetime.date(2009, 1, 1),\n",
    "    datetime.date(2010, 1, 1),\n",
    "    datetime.date(2011, 1, 1),\n",
    "    datetime.date(2012, 1, 1),\n",
    "    datetime.date(2013, 1, 1),\n",
    "    datetime.date(2014, 1, 1),\n",
    "    datetime.date(2015, 1, 1),\n",
    "    datetime.date(2016, 1, 1),\n",
    "    datetime.date(2017, 1, 1),\n",
    "    datetime.date(2018, 1, 1),\n",
    "    datetime.date(2019, 1, 1),\n",
    "    datetime.date(2020, 1, 1),\n",
    "    datetime.date(2021, 1, 1),\n",
    "    datetime.date(2022, 1, 1),\n",
    "    datetime.date(2023, 1, 1),\n",
    "    datetime.date(2024, 1, 1),\n",
    "    datetime.date(2024, 5, 1)\n",
    "]\n",
    "\n",
    "outfile = \"../data/inequality_stats_data_v2024.pkl\""
   ]
  },
  {
   "cell_type": "markdown",
   "id": "e82da1a4",
   "metadata": {},
   "source": [
    "## Calculate Moran's I and Gini Coefficient\n",
    "this takes around 15 minutes."
   ]
  },
  {
   "cell_type": "code",
   "execution_count": 4,
   "id": "9e8c6550",
   "metadata": {
    "scrolled": true
   },
   "outputs": [
    {
     "name": "stdout",
     "output_type": "stream",
     "text": [
      "2008-01-01\n",
      "3222\n",
      "3222\n",
      "got 3222 samples\n"
     ]
    },
    {
     "name": "stderr",
     "output_type": "stream",
     "text": [
      "/home/briochamsley/.cache/pypoetry/virtualenvs/oqapi-analysis-QKiHp62D-py3.12/lib/python3.12/site-packages/libpysal/weights/util.py:826: UserWarning: The weights matrix is not fully connected: \n",
      " There are 18 disconnected components.\n",
      " There are 6 islands with ids: 0, 1, 2, 23, 90, 701.\n",
      "  w = W(neighbors, weights, ids, **kwargs)\n",
      "/home/briochamsley/.cache/pypoetry/virtualenvs/oqapi-analysis-QKiHp62D-py3.12/lib/python3.12/site-packages/libpysal/weights/distance.py:844: UserWarning: The weights matrix is not fully connected: \n",
      " There are 18 disconnected components.\n",
      " There are 6 islands with ids: 0, 1, 2, 23, 90, 701.\n",
      "  W.__init__(\n"
     ]
    },
    {
     "name": "stdout",
     "output_type": "stream",
     "text": [
      "('WARNING: ', 0, ' is an island (no neighbors)')\n",
      "('WARNING: ', 1, ' is an island (no neighbors)')\n",
      "('WARNING: ', 2, ' is an island (no neighbors)')\n",
      "('WARNING: ', 23, ' is an island (no neighbors)')\n",
      "('WARNING: ', 90, ' is an island (no neighbors)')\n",
      "('WARNING: ', 701, ' is an island (no neighbors)')\n"
     ]
    },
    {
     "name": "stderr",
     "output_type": "stream",
     "text": [
      "/home/briochamsley/.cache/pypoetry/virtualenvs/oqapi-analysis-QKiHp62D-py3.12/lib/python3.12/site-packages/libpysal/weights/util.py:826: UserWarning: The weights matrix is not fully connected: \n",
      " There are 12 disconnected components.\n",
      "  w = W(neighbors, weights, ids, **kwargs)\n",
      "/home/briochamsley/.cache/pypoetry/virtualenvs/oqapi-analysis-QKiHp62D-py3.12/lib/python3.12/site-packages/libpysal/weights/distance.py:844: UserWarning: The weights matrix is not fully connected: \n",
      " There are 12 disconnected components.\n",
      "  W.__init__(\n"
     ]
    },
    {
     "name": "stdout",
     "output_type": "stream",
     "text": [
      "2009-01-01\n",
      "3222\n",
      "3222\n",
      "got 3222 samples\n"
     ]
    },
    {
     "name": "stderr",
     "output_type": "stream",
     "text": [
      "/home/briochamsley/.cache/pypoetry/virtualenvs/oqapi-analysis-QKiHp62D-py3.12/lib/python3.12/site-packages/libpysal/weights/util.py:826: UserWarning: The weights matrix is not fully connected: \n",
      " There are 18 disconnected components.\n",
      " There are 6 islands with ids: 0, 1, 2, 23, 90, 701.\n",
      "  w = W(neighbors, weights, ids, **kwargs)\n",
      "/home/briochamsley/.cache/pypoetry/virtualenvs/oqapi-analysis-QKiHp62D-py3.12/lib/python3.12/site-packages/libpysal/weights/distance.py:844: UserWarning: The weights matrix is not fully connected: \n",
      " There are 18 disconnected components.\n",
      " There are 6 islands with ids: 0, 1, 2, 23, 90, 701.\n",
      "  W.__init__(\n"
     ]
    },
    {
     "name": "stdout",
     "output_type": "stream",
     "text": [
      "('WARNING: ', 0, ' is an island (no neighbors)')\n",
      "('WARNING: ', 1, ' is an island (no neighbors)')\n",
      "('WARNING: ', 2, ' is an island (no neighbors)')\n",
      "('WARNING: ', 23, ' is an island (no neighbors)')\n",
      "('WARNING: ', 90, ' is an island (no neighbors)')\n",
      "('WARNING: ', 701, ' is an island (no neighbors)')\n"
     ]
    },
    {
     "name": "stderr",
     "output_type": "stream",
     "text": [
      "/home/briochamsley/.cache/pypoetry/virtualenvs/oqapi-analysis-QKiHp62D-py3.12/lib/python3.12/site-packages/libpysal/weights/util.py:826: UserWarning: The weights matrix is not fully connected: \n",
      " There are 12 disconnected components.\n",
      "  w = W(neighbors, weights, ids, **kwargs)\n",
      "/home/briochamsley/.cache/pypoetry/virtualenvs/oqapi-analysis-QKiHp62D-py3.12/lib/python3.12/site-packages/libpysal/weights/distance.py:844: UserWarning: The weights matrix is not fully connected: \n",
      " There are 12 disconnected components.\n",
      "  W.__init__(\n"
     ]
    },
    {
     "name": "stdout",
     "output_type": "stream",
     "text": [
      "2010-01-01\n",
      "3222\n",
      "3222\n",
      "got 3222 samples\n"
     ]
    },
    {
     "name": "stderr",
     "output_type": "stream",
     "text": [
      "/home/briochamsley/.cache/pypoetry/virtualenvs/oqapi-analysis-QKiHp62D-py3.12/lib/python3.12/site-packages/libpysal/weights/util.py:826: UserWarning: The weights matrix is not fully connected: \n",
      " There are 18 disconnected components.\n",
      " There are 6 islands with ids: 0, 1, 2, 23, 90, 701.\n",
      "  w = W(neighbors, weights, ids, **kwargs)\n",
      "/home/briochamsley/.cache/pypoetry/virtualenvs/oqapi-analysis-QKiHp62D-py3.12/lib/python3.12/site-packages/libpysal/weights/distance.py:844: UserWarning: The weights matrix is not fully connected: \n",
      " There are 18 disconnected components.\n",
      " There are 6 islands with ids: 0, 1, 2, 23, 90, 701.\n",
      "  W.__init__(\n"
     ]
    },
    {
     "name": "stdout",
     "output_type": "stream",
     "text": [
      "('WARNING: ', 0, ' is an island (no neighbors)')\n",
      "('WARNING: ', 1, ' is an island (no neighbors)')\n",
      "('WARNING: ', 2, ' is an island (no neighbors)')\n",
      "('WARNING: ', 23, ' is an island (no neighbors)')\n",
      "('WARNING: ', 90, ' is an island (no neighbors)')\n",
      "('WARNING: ', 701, ' is an island (no neighbors)')\n"
     ]
    },
    {
     "name": "stderr",
     "output_type": "stream",
     "text": [
      "/home/briochamsley/.cache/pypoetry/virtualenvs/oqapi-analysis-QKiHp62D-py3.12/lib/python3.12/site-packages/libpysal/weights/util.py:826: UserWarning: The weights matrix is not fully connected: \n",
      " There are 12 disconnected components.\n",
      "  w = W(neighbors, weights, ids, **kwargs)\n",
      "/home/briochamsley/.cache/pypoetry/virtualenvs/oqapi-analysis-QKiHp62D-py3.12/lib/python3.12/site-packages/libpysal/weights/distance.py:844: UserWarning: The weights matrix is not fully connected: \n",
      " There are 12 disconnected components.\n",
      "  W.__init__(\n"
     ]
    },
    {
     "name": "stdout",
     "output_type": "stream",
     "text": [
      "2011-01-01\n",
      "3222\n",
      "3222\n",
      "got 3222 samples\n"
     ]
    },
    {
     "name": "stderr",
     "output_type": "stream",
     "text": [
      "/home/briochamsley/.cache/pypoetry/virtualenvs/oqapi-analysis-QKiHp62D-py3.12/lib/python3.12/site-packages/libpysal/weights/util.py:826: UserWarning: The weights matrix is not fully connected: \n",
      " There are 18 disconnected components.\n",
      " There are 6 islands with ids: 0, 1, 2, 23, 90, 701.\n",
      "  w = W(neighbors, weights, ids, **kwargs)\n",
      "/home/briochamsley/.cache/pypoetry/virtualenvs/oqapi-analysis-QKiHp62D-py3.12/lib/python3.12/site-packages/libpysal/weights/distance.py:844: UserWarning: The weights matrix is not fully connected: \n",
      " There are 18 disconnected components.\n",
      " There are 6 islands with ids: 0, 1, 2, 23, 90, 701.\n",
      "  W.__init__(\n"
     ]
    },
    {
     "name": "stdout",
     "output_type": "stream",
     "text": [
      "('WARNING: ', 0, ' is an island (no neighbors)')\n",
      "('WARNING: ', 1, ' is an island (no neighbors)')\n",
      "('WARNING: ', 2, ' is an island (no neighbors)')\n",
      "('WARNING: ', 23, ' is an island (no neighbors)')\n",
      "('WARNING: ', 90, ' is an island (no neighbors)')\n",
      "('WARNING: ', 701, ' is an island (no neighbors)')\n"
     ]
    },
    {
     "name": "stderr",
     "output_type": "stream",
     "text": [
      "/home/briochamsley/.cache/pypoetry/virtualenvs/oqapi-analysis-QKiHp62D-py3.12/lib/python3.12/site-packages/libpysal/weights/util.py:826: UserWarning: The weights matrix is not fully connected: \n",
      " There are 12 disconnected components.\n",
      "  w = W(neighbors, weights, ids, **kwargs)\n",
      "/home/briochamsley/.cache/pypoetry/virtualenvs/oqapi-analysis-QKiHp62D-py3.12/lib/python3.12/site-packages/libpysal/weights/distance.py:844: UserWarning: The weights matrix is not fully connected: \n",
      " There are 12 disconnected components.\n",
      "  W.__init__(\n"
     ]
    },
    {
     "name": "stdout",
     "output_type": "stream",
     "text": [
      "2012-01-01\n",
      "3222\n",
      "3222\n",
      "got 3222 samples\n"
     ]
    },
    {
     "name": "stderr",
     "output_type": "stream",
     "text": [
      "/home/briochamsley/.cache/pypoetry/virtualenvs/oqapi-analysis-QKiHp62D-py3.12/lib/python3.12/site-packages/libpysal/weights/util.py:826: UserWarning: The weights matrix is not fully connected: \n",
      " There are 18 disconnected components.\n",
      " There are 6 islands with ids: 0, 1, 2, 23, 90, 701.\n",
      "  w = W(neighbors, weights, ids, **kwargs)\n",
      "/home/briochamsley/.cache/pypoetry/virtualenvs/oqapi-analysis-QKiHp62D-py3.12/lib/python3.12/site-packages/libpysal/weights/distance.py:844: UserWarning: The weights matrix is not fully connected: \n",
      " There are 18 disconnected components.\n",
      " There are 6 islands with ids: 0, 1, 2, 23, 90, 701.\n",
      "  W.__init__(\n"
     ]
    },
    {
     "name": "stdout",
     "output_type": "stream",
     "text": [
      "('WARNING: ', 0, ' is an island (no neighbors)')\n",
      "('WARNING: ', 1, ' is an island (no neighbors)')\n",
      "('WARNING: ', 2, ' is an island (no neighbors)')\n",
      "('WARNING: ', 23, ' is an island (no neighbors)')\n",
      "('WARNING: ', 90, ' is an island (no neighbors)')\n",
      "('WARNING: ', 701, ' is an island (no neighbors)')\n"
     ]
    },
    {
     "name": "stderr",
     "output_type": "stream",
     "text": [
      "/home/briochamsley/.cache/pypoetry/virtualenvs/oqapi-analysis-QKiHp62D-py3.12/lib/python3.12/site-packages/libpysal/weights/util.py:826: UserWarning: The weights matrix is not fully connected: \n",
      " There are 12 disconnected components.\n",
      "  w = W(neighbors, weights, ids, **kwargs)\n",
      "/home/briochamsley/.cache/pypoetry/virtualenvs/oqapi-analysis-QKiHp62D-py3.12/lib/python3.12/site-packages/libpysal/weights/distance.py:844: UserWarning: The weights matrix is not fully connected: \n",
      " There are 12 disconnected components.\n",
      "  W.__init__(\n"
     ]
    },
    {
     "name": "stdout",
     "output_type": "stream",
     "text": [
      "2013-01-01\n",
      "3222\n",
      "3222\n",
      "got 3222 samples\n"
     ]
    },
    {
     "name": "stderr",
     "output_type": "stream",
     "text": [
      "/home/briochamsley/.cache/pypoetry/virtualenvs/oqapi-analysis-QKiHp62D-py3.12/lib/python3.12/site-packages/libpysal/weights/util.py:826: UserWarning: The weights matrix is not fully connected: \n",
      " There are 18 disconnected components.\n",
      " There are 6 islands with ids: 0, 1, 2, 23, 90, 701.\n",
      "  w = W(neighbors, weights, ids, **kwargs)\n",
      "/home/briochamsley/.cache/pypoetry/virtualenvs/oqapi-analysis-QKiHp62D-py3.12/lib/python3.12/site-packages/libpysal/weights/distance.py:844: UserWarning: The weights matrix is not fully connected: \n",
      " There are 18 disconnected components.\n",
      " There are 6 islands with ids: 0, 1, 2, 23, 90, 701.\n",
      "  W.__init__(\n"
     ]
    },
    {
     "name": "stdout",
     "output_type": "stream",
     "text": [
      "('WARNING: ', 0, ' is an island (no neighbors)')\n",
      "('WARNING: ', 1, ' is an island (no neighbors)')\n",
      "('WARNING: ', 2, ' is an island (no neighbors)')\n",
      "('WARNING: ', 23, ' is an island (no neighbors)')\n",
      "('WARNING: ', 90, ' is an island (no neighbors)')\n",
      "('WARNING: ', 701, ' is an island (no neighbors)')\n"
     ]
    },
    {
     "name": "stderr",
     "output_type": "stream",
     "text": [
      "/home/briochamsley/.cache/pypoetry/virtualenvs/oqapi-analysis-QKiHp62D-py3.12/lib/python3.12/site-packages/libpysal/weights/util.py:826: UserWarning: The weights matrix is not fully connected: \n",
      " There are 12 disconnected components.\n",
      "  w = W(neighbors, weights, ids, **kwargs)\n",
      "/home/briochamsley/.cache/pypoetry/virtualenvs/oqapi-analysis-QKiHp62D-py3.12/lib/python3.12/site-packages/libpysal/weights/distance.py:844: UserWarning: The weights matrix is not fully connected: \n",
      " There are 12 disconnected components.\n",
      "  W.__init__(\n"
     ]
    },
    {
     "name": "stdout",
     "output_type": "stream",
     "text": [
      "2014-01-01\n",
      "3222\n",
      "3222\n",
      "got 3222 samples\n"
     ]
    },
    {
     "name": "stderr",
     "output_type": "stream",
     "text": [
      "/home/briochamsley/.cache/pypoetry/virtualenvs/oqapi-analysis-QKiHp62D-py3.12/lib/python3.12/site-packages/libpysal/weights/util.py:826: UserWarning: The weights matrix is not fully connected: \n",
      " There are 18 disconnected components.\n",
      " There are 6 islands with ids: 0, 1, 2, 23, 90, 701.\n",
      "  w = W(neighbors, weights, ids, **kwargs)\n",
      "/home/briochamsley/.cache/pypoetry/virtualenvs/oqapi-analysis-QKiHp62D-py3.12/lib/python3.12/site-packages/libpysal/weights/distance.py:844: UserWarning: The weights matrix is not fully connected: \n",
      " There are 18 disconnected components.\n",
      " There are 6 islands with ids: 0, 1, 2, 23, 90, 701.\n",
      "  W.__init__(\n"
     ]
    },
    {
     "name": "stdout",
     "output_type": "stream",
     "text": [
      "('WARNING: ', 0, ' is an island (no neighbors)')\n",
      "('WARNING: ', 1, ' is an island (no neighbors)')\n",
      "('WARNING: ', 2, ' is an island (no neighbors)')\n",
      "('WARNING: ', 23, ' is an island (no neighbors)')\n",
      "('WARNING: ', 90, ' is an island (no neighbors)')\n",
      "('WARNING: ', 701, ' is an island (no neighbors)')\n"
     ]
    },
    {
     "name": "stderr",
     "output_type": "stream",
     "text": [
      "/home/briochamsley/.cache/pypoetry/virtualenvs/oqapi-analysis-QKiHp62D-py3.12/lib/python3.12/site-packages/libpysal/weights/util.py:826: UserWarning: The weights matrix is not fully connected: \n",
      " There are 12 disconnected components.\n",
      "  w = W(neighbors, weights, ids, **kwargs)\n",
      "/home/briochamsley/.cache/pypoetry/virtualenvs/oqapi-analysis-QKiHp62D-py3.12/lib/python3.12/site-packages/libpysal/weights/distance.py:844: UserWarning: The weights matrix is not fully connected: \n",
      " There are 12 disconnected components.\n",
      "  W.__init__(\n"
     ]
    },
    {
     "name": "stdout",
     "output_type": "stream",
     "text": [
      "2015-01-01\n",
      "3222\n",
      "3222\n",
      "got 3222 samples\n"
     ]
    },
    {
     "name": "stderr",
     "output_type": "stream",
     "text": [
      "/home/briochamsley/.cache/pypoetry/virtualenvs/oqapi-analysis-QKiHp62D-py3.12/lib/python3.12/site-packages/libpysal/weights/util.py:826: UserWarning: The weights matrix is not fully connected: \n",
      " There are 18 disconnected components.\n",
      " There are 6 islands with ids: 0, 1, 2, 23, 90, 701.\n",
      "  w = W(neighbors, weights, ids, **kwargs)\n",
      "/home/briochamsley/.cache/pypoetry/virtualenvs/oqapi-analysis-QKiHp62D-py3.12/lib/python3.12/site-packages/libpysal/weights/distance.py:844: UserWarning: The weights matrix is not fully connected: \n",
      " There are 18 disconnected components.\n",
      " There are 6 islands with ids: 0, 1, 2, 23, 90, 701.\n",
      "  W.__init__(\n"
     ]
    },
    {
     "name": "stdout",
     "output_type": "stream",
     "text": [
      "('WARNING: ', 0, ' is an island (no neighbors)')\n",
      "('WARNING: ', 1, ' is an island (no neighbors)')\n",
      "('WARNING: ', 2, ' is an island (no neighbors)')\n",
      "('WARNING: ', 23, ' is an island (no neighbors)')\n",
      "('WARNING: ', 90, ' is an island (no neighbors)')\n",
      "('WARNING: ', 701, ' is an island (no neighbors)')\n"
     ]
    },
    {
     "name": "stderr",
     "output_type": "stream",
     "text": [
      "/home/briochamsley/.cache/pypoetry/virtualenvs/oqapi-analysis-QKiHp62D-py3.12/lib/python3.12/site-packages/libpysal/weights/util.py:826: UserWarning: The weights matrix is not fully connected: \n",
      " There are 12 disconnected components.\n",
      "  w = W(neighbors, weights, ids, **kwargs)\n",
      "/home/briochamsley/.cache/pypoetry/virtualenvs/oqapi-analysis-QKiHp62D-py3.12/lib/python3.12/site-packages/libpysal/weights/distance.py:844: UserWarning: The weights matrix is not fully connected: \n",
      " There are 12 disconnected components.\n",
      "  W.__init__(\n"
     ]
    },
    {
     "name": "stdout",
     "output_type": "stream",
     "text": [
      "2016-01-01\n",
      "3222\n",
      "3222\n",
      "got 3222 samples\n"
     ]
    },
    {
     "name": "stderr",
     "output_type": "stream",
     "text": [
      "/home/briochamsley/.cache/pypoetry/virtualenvs/oqapi-analysis-QKiHp62D-py3.12/lib/python3.12/site-packages/libpysal/weights/util.py:826: UserWarning: The weights matrix is not fully connected: \n",
      " There are 18 disconnected components.\n",
      " There are 6 islands with ids: 0, 1, 2, 23, 90, 701.\n",
      "  w = W(neighbors, weights, ids, **kwargs)\n",
      "/home/briochamsley/.cache/pypoetry/virtualenvs/oqapi-analysis-QKiHp62D-py3.12/lib/python3.12/site-packages/libpysal/weights/distance.py:844: UserWarning: The weights matrix is not fully connected: \n",
      " There are 18 disconnected components.\n",
      " There are 6 islands with ids: 0, 1, 2, 23, 90, 701.\n",
      "  W.__init__(\n"
     ]
    },
    {
     "name": "stdout",
     "output_type": "stream",
     "text": [
      "('WARNING: ', 0, ' is an island (no neighbors)')\n",
      "('WARNING: ', 1, ' is an island (no neighbors)')\n",
      "('WARNING: ', 2, ' is an island (no neighbors)')\n",
      "('WARNING: ', 23, ' is an island (no neighbors)')\n",
      "('WARNING: ', 90, ' is an island (no neighbors)')\n",
      "('WARNING: ', 701, ' is an island (no neighbors)')\n"
     ]
    },
    {
     "name": "stderr",
     "output_type": "stream",
     "text": [
      "/home/briochamsley/.cache/pypoetry/virtualenvs/oqapi-analysis-QKiHp62D-py3.12/lib/python3.12/site-packages/libpysal/weights/util.py:826: UserWarning: The weights matrix is not fully connected: \n",
      " There are 12 disconnected components.\n",
      "  w = W(neighbors, weights, ids, **kwargs)\n",
      "/home/briochamsley/.cache/pypoetry/virtualenvs/oqapi-analysis-QKiHp62D-py3.12/lib/python3.12/site-packages/libpysal/weights/distance.py:844: UserWarning: The weights matrix is not fully connected: \n",
      " There are 12 disconnected components.\n",
      "  W.__init__(\n"
     ]
    },
    {
     "name": "stdout",
     "output_type": "stream",
     "text": [
      "2017-01-01\n",
      "3222\n",
      "3222\n",
      "got 3222 samples\n"
     ]
    },
    {
     "name": "stderr",
     "output_type": "stream",
     "text": [
      "/home/briochamsley/.cache/pypoetry/virtualenvs/oqapi-analysis-QKiHp62D-py3.12/lib/python3.12/site-packages/libpysal/weights/util.py:826: UserWarning: The weights matrix is not fully connected: \n",
      " There are 18 disconnected components.\n",
      " There are 6 islands with ids: 0, 1, 2, 23, 90, 701.\n",
      "  w = W(neighbors, weights, ids, **kwargs)\n",
      "/home/briochamsley/.cache/pypoetry/virtualenvs/oqapi-analysis-QKiHp62D-py3.12/lib/python3.12/site-packages/libpysal/weights/distance.py:844: UserWarning: The weights matrix is not fully connected: \n",
      " There are 18 disconnected components.\n",
      " There are 6 islands with ids: 0, 1, 2, 23, 90, 701.\n",
      "  W.__init__(\n"
     ]
    },
    {
     "name": "stdout",
     "output_type": "stream",
     "text": [
      "('WARNING: ', 0, ' is an island (no neighbors)')\n",
      "('WARNING: ', 1, ' is an island (no neighbors)')\n",
      "('WARNING: ', 2, ' is an island (no neighbors)')\n",
      "('WARNING: ', 23, ' is an island (no neighbors)')\n",
      "('WARNING: ', 90, ' is an island (no neighbors)')\n",
      "('WARNING: ', 701, ' is an island (no neighbors)')\n"
     ]
    },
    {
     "name": "stderr",
     "output_type": "stream",
     "text": [
      "/home/briochamsley/.cache/pypoetry/virtualenvs/oqapi-analysis-QKiHp62D-py3.12/lib/python3.12/site-packages/libpysal/weights/util.py:826: UserWarning: The weights matrix is not fully connected: \n",
      " There are 12 disconnected components.\n",
      "  w = W(neighbors, weights, ids, **kwargs)\n",
      "/home/briochamsley/.cache/pypoetry/virtualenvs/oqapi-analysis-QKiHp62D-py3.12/lib/python3.12/site-packages/libpysal/weights/distance.py:844: UserWarning: The weights matrix is not fully connected: \n",
      " There are 12 disconnected components.\n",
      "  W.__init__(\n"
     ]
    },
    {
     "name": "stdout",
     "output_type": "stream",
     "text": [
      "2018-01-01\n",
      "3222\n",
      "3222\n",
      "got 3222 samples\n"
     ]
    },
    {
     "name": "stderr",
     "output_type": "stream",
     "text": [
      "/home/briochamsley/.cache/pypoetry/virtualenvs/oqapi-analysis-QKiHp62D-py3.12/lib/python3.12/site-packages/libpysal/weights/util.py:826: UserWarning: The weights matrix is not fully connected: \n",
      " There are 18 disconnected components.\n",
      " There are 6 islands with ids: 0, 1, 2, 23, 90, 701.\n",
      "  w = W(neighbors, weights, ids, **kwargs)\n",
      "/home/briochamsley/.cache/pypoetry/virtualenvs/oqapi-analysis-QKiHp62D-py3.12/lib/python3.12/site-packages/libpysal/weights/distance.py:844: UserWarning: The weights matrix is not fully connected: \n",
      " There are 18 disconnected components.\n",
      " There are 6 islands with ids: 0, 1, 2, 23, 90, 701.\n",
      "  W.__init__(\n"
     ]
    },
    {
     "name": "stdout",
     "output_type": "stream",
     "text": [
      "('WARNING: ', 0, ' is an island (no neighbors)')\n",
      "('WARNING: ', 1, ' is an island (no neighbors)')\n",
      "('WARNING: ', 2, ' is an island (no neighbors)')\n",
      "('WARNING: ', 23, ' is an island (no neighbors)')\n",
      "('WARNING: ', 90, ' is an island (no neighbors)')\n",
      "('WARNING: ', 701, ' is an island (no neighbors)')\n"
     ]
    },
    {
     "name": "stderr",
     "output_type": "stream",
     "text": [
      "/home/briochamsley/.cache/pypoetry/virtualenvs/oqapi-analysis-QKiHp62D-py3.12/lib/python3.12/site-packages/libpysal/weights/util.py:826: UserWarning: The weights matrix is not fully connected: \n",
      " There are 12 disconnected components.\n",
      "  w = W(neighbors, weights, ids, **kwargs)\n",
      "/home/briochamsley/.cache/pypoetry/virtualenvs/oqapi-analysis-QKiHp62D-py3.12/lib/python3.12/site-packages/libpysal/weights/distance.py:844: UserWarning: The weights matrix is not fully connected: \n",
      " There are 12 disconnected components.\n",
      "  W.__init__(\n"
     ]
    },
    {
     "name": "stdout",
     "output_type": "stream",
     "text": [
      "2019-01-01\n",
      "3222\n",
      "3222\n",
      "got 3222 samples\n"
     ]
    },
    {
     "name": "stderr",
     "output_type": "stream",
     "text": [
      "/home/briochamsley/.cache/pypoetry/virtualenvs/oqapi-analysis-QKiHp62D-py3.12/lib/python3.12/site-packages/libpysal/weights/util.py:826: UserWarning: The weights matrix is not fully connected: \n",
      " There are 18 disconnected components.\n",
      " There are 6 islands with ids: 0, 1, 2, 23, 90, 701.\n",
      "  w = W(neighbors, weights, ids, **kwargs)\n",
      "/home/briochamsley/.cache/pypoetry/virtualenvs/oqapi-analysis-QKiHp62D-py3.12/lib/python3.12/site-packages/libpysal/weights/distance.py:844: UserWarning: The weights matrix is not fully connected: \n",
      " There are 18 disconnected components.\n",
      " There are 6 islands with ids: 0, 1, 2, 23, 90, 701.\n",
      "  W.__init__(\n"
     ]
    },
    {
     "name": "stdout",
     "output_type": "stream",
     "text": [
      "('WARNING: ', 0, ' is an island (no neighbors)')\n",
      "('WARNING: ', 1, ' is an island (no neighbors)')\n",
      "('WARNING: ', 2, ' is an island (no neighbors)')\n",
      "('WARNING: ', 23, ' is an island (no neighbors)')\n",
      "('WARNING: ', 90, ' is an island (no neighbors)')\n",
      "('WARNING: ', 701, ' is an island (no neighbors)')\n"
     ]
    },
    {
     "name": "stderr",
     "output_type": "stream",
     "text": [
      "/home/briochamsley/.cache/pypoetry/virtualenvs/oqapi-analysis-QKiHp62D-py3.12/lib/python3.12/site-packages/libpysal/weights/util.py:826: UserWarning: The weights matrix is not fully connected: \n",
      " There are 12 disconnected components.\n",
      "  w = W(neighbors, weights, ids, **kwargs)\n",
      "/home/briochamsley/.cache/pypoetry/virtualenvs/oqapi-analysis-QKiHp62D-py3.12/lib/python3.12/site-packages/libpysal/weights/distance.py:844: UserWarning: The weights matrix is not fully connected: \n",
      " There are 12 disconnected components.\n",
      "  W.__init__(\n"
     ]
    },
    {
     "name": "stdout",
     "output_type": "stream",
     "text": [
      "2020-01-01\n",
      "3222\n",
      "3222\n",
      "got 3222 samples\n"
     ]
    },
    {
     "name": "stderr",
     "output_type": "stream",
     "text": [
      "/home/briochamsley/.cache/pypoetry/virtualenvs/oqapi-analysis-QKiHp62D-py3.12/lib/python3.12/site-packages/libpysal/weights/util.py:826: UserWarning: The weights matrix is not fully connected: \n",
      " There are 18 disconnected components.\n",
      " There are 6 islands with ids: 0, 1, 2, 23, 90, 701.\n",
      "  w = W(neighbors, weights, ids, **kwargs)\n",
      "/home/briochamsley/.cache/pypoetry/virtualenvs/oqapi-analysis-QKiHp62D-py3.12/lib/python3.12/site-packages/libpysal/weights/distance.py:844: UserWarning: The weights matrix is not fully connected: \n",
      " There are 18 disconnected components.\n",
      " There are 6 islands with ids: 0, 1, 2, 23, 90, 701.\n",
      "  W.__init__(\n"
     ]
    },
    {
     "name": "stdout",
     "output_type": "stream",
     "text": [
      "('WARNING: ', 0, ' is an island (no neighbors)')\n",
      "('WARNING: ', 1, ' is an island (no neighbors)')\n",
      "('WARNING: ', 2, ' is an island (no neighbors)')\n",
      "('WARNING: ', 23, ' is an island (no neighbors)')\n",
      "('WARNING: ', 90, ' is an island (no neighbors)')\n",
      "('WARNING: ', 701, ' is an island (no neighbors)')\n"
     ]
    },
    {
     "name": "stderr",
     "output_type": "stream",
     "text": [
      "/home/briochamsley/.cache/pypoetry/virtualenvs/oqapi-analysis-QKiHp62D-py3.12/lib/python3.12/site-packages/libpysal/weights/util.py:826: UserWarning: The weights matrix is not fully connected: \n",
      " There are 12 disconnected components.\n",
      "  w = W(neighbors, weights, ids, **kwargs)\n",
      "/home/briochamsley/.cache/pypoetry/virtualenvs/oqapi-analysis-QKiHp62D-py3.12/lib/python3.12/site-packages/libpysal/weights/distance.py:844: UserWarning: The weights matrix is not fully connected: \n",
      " There are 12 disconnected components.\n",
      "  W.__init__(\n"
     ]
    },
    {
     "name": "stdout",
     "output_type": "stream",
     "text": [
      "2021-01-01\n",
      "3222\n",
      "3222\n",
      "got 3222 samples\n"
     ]
    },
    {
     "name": "stderr",
     "output_type": "stream",
     "text": [
      "/home/briochamsley/.cache/pypoetry/virtualenvs/oqapi-analysis-QKiHp62D-py3.12/lib/python3.12/site-packages/libpysal/weights/util.py:826: UserWarning: The weights matrix is not fully connected: \n",
      " There are 18 disconnected components.\n",
      " There are 6 islands with ids: 0, 1, 2, 23, 90, 701.\n",
      "  w = W(neighbors, weights, ids, **kwargs)\n",
      "/home/briochamsley/.cache/pypoetry/virtualenvs/oqapi-analysis-QKiHp62D-py3.12/lib/python3.12/site-packages/libpysal/weights/distance.py:844: UserWarning: The weights matrix is not fully connected: \n",
      " There are 18 disconnected components.\n",
      " There are 6 islands with ids: 0, 1, 2, 23, 90, 701.\n",
      "  W.__init__(\n"
     ]
    },
    {
     "name": "stdout",
     "output_type": "stream",
     "text": [
      "('WARNING: ', 0, ' is an island (no neighbors)')\n",
      "('WARNING: ', 1, ' is an island (no neighbors)')\n",
      "('WARNING: ', 2, ' is an island (no neighbors)')\n",
      "('WARNING: ', 23, ' is an island (no neighbors)')\n",
      "('WARNING: ', 90, ' is an island (no neighbors)')\n",
      "('WARNING: ', 701, ' is an island (no neighbors)')\n"
     ]
    },
    {
     "name": "stderr",
     "output_type": "stream",
     "text": [
      "/home/briochamsley/.cache/pypoetry/virtualenvs/oqapi-analysis-QKiHp62D-py3.12/lib/python3.12/site-packages/libpysal/weights/util.py:826: UserWarning: The weights matrix is not fully connected: \n",
      " There are 12 disconnected components.\n",
      "  w = W(neighbors, weights, ids, **kwargs)\n",
      "/home/briochamsley/.cache/pypoetry/virtualenvs/oqapi-analysis-QKiHp62D-py3.12/lib/python3.12/site-packages/libpysal/weights/distance.py:844: UserWarning: The weights matrix is not fully connected: \n",
      " There are 12 disconnected components.\n",
      "  W.__init__(\n"
     ]
    },
    {
     "name": "stdout",
     "output_type": "stream",
     "text": [
      "2022-01-01\n",
      "3222\n",
      "3222\n",
      "got 3222 samples\n"
     ]
    },
    {
     "name": "stderr",
     "output_type": "stream",
     "text": [
      "/home/briochamsley/.cache/pypoetry/virtualenvs/oqapi-analysis-QKiHp62D-py3.12/lib/python3.12/site-packages/libpysal/weights/util.py:826: UserWarning: The weights matrix is not fully connected: \n",
      " There are 18 disconnected components.\n",
      " There are 6 islands with ids: 0, 1, 2, 23, 90, 701.\n",
      "  w = W(neighbors, weights, ids, **kwargs)\n",
      "/home/briochamsley/.cache/pypoetry/virtualenvs/oqapi-analysis-QKiHp62D-py3.12/lib/python3.12/site-packages/libpysal/weights/distance.py:844: UserWarning: The weights matrix is not fully connected: \n",
      " There are 18 disconnected components.\n",
      " There are 6 islands with ids: 0, 1, 2, 23, 90, 701.\n",
      "  W.__init__(\n"
     ]
    },
    {
     "name": "stdout",
     "output_type": "stream",
     "text": [
      "('WARNING: ', 0, ' is an island (no neighbors)')\n",
      "('WARNING: ', 1, ' is an island (no neighbors)')\n",
      "('WARNING: ', 2, ' is an island (no neighbors)')\n",
      "('WARNING: ', 23, ' is an island (no neighbors)')\n",
      "('WARNING: ', 90, ' is an island (no neighbors)')\n",
      "('WARNING: ', 701, ' is an island (no neighbors)')\n"
     ]
    },
    {
     "name": "stderr",
     "output_type": "stream",
     "text": [
      "/home/briochamsley/.cache/pypoetry/virtualenvs/oqapi-analysis-QKiHp62D-py3.12/lib/python3.12/site-packages/libpysal/weights/util.py:826: UserWarning: The weights matrix is not fully connected: \n",
      " There are 12 disconnected components.\n",
      "  w = W(neighbors, weights, ids, **kwargs)\n",
      "/home/briochamsley/.cache/pypoetry/virtualenvs/oqapi-analysis-QKiHp62D-py3.12/lib/python3.12/site-packages/libpysal/weights/distance.py:844: UserWarning: The weights matrix is not fully connected: \n",
      " There are 12 disconnected components.\n",
      "  W.__init__(\n"
     ]
    },
    {
     "name": "stdout",
     "output_type": "stream",
     "text": [
      "2023-01-01\n",
      "3222\n",
      "3222\n",
      "got 3222 samples\n"
     ]
    },
    {
     "name": "stderr",
     "output_type": "stream",
     "text": [
      "/home/briochamsley/.cache/pypoetry/virtualenvs/oqapi-analysis-QKiHp62D-py3.12/lib/python3.12/site-packages/libpysal/weights/util.py:826: UserWarning: The weights matrix is not fully connected: \n",
      " There are 18 disconnected components.\n",
      " There are 6 islands with ids: 0, 1, 2, 23, 90, 701.\n",
      "  w = W(neighbors, weights, ids, **kwargs)\n",
      "/home/briochamsley/.cache/pypoetry/virtualenvs/oqapi-analysis-QKiHp62D-py3.12/lib/python3.12/site-packages/libpysal/weights/distance.py:844: UserWarning: The weights matrix is not fully connected: \n",
      " There are 18 disconnected components.\n",
      " There are 6 islands with ids: 0, 1, 2, 23, 90, 701.\n",
      "  W.__init__(\n"
     ]
    },
    {
     "name": "stdout",
     "output_type": "stream",
     "text": [
      "('WARNING: ', 0, ' is an island (no neighbors)')\n",
      "('WARNING: ', 1, ' is an island (no neighbors)')\n",
      "('WARNING: ', 2, ' is an island (no neighbors)')\n",
      "('WARNING: ', 23, ' is an island (no neighbors)')\n",
      "('WARNING: ', 90, ' is an island (no neighbors)')\n",
      "('WARNING: ', 701, ' is an island (no neighbors)')\n"
     ]
    },
    {
     "name": "stderr",
     "output_type": "stream",
     "text": [
      "/home/briochamsley/.cache/pypoetry/virtualenvs/oqapi-analysis-QKiHp62D-py3.12/lib/python3.12/site-packages/libpysal/weights/util.py:826: UserWarning: The weights matrix is not fully connected: \n",
      " There are 12 disconnected components.\n",
      "  w = W(neighbors, weights, ids, **kwargs)\n",
      "/home/briochamsley/.cache/pypoetry/virtualenvs/oqapi-analysis-QKiHp62D-py3.12/lib/python3.12/site-packages/libpysal/weights/distance.py:844: UserWarning: The weights matrix is not fully connected: \n",
      " There are 12 disconnected components.\n",
      "  W.__init__(\n"
     ]
    },
    {
     "name": "stdout",
     "output_type": "stream",
     "text": [
      "2024-01-01\n",
      "3222\n",
      "3222\n",
      "got 3222 samples\n"
     ]
    },
    {
     "name": "stderr",
     "output_type": "stream",
     "text": [
      "/home/briochamsley/.cache/pypoetry/virtualenvs/oqapi-analysis-QKiHp62D-py3.12/lib/python3.12/site-packages/libpysal/weights/util.py:826: UserWarning: The weights matrix is not fully connected: \n",
      " There are 18 disconnected components.\n",
      " There are 6 islands with ids: 0, 1, 2, 23, 90, 701.\n",
      "  w = W(neighbors, weights, ids, **kwargs)\n",
      "/home/briochamsley/.cache/pypoetry/virtualenvs/oqapi-analysis-QKiHp62D-py3.12/lib/python3.12/site-packages/libpysal/weights/distance.py:844: UserWarning: The weights matrix is not fully connected: \n",
      " There are 18 disconnected components.\n",
      " There are 6 islands with ids: 0, 1, 2, 23, 90, 701.\n",
      "  W.__init__(\n"
     ]
    },
    {
     "name": "stdout",
     "output_type": "stream",
     "text": [
      "('WARNING: ', 0, ' is an island (no neighbors)')\n",
      "('WARNING: ', 1, ' is an island (no neighbors)')\n",
      "('WARNING: ', 2, ' is an island (no neighbors)')\n",
      "('WARNING: ', 23, ' is an island (no neighbors)')\n",
      "('WARNING: ', 90, ' is an island (no neighbors)')\n",
      "('WARNING: ', 701, ' is an island (no neighbors)')\n"
     ]
    },
    {
     "name": "stderr",
     "output_type": "stream",
     "text": [
      "/home/briochamsley/.cache/pypoetry/virtualenvs/oqapi-analysis-QKiHp62D-py3.12/lib/python3.12/site-packages/libpysal/weights/util.py:826: UserWarning: The weights matrix is not fully connected: \n",
      " There are 12 disconnected components.\n",
      "  w = W(neighbors, weights, ids, **kwargs)\n",
      "/home/briochamsley/.cache/pypoetry/virtualenvs/oqapi-analysis-QKiHp62D-py3.12/lib/python3.12/site-packages/libpysal/weights/distance.py:844: UserWarning: The weights matrix is not fully connected: \n",
      " There are 12 disconnected components.\n",
      "  W.__init__(\n"
     ]
    },
    {
     "name": "stdout",
     "output_type": "stream",
     "text": [
      "2024-05-01\n",
      "3222\n",
      "3222\n",
      "got 3222 samples\n"
     ]
    },
    {
     "name": "stderr",
     "output_type": "stream",
     "text": [
      "/home/briochamsley/.cache/pypoetry/virtualenvs/oqapi-analysis-QKiHp62D-py3.12/lib/python3.12/site-packages/libpysal/weights/util.py:826: UserWarning: The weights matrix is not fully connected: \n",
      " There are 18 disconnected components.\n",
      " There are 6 islands with ids: 0, 1, 2, 23, 90, 701.\n",
      "  w = W(neighbors, weights, ids, **kwargs)\n",
      "/home/briochamsley/.cache/pypoetry/virtualenvs/oqapi-analysis-QKiHp62D-py3.12/lib/python3.12/site-packages/libpysal/weights/distance.py:844: UserWarning: The weights matrix is not fully connected: \n",
      " There are 18 disconnected components.\n",
      " There are 6 islands with ids: 0, 1, 2, 23, 90, 701.\n",
      "  W.__init__(\n"
     ]
    },
    {
     "name": "stdout",
     "output_type": "stream",
     "text": [
      "('WARNING: ', 0, ' is an island (no neighbors)')\n",
      "('WARNING: ', 1, ' is an island (no neighbors)')\n",
      "('WARNING: ', 2, ' is an island (no neighbors)')\n",
      "('WARNING: ', 23, ' is an island (no neighbors)')\n",
      "('WARNING: ', 90, ' is an island (no neighbors)')\n",
      "('WARNING: ', 701, ' is an island (no neighbors)')\n"
     ]
    },
    {
     "name": "stderr",
     "output_type": "stream",
     "text": [
      "/home/briochamsley/.cache/pypoetry/virtualenvs/oqapi-analysis-QKiHp62D-py3.12/lib/python3.12/site-packages/libpysal/weights/util.py:826: UserWarning: The weights matrix is not fully connected: \n",
      " There are 12 disconnected components.\n",
      "  w = W(neighbors, weights, ids, **kwargs)\n",
      "/home/briochamsley/.cache/pypoetry/virtualenvs/oqapi-analysis-QKiHp62D-py3.12/lib/python3.12/site-packages/libpysal/weights/distance.py:844: UserWarning: The weights matrix is not fully connected: \n",
      " There are 12 disconnected components.\n",
      "  W.__init__(\n"
     ]
    },
    {
     "name": "stdout",
     "output_type": "stream",
     "text": [
      "2008-01-01\n",
      "1523\n",
      "1523\n",
      "got 1523 samples\n"
     ]
    },
    {
     "name": "stderr",
     "output_type": "stream",
     "text": [
      "/home/briochamsley/.cache/pypoetry/virtualenvs/oqapi-analysis-QKiHp62D-py3.12/lib/python3.12/site-packages/libpysal/weights/util.py:826: UserWarning: The weights matrix is not fully connected: \n",
      " There are 20 disconnected components.\n",
      " There are 13 islands with ids: 0, 1, 4, 50, 84, 302, 1405, 1510, 1511, 1512, 1513, 1521, 1522.\n",
      "  w = W(neighbors, weights, ids, **kwargs)\n",
      "/home/briochamsley/.cache/pypoetry/virtualenvs/oqapi-analysis-QKiHp62D-py3.12/lib/python3.12/site-packages/libpysal/weights/distance.py:844: UserWarning: The weights matrix is not fully connected: \n",
      " There are 20 disconnected components.\n",
      " There are 13 islands with ids: 0, 1, 4, 50, 84, 302, 1405, 1510, 1511, 1512, 1513, 1521, 1522.\n",
      "  W.__init__(\n"
     ]
    },
    {
     "name": "stdout",
     "output_type": "stream",
     "text": [
      "('WARNING: ', 0, ' is an island (no neighbors)')\n",
      "('WARNING: ', 1, ' is an island (no neighbors)')\n",
      "('WARNING: ', 4, ' is an island (no neighbors)')\n",
      "('WARNING: ', 50, ' is an island (no neighbors)')\n",
      "('WARNING: ', 84, ' is an island (no neighbors)')\n",
      "('WARNING: ', 302, ' is an island (no neighbors)')\n",
      "('WARNING: ', 1405, ' is an island (no neighbors)')\n",
      "('WARNING: ', 1510, ' is an island (no neighbors)')\n",
      "('WARNING: ', 1511, ' is an island (no neighbors)')\n",
      "('WARNING: ', 1512, ' is an island (no neighbors)')\n",
      "('WARNING: ', 1513, ' is an island (no neighbors)')\n",
      "('WARNING: ', 1521, ' is an island (no neighbors)')\n",
      "('WARNING: ', 1522, ' is an island (no neighbors)')\n"
     ]
    },
    {
     "name": "stderr",
     "output_type": "stream",
     "text": [
      "/home/briochamsley/.cache/pypoetry/virtualenvs/oqapi-analysis-QKiHp62D-py3.12/lib/python3.12/site-packages/libpysal/weights/util.py:826: UserWarning: The weights matrix is not fully connected: \n",
      " There are 7 disconnected components.\n",
      "  w = W(neighbors, weights, ids, **kwargs)\n",
      "/home/briochamsley/.cache/pypoetry/virtualenvs/oqapi-analysis-QKiHp62D-py3.12/lib/python3.12/site-packages/libpysal/weights/distance.py:844: UserWarning: The weights matrix is not fully connected: \n",
      " There are 7 disconnected components.\n",
      "  W.__init__(\n"
     ]
    },
    {
     "name": "stdout",
     "output_type": "stream",
     "text": [
      "2009-01-01\n",
      "1523\n",
      "1523\n",
      "got 1523 samples\n"
     ]
    },
    {
     "name": "stderr",
     "output_type": "stream",
     "text": [
      "/home/briochamsley/.cache/pypoetry/virtualenvs/oqapi-analysis-QKiHp62D-py3.12/lib/python3.12/site-packages/libpysal/weights/util.py:826: UserWarning: The weights matrix is not fully connected: \n",
      " There are 20 disconnected components.\n",
      " There are 13 islands with ids: 0, 1, 4, 50, 84, 302, 1405, 1510, 1511, 1512, 1513, 1521, 1522.\n",
      "  w = W(neighbors, weights, ids, **kwargs)\n",
      "/home/briochamsley/.cache/pypoetry/virtualenvs/oqapi-analysis-QKiHp62D-py3.12/lib/python3.12/site-packages/libpysal/weights/distance.py:844: UserWarning: The weights matrix is not fully connected: \n",
      " There are 20 disconnected components.\n",
      " There are 13 islands with ids: 0, 1, 4, 50, 84, 302, 1405, 1510, 1511, 1512, 1513, 1521, 1522.\n",
      "  W.__init__(\n"
     ]
    },
    {
     "name": "stdout",
     "output_type": "stream",
     "text": [
      "('WARNING: ', 0, ' is an island (no neighbors)')\n",
      "('WARNING: ', 1, ' is an island (no neighbors)')\n",
      "('WARNING: ', 4, ' is an island (no neighbors)')\n",
      "('WARNING: ', 50, ' is an island (no neighbors)')\n",
      "('WARNING: ', 84, ' is an island (no neighbors)')\n",
      "('WARNING: ', 302, ' is an island (no neighbors)')\n",
      "('WARNING: ', 1405, ' is an island (no neighbors)')\n",
      "('WARNING: ', 1510, ' is an island (no neighbors)')\n",
      "('WARNING: ', 1511, ' is an island (no neighbors)')\n",
      "('WARNING: ', 1512, ' is an island (no neighbors)')\n",
      "('WARNING: ', 1513, ' is an island (no neighbors)')\n",
      "('WARNING: ', 1521, ' is an island (no neighbors)')\n",
      "('WARNING: ', 1522, ' is an island (no neighbors)')\n"
     ]
    },
    {
     "name": "stderr",
     "output_type": "stream",
     "text": [
      "/home/briochamsley/.cache/pypoetry/virtualenvs/oqapi-analysis-QKiHp62D-py3.12/lib/python3.12/site-packages/libpysal/weights/util.py:826: UserWarning: The weights matrix is not fully connected: \n",
      " There are 7 disconnected components.\n",
      "  w = W(neighbors, weights, ids, **kwargs)\n",
      "/home/briochamsley/.cache/pypoetry/virtualenvs/oqapi-analysis-QKiHp62D-py3.12/lib/python3.12/site-packages/libpysal/weights/distance.py:844: UserWarning: The weights matrix is not fully connected: \n",
      " There are 7 disconnected components.\n",
      "  W.__init__(\n"
     ]
    },
    {
     "name": "stdout",
     "output_type": "stream",
     "text": [
      "2010-01-01\n",
      "1523\n",
      "1523\n",
      "got 1523 samples\n"
     ]
    },
    {
     "name": "stderr",
     "output_type": "stream",
     "text": [
      "/home/briochamsley/.cache/pypoetry/virtualenvs/oqapi-analysis-QKiHp62D-py3.12/lib/python3.12/site-packages/libpysal/weights/util.py:826: UserWarning: The weights matrix is not fully connected: \n",
      " There are 20 disconnected components.\n",
      " There are 13 islands with ids: 0, 1, 4, 50, 84, 302, 1405, 1510, 1511, 1512, 1513, 1521, 1522.\n",
      "  w = W(neighbors, weights, ids, **kwargs)\n",
      "/home/briochamsley/.cache/pypoetry/virtualenvs/oqapi-analysis-QKiHp62D-py3.12/lib/python3.12/site-packages/libpysal/weights/distance.py:844: UserWarning: The weights matrix is not fully connected: \n",
      " There are 20 disconnected components.\n",
      " There are 13 islands with ids: 0, 1, 4, 50, 84, 302, 1405, 1510, 1511, 1512, 1513, 1521, 1522.\n",
      "  W.__init__(\n"
     ]
    },
    {
     "name": "stdout",
     "output_type": "stream",
     "text": [
      "('WARNING: ', 0, ' is an island (no neighbors)')\n",
      "('WARNING: ', 1, ' is an island (no neighbors)')\n",
      "('WARNING: ', 4, ' is an island (no neighbors)')\n",
      "('WARNING: ', 50, ' is an island (no neighbors)')\n",
      "('WARNING: ', 84, ' is an island (no neighbors)')\n",
      "('WARNING: ', 302, ' is an island (no neighbors)')\n",
      "('WARNING: ', 1405, ' is an island (no neighbors)')\n",
      "('WARNING: ', 1510, ' is an island (no neighbors)')\n",
      "('WARNING: ', 1511, ' is an island (no neighbors)')\n",
      "('WARNING: ', 1512, ' is an island (no neighbors)')\n",
      "('WARNING: ', 1513, ' is an island (no neighbors)')\n",
      "('WARNING: ', 1521, ' is an island (no neighbors)')\n",
      "('WARNING: ', 1522, ' is an island (no neighbors)')\n"
     ]
    },
    {
     "name": "stderr",
     "output_type": "stream",
     "text": [
      "/home/briochamsley/.cache/pypoetry/virtualenvs/oqapi-analysis-QKiHp62D-py3.12/lib/python3.12/site-packages/libpysal/weights/util.py:826: UserWarning: The weights matrix is not fully connected: \n",
      " There are 7 disconnected components.\n",
      "  w = W(neighbors, weights, ids, **kwargs)\n",
      "/home/briochamsley/.cache/pypoetry/virtualenvs/oqapi-analysis-QKiHp62D-py3.12/lib/python3.12/site-packages/libpysal/weights/distance.py:844: UserWarning: The weights matrix is not fully connected: \n",
      " There are 7 disconnected components.\n",
      "  W.__init__(\n"
     ]
    },
    {
     "name": "stdout",
     "output_type": "stream",
     "text": [
      "2011-01-01\n",
      "1523\n",
      "1523\n",
      "got 1523 samples\n"
     ]
    },
    {
     "name": "stderr",
     "output_type": "stream",
     "text": [
      "/home/briochamsley/.cache/pypoetry/virtualenvs/oqapi-analysis-QKiHp62D-py3.12/lib/python3.12/site-packages/libpysal/weights/util.py:826: UserWarning: The weights matrix is not fully connected: \n",
      " There are 20 disconnected components.\n",
      " There are 13 islands with ids: 0, 1, 4, 50, 84, 302, 1405, 1510, 1511, 1512, 1513, 1521, 1522.\n",
      "  w = W(neighbors, weights, ids, **kwargs)\n",
      "/home/briochamsley/.cache/pypoetry/virtualenvs/oqapi-analysis-QKiHp62D-py3.12/lib/python3.12/site-packages/libpysal/weights/distance.py:844: UserWarning: The weights matrix is not fully connected: \n",
      " There are 20 disconnected components.\n",
      " There are 13 islands with ids: 0, 1, 4, 50, 84, 302, 1405, 1510, 1511, 1512, 1513, 1521, 1522.\n",
      "  W.__init__(\n"
     ]
    },
    {
     "name": "stdout",
     "output_type": "stream",
     "text": [
      "('WARNING: ', 0, ' is an island (no neighbors)')\n",
      "('WARNING: ', 1, ' is an island (no neighbors)')\n",
      "('WARNING: ', 4, ' is an island (no neighbors)')\n",
      "('WARNING: ', 50, ' is an island (no neighbors)')\n",
      "('WARNING: ', 84, ' is an island (no neighbors)')\n",
      "('WARNING: ', 302, ' is an island (no neighbors)')\n",
      "('WARNING: ', 1405, ' is an island (no neighbors)')\n",
      "('WARNING: ', 1510, ' is an island (no neighbors)')\n",
      "('WARNING: ', 1511, ' is an island (no neighbors)')\n",
      "('WARNING: ', 1512, ' is an island (no neighbors)')\n",
      "('WARNING: ', 1513, ' is an island (no neighbors)')\n",
      "('WARNING: ', 1521, ' is an island (no neighbors)')\n",
      "('WARNING: ', 1522, ' is an island (no neighbors)')\n"
     ]
    },
    {
     "name": "stderr",
     "output_type": "stream",
     "text": [
      "/home/briochamsley/.cache/pypoetry/virtualenvs/oqapi-analysis-QKiHp62D-py3.12/lib/python3.12/site-packages/libpysal/weights/util.py:826: UserWarning: The weights matrix is not fully connected: \n",
      " There are 7 disconnected components.\n",
      "  w = W(neighbors, weights, ids, **kwargs)\n",
      "/home/briochamsley/.cache/pypoetry/virtualenvs/oqapi-analysis-QKiHp62D-py3.12/lib/python3.12/site-packages/libpysal/weights/distance.py:844: UserWarning: The weights matrix is not fully connected: \n",
      " There are 7 disconnected components.\n",
      "  W.__init__(\n"
     ]
    },
    {
     "name": "stdout",
     "output_type": "stream",
     "text": [
      "2012-01-01\n",
      "1523\n",
      "1523\n",
      "got 1523 samples\n"
     ]
    },
    {
     "name": "stderr",
     "output_type": "stream",
     "text": [
      "/home/briochamsley/.cache/pypoetry/virtualenvs/oqapi-analysis-QKiHp62D-py3.12/lib/python3.12/site-packages/libpysal/weights/util.py:826: UserWarning: The weights matrix is not fully connected: \n",
      " There are 20 disconnected components.\n",
      " There are 13 islands with ids: 0, 1, 4, 50, 84, 302, 1405, 1510, 1511, 1512, 1513, 1521, 1522.\n",
      "  w = W(neighbors, weights, ids, **kwargs)\n",
      "/home/briochamsley/.cache/pypoetry/virtualenvs/oqapi-analysis-QKiHp62D-py3.12/lib/python3.12/site-packages/libpysal/weights/distance.py:844: UserWarning: The weights matrix is not fully connected: \n",
      " There are 20 disconnected components.\n",
      " There are 13 islands with ids: 0, 1, 4, 50, 84, 302, 1405, 1510, 1511, 1512, 1513, 1521, 1522.\n",
      "  W.__init__(\n"
     ]
    },
    {
     "name": "stdout",
     "output_type": "stream",
     "text": [
      "('WARNING: ', 0, ' is an island (no neighbors)')\n",
      "('WARNING: ', 1, ' is an island (no neighbors)')\n",
      "('WARNING: ', 4, ' is an island (no neighbors)')\n",
      "('WARNING: ', 50, ' is an island (no neighbors)')\n",
      "('WARNING: ', 84, ' is an island (no neighbors)')\n",
      "('WARNING: ', 302, ' is an island (no neighbors)')\n",
      "('WARNING: ', 1405, ' is an island (no neighbors)')\n",
      "('WARNING: ', 1510, ' is an island (no neighbors)')\n",
      "('WARNING: ', 1511, ' is an island (no neighbors)')\n",
      "('WARNING: ', 1512, ' is an island (no neighbors)')\n",
      "('WARNING: ', 1513, ' is an island (no neighbors)')\n",
      "('WARNING: ', 1521, ' is an island (no neighbors)')\n",
      "('WARNING: ', 1522, ' is an island (no neighbors)')\n"
     ]
    },
    {
     "name": "stderr",
     "output_type": "stream",
     "text": [
      "/home/briochamsley/.cache/pypoetry/virtualenvs/oqapi-analysis-QKiHp62D-py3.12/lib/python3.12/site-packages/libpysal/weights/util.py:826: UserWarning: The weights matrix is not fully connected: \n",
      " There are 7 disconnected components.\n",
      "  w = W(neighbors, weights, ids, **kwargs)\n",
      "/home/briochamsley/.cache/pypoetry/virtualenvs/oqapi-analysis-QKiHp62D-py3.12/lib/python3.12/site-packages/libpysal/weights/distance.py:844: UserWarning: The weights matrix is not fully connected: \n",
      " There are 7 disconnected components.\n",
      "  W.__init__(\n"
     ]
    },
    {
     "name": "stdout",
     "output_type": "stream",
     "text": [
      "2013-01-01\n",
      "1523\n",
      "1523\n",
      "got 1523 samples\n"
     ]
    },
    {
     "name": "stderr",
     "output_type": "stream",
     "text": [
      "/home/briochamsley/.cache/pypoetry/virtualenvs/oqapi-analysis-QKiHp62D-py3.12/lib/python3.12/site-packages/libpysal/weights/util.py:826: UserWarning: The weights matrix is not fully connected: \n",
      " There are 20 disconnected components.\n",
      " There are 13 islands with ids: 0, 1, 4, 50, 84, 302, 1405, 1510, 1511, 1512, 1513, 1521, 1522.\n",
      "  w = W(neighbors, weights, ids, **kwargs)\n",
      "/home/briochamsley/.cache/pypoetry/virtualenvs/oqapi-analysis-QKiHp62D-py3.12/lib/python3.12/site-packages/libpysal/weights/distance.py:844: UserWarning: The weights matrix is not fully connected: \n",
      " There are 20 disconnected components.\n",
      " There are 13 islands with ids: 0, 1, 4, 50, 84, 302, 1405, 1510, 1511, 1512, 1513, 1521, 1522.\n",
      "  W.__init__(\n"
     ]
    },
    {
     "name": "stdout",
     "output_type": "stream",
     "text": [
      "('WARNING: ', 0, ' is an island (no neighbors)')\n",
      "('WARNING: ', 1, ' is an island (no neighbors)')\n",
      "('WARNING: ', 4, ' is an island (no neighbors)')\n",
      "('WARNING: ', 50, ' is an island (no neighbors)')\n",
      "('WARNING: ', 84, ' is an island (no neighbors)')\n",
      "('WARNING: ', 302, ' is an island (no neighbors)')\n",
      "('WARNING: ', 1405, ' is an island (no neighbors)')\n",
      "('WARNING: ', 1510, ' is an island (no neighbors)')\n",
      "('WARNING: ', 1511, ' is an island (no neighbors)')\n",
      "('WARNING: ', 1512, ' is an island (no neighbors)')\n",
      "('WARNING: ', 1513, ' is an island (no neighbors)')\n",
      "('WARNING: ', 1521, ' is an island (no neighbors)')\n",
      "('WARNING: ', 1522, ' is an island (no neighbors)')\n"
     ]
    },
    {
     "name": "stderr",
     "output_type": "stream",
     "text": [
      "/home/briochamsley/.cache/pypoetry/virtualenvs/oqapi-analysis-QKiHp62D-py3.12/lib/python3.12/site-packages/libpysal/weights/util.py:826: UserWarning: The weights matrix is not fully connected: \n",
      " There are 7 disconnected components.\n",
      "  w = W(neighbors, weights, ids, **kwargs)\n",
      "/home/briochamsley/.cache/pypoetry/virtualenvs/oqapi-analysis-QKiHp62D-py3.12/lib/python3.12/site-packages/libpysal/weights/distance.py:844: UserWarning: The weights matrix is not fully connected: \n",
      " There are 7 disconnected components.\n",
      "  W.__init__(\n"
     ]
    },
    {
     "name": "stdout",
     "output_type": "stream",
     "text": [
      "2014-01-01\n",
      "1523\n",
      "1523\n",
      "got 1523 samples\n"
     ]
    },
    {
     "name": "stderr",
     "output_type": "stream",
     "text": [
      "/home/briochamsley/.cache/pypoetry/virtualenvs/oqapi-analysis-QKiHp62D-py3.12/lib/python3.12/site-packages/libpysal/weights/util.py:826: UserWarning: The weights matrix is not fully connected: \n",
      " There are 20 disconnected components.\n",
      " There are 13 islands with ids: 0, 1, 4, 50, 84, 302, 1405, 1510, 1511, 1512, 1513, 1521, 1522.\n",
      "  w = W(neighbors, weights, ids, **kwargs)\n",
      "/home/briochamsley/.cache/pypoetry/virtualenvs/oqapi-analysis-QKiHp62D-py3.12/lib/python3.12/site-packages/libpysal/weights/distance.py:844: UserWarning: The weights matrix is not fully connected: \n",
      " There are 20 disconnected components.\n",
      " There are 13 islands with ids: 0, 1, 4, 50, 84, 302, 1405, 1510, 1511, 1512, 1513, 1521, 1522.\n",
      "  W.__init__(\n"
     ]
    },
    {
     "name": "stdout",
     "output_type": "stream",
     "text": [
      "('WARNING: ', 0, ' is an island (no neighbors)')\n",
      "('WARNING: ', 1, ' is an island (no neighbors)')\n",
      "('WARNING: ', 4, ' is an island (no neighbors)')\n",
      "('WARNING: ', 50, ' is an island (no neighbors)')\n",
      "('WARNING: ', 84, ' is an island (no neighbors)')\n",
      "('WARNING: ', 302, ' is an island (no neighbors)')\n",
      "('WARNING: ', 1405, ' is an island (no neighbors)')\n",
      "('WARNING: ', 1510, ' is an island (no neighbors)')\n",
      "('WARNING: ', 1511, ' is an island (no neighbors)')\n",
      "('WARNING: ', 1512, ' is an island (no neighbors)')\n",
      "('WARNING: ', 1513, ' is an island (no neighbors)')\n",
      "('WARNING: ', 1521, ' is an island (no neighbors)')\n",
      "('WARNING: ', 1522, ' is an island (no neighbors)')\n"
     ]
    },
    {
     "name": "stderr",
     "output_type": "stream",
     "text": [
      "/home/briochamsley/.cache/pypoetry/virtualenvs/oqapi-analysis-QKiHp62D-py3.12/lib/python3.12/site-packages/libpysal/weights/util.py:826: UserWarning: The weights matrix is not fully connected: \n",
      " There are 7 disconnected components.\n",
      "  w = W(neighbors, weights, ids, **kwargs)\n",
      "/home/briochamsley/.cache/pypoetry/virtualenvs/oqapi-analysis-QKiHp62D-py3.12/lib/python3.12/site-packages/libpysal/weights/distance.py:844: UserWarning: The weights matrix is not fully connected: \n",
      " There are 7 disconnected components.\n",
      "  W.__init__(\n"
     ]
    },
    {
     "name": "stdout",
     "output_type": "stream",
     "text": [
      "2015-01-01\n",
      "1523\n",
      "1523\n",
      "got 1523 samples\n"
     ]
    },
    {
     "name": "stderr",
     "output_type": "stream",
     "text": [
      "/home/briochamsley/.cache/pypoetry/virtualenvs/oqapi-analysis-QKiHp62D-py3.12/lib/python3.12/site-packages/libpysal/weights/util.py:826: UserWarning: The weights matrix is not fully connected: \n",
      " There are 20 disconnected components.\n",
      " There are 13 islands with ids: 0, 1, 4, 50, 84, 302, 1405, 1510, 1511, 1512, 1513, 1521, 1522.\n",
      "  w = W(neighbors, weights, ids, **kwargs)\n",
      "/home/briochamsley/.cache/pypoetry/virtualenvs/oqapi-analysis-QKiHp62D-py3.12/lib/python3.12/site-packages/libpysal/weights/distance.py:844: UserWarning: The weights matrix is not fully connected: \n",
      " There are 20 disconnected components.\n",
      " There are 13 islands with ids: 0, 1, 4, 50, 84, 302, 1405, 1510, 1511, 1512, 1513, 1521, 1522.\n",
      "  W.__init__(\n"
     ]
    },
    {
     "name": "stdout",
     "output_type": "stream",
     "text": [
      "('WARNING: ', 0, ' is an island (no neighbors)')\n",
      "('WARNING: ', 1, ' is an island (no neighbors)')\n",
      "('WARNING: ', 4, ' is an island (no neighbors)')\n",
      "('WARNING: ', 50, ' is an island (no neighbors)')\n",
      "('WARNING: ', 84, ' is an island (no neighbors)')\n",
      "('WARNING: ', 302, ' is an island (no neighbors)')\n",
      "('WARNING: ', 1405, ' is an island (no neighbors)')\n",
      "('WARNING: ', 1510, ' is an island (no neighbors)')\n",
      "('WARNING: ', 1511, ' is an island (no neighbors)')\n",
      "('WARNING: ', 1512, ' is an island (no neighbors)')\n",
      "('WARNING: ', 1513, ' is an island (no neighbors)')\n",
      "('WARNING: ', 1521, ' is an island (no neighbors)')\n",
      "('WARNING: ', 1522, ' is an island (no neighbors)')\n"
     ]
    },
    {
     "name": "stderr",
     "output_type": "stream",
     "text": [
      "/home/briochamsley/.cache/pypoetry/virtualenvs/oqapi-analysis-QKiHp62D-py3.12/lib/python3.12/site-packages/libpysal/weights/util.py:826: UserWarning: The weights matrix is not fully connected: \n",
      " There are 7 disconnected components.\n",
      "  w = W(neighbors, weights, ids, **kwargs)\n",
      "/home/briochamsley/.cache/pypoetry/virtualenvs/oqapi-analysis-QKiHp62D-py3.12/lib/python3.12/site-packages/libpysal/weights/distance.py:844: UserWarning: The weights matrix is not fully connected: \n",
      " There are 7 disconnected components.\n",
      "  W.__init__(\n"
     ]
    },
    {
     "name": "stdout",
     "output_type": "stream",
     "text": [
      "2016-01-01\n",
      "1523\n",
      "1523\n",
      "got 1523 samples\n"
     ]
    },
    {
     "name": "stderr",
     "output_type": "stream",
     "text": [
      "/home/briochamsley/.cache/pypoetry/virtualenvs/oqapi-analysis-QKiHp62D-py3.12/lib/python3.12/site-packages/libpysal/weights/util.py:826: UserWarning: The weights matrix is not fully connected: \n",
      " There are 20 disconnected components.\n",
      " There are 13 islands with ids: 0, 1, 4, 50, 84, 302, 1405, 1510, 1511, 1512, 1513, 1521, 1522.\n",
      "  w = W(neighbors, weights, ids, **kwargs)\n",
      "/home/briochamsley/.cache/pypoetry/virtualenvs/oqapi-analysis-QKiHp62D-py3.12/lib/python3.12/site-packages/libpysal/weights/distance.py:844: UserWarning: The weights matrix is not fully connected: \n",
      " There are 20 disconnected components.\n",
      " There are 13 islands with ids: 0, 1, 4, 50, 84, 302, 1405, 1510, 1511, 1512, 1513, 1521, 1522.\n",
      "  W.__init__(\n"
     ]
    },
    {
     "name": "stdout",
     "output_type": "stream",
     "text": [
      "('WARNING: ', 0, ' is an island (no neighbors)')\n",
      "('WARNING: ', 1, ' is an island (no neighbors)')\n",
      "('WARNING: ', 4, ' is an island (no neighbors)')\n",
      "('WARNING: ', 50, ' is an island (no neighbors)')\n",
      "('WARNING: ', 84, ' is an island (no neighbors)')\n",
      "('WARNING: ', 302, ' is an island (no neighbors)')\n",
      "('WARNING: ', 1405, ' is an island (no neighbors)')\n",
      "('WARNING: ', 1510, ' is an island (no neighbors)')\n",
      "('WARNING: ', 1511, ' is an island (no neighbors)')\n",
      "('WARNING: ', 1512, ' is an island (no neighbors)')\n",
      "('WARNING: ', 1513, ' is an island (no neighbors)')\n",
      "('WARNING: ', 1521, ' is an island (no neighbors)')\n",
      "('WARNING: ', 1522, ' is an island (no neighbors)')\n"
     ]
    },
    {
     "name": "stderr",
     "output_type": "stream",
     "text": [
      "/home/briochamsley/.cache/pypoetry/virtualenvs/oqapi-analysis-QKiHp62D-py3.12/lib/python3.12/site-packages/libpysal/weights/util.py:826: UserWarning: The weights matrix is not fully connected: \n",
      " There are 7 disconnected components.\n",
      "  w = W(neighbors, weights, ids, **kwargs)\n",
      "/home/briochamsley/.cache/pypoetry/virtualenvs/oqapi-analysis-QKiHp62D-py3.12/lib/python3.12/site-packages/libpysal/weights/distance.py:844: UserWarning: The weights matrix is not fully connected: \n",
      " There are 7 disconnected components.\n",
      "  W.__init__(\n"
     ]
    },
    {
     "name": "stdout",
     "output_type": "stream",
     "text": [
      "2017-01-01\n",
      "1523\n",
      "1523\n",
      "got 1523 samples\n"
     ]
    },
    {
     "name": "stderr",
     "output_type": "stream",
     "text": [
      "/home/briochamsley/.cache/pypoetry/virtualenvs/oqapi-analysis-QKiHp62D-py3.12/lib/python3.12/site-packages/libpysal/weights/util.py:826: UserWarning: The weights matrix is not fully connected: \n",
      " There are 20 disconnected components.\n",
      " There are 13 islands with ids: 0, 1, 4, 50, 84, 302, 1405, 1510, 1511, 1512, 1513, 1521, 1522.\n",
      "  w = W(neighbors, weights, ids, **kwargs)\n",
      "/home/briochamsley/.cache/pypoetry/virtualenvs/oqapi-analysis-QKiHp62D-py3.12/lib/python3.12/site-packages/libpysal/weights/distance.py:844: UserWarning: The weights matrix is not fully connected: \n",
      " There are 20 disconnected components.\n",
      " There are 13 islands with ids: 0, 1, 4, 50, 84, 302, 1405, 1510, 1511, 1512, 1513, 1521, 1522.\n",
      "  W.__init__(\n"
     ]
    },
    {
     "name": "stdout",
     "output_type": "stream",
     "text": [
      "('WARNING: ', 0, ' is an island (no neighbors)')\n",
      "('WARNING: ', 1, ' is an island (no neighbors)')\n",
      "('WARNING: ', 4, ' is an island (no neighbors)')\n",
      "('WARNING: ', 50, ' is an island (no neighbors)')\n",
      "('WARNING: ', 84, ' is an island (no neighbors)')\n",
      "('WARNING: ', 302, ' is an island (no neighbors)')\n",
      "('WARNING: ', 1405, ' is an island (no neighbors)')\n",
      "('WARNING: ', 1510, ' is an island (no neighbors)')\n",
      "('WARNING: ', 1511, ' is an island (no neighbors)')\n",
      "('WARNING: ', 1512, ' is an island (no neighbors)')\n",
      "('WARNING: ', 1513, ' is an island (no neighbors)')\n",
      "('WARNING: ', 1521, ' is an island (no neighbors)')\n",
      "('WARNING: ', 1522, ' is an island (no neighbors)')\n"
     ]
    },
    {
     "name": "stderr",
     "output_type": "stream",
     "text": [
      "/home/briochamsley/.cache/pypoetry/virtualenvs/oqapi-analysis-QKiHp62D-py3.12/lib/python3.12/site-packages/libpysal/weights/util.py:826: UserWarning: The weights matrix is not fully connected: \n",
      " There are 7 disconnected components.\n",
      "  w = W(neighbors, weights, ids, **kwargs)\n",
      "/home/briochamsley/.cache/pypoetry/virtualenvs/oqapi-analysis-QKiHp62D-py3.12/lib/python3.12/site-packages/libpysal/weights/distance.py:844: UserWarning: The weights matrix is not fully connected: \n",
      " There are 7 disconnected components.\n",
      "  W.__init__(\n"
     ]
    },
    {
     "name": "stdout",
     "output_type": "stream",
     "text": [
      "2018-01-01\n",
      "1523\n",
      "1523\n",
      "got 1523 samples\n"
     ]
    },
    {
     "name": "stderr",
     "output_type": "stream",
     "text": [
      "/home/briochamsley/.cache/pypoetry/virtualenvs/oqapi-analysis-QKiHp62D-py3.12/lib/python3.12/site-packages/libpysal/weights/util.py:826: UserWarning: The weights matrix is not fully connected: \n",
      " There are 20 disconnected components.\n",
      " There are 13 islands with ids: 0, 1, 4, 50, 84, 302, 1405, 1510, 1511, 1512, 1513, 1521, 1522.\n",
      "  w = W(neighbors, weights, ids, **kwargs)\n",
      "/home/briochamsley/.cache/pypoetry/virtualenvs/oqapi-analysis-QKiHp62D-py3.12/lib/python3.12/site-packages/libpysal/weights/distance.py:844: UserWarning: The weights matrix is not fully connected: \n",
      " There are 20 disconnected components.\n",
      " There are 13 islands with ids: 0, 1, 4, 50, 84, 302, 1405, 1510, 1511, 1512, 1513, 1521, 1522.\n",
      "  W.__init__(\n"
     ]
    },
    {
     "name": "stdout",
     "output_type": "stream",
     "text": [
      "('WARNING: ', 0, ' is an island (no neighbors)')\n",
      "('WARNING: ', 1, ' is an island (no neighbors)')\n",
      "('WARNING: ', 4, ' is an island (no neighbors)')\n",
      "('WARNING: ', 50, ' is an island (no neighbors)')\n",
      "('WARNING: ', 84, ' is an island (no neighbors)')\n",
      "('WARNING: ', 302, ' is an island (no neighbors)')\n",
      "('WARNING: ', 1405, ' is an island (no neighbors)')\n",
      "('WARNING: ', 1510, ' is an island (no neighbors)')\n",
      "('WARNING: ', 1511, ' is an island (no neighbors)')\n",
      "('WARNING: ', 1512, ' is an island (no neighbors)')\n",
      "('WARNING: ', 1513, ' is an island (no neighbors)')\n",
      "('WARNING: ', 1521, ' is an island (no neighbors)')\n",
      "('WARNING: ', 1522, ' is an island (no neighbors)')\n"
     ]
    },
    {
     "name": "stderr",
     "output_type": "stream",
     "text": [
      "/home/briochamsley/.cache/pypoetry/virtualenvs/oqapi-analysis-QKiHp62D-py3.12/lib/python3.12/site-packages/libpysal/weights/util.py:826: UserWarning: The weights matrix is not fully connected: \n",
      " There are 7 disconnected components.\n",
      "  w = W(neighbors, weights, ids, **kwargs)\n",
      "/home/briochamsley/.cache/pypoetry/virtualenvs/oqapi-analysis-QKiHp62D-py3.12/lib/python3.12/site-packages/libpysal/weights/distance.py:844: UserWarning: The weights matrix is not fully connected: \n",
      " There are 7 disconnected components.\n",
      "  W.__init__(\n"
     ]
    },
    {
     "name": "stdout",
     "output_type": "stream",
     "text": [
      "2019-01-01\n",
      "1523\n",
      "1523\n",
      "got 1523 samples\n"
     ]
    },
    {
     "name": "stderr",
     "output_type": "stream",
     "text": [
      "/home/briochamsley/.cache/pypoetry/virtualenvs/oqapi-analysis-QKiHp62D-py3.12/lib/python3.12/site-packages/libpysal/weights/util.py:826: UserWarning: The weights matrix is not fully connected: \n",
      " There are 20 disconnected components.\n",
      " There are 13 islands with ids: 0, 1, 4, 50, 84, 302, 1405, 1510, 1511, 1512, 1513, 1521, 1522.\n",
      "  w = W(neighbors, weights, ids, **kwargs)\n",
      "/home/briochamsley/.cache/pypoetry/virtualenvs/oqapi-analysis-QKiHp62D-py3.12/lib/python3.12/site-packages/libpysal/weights/distance.py:844: UserWarning: The weights matrix is not fully connected: \n",
      " There are 20 disconnected components.\n",
      " There are 13 islands with ids: 0, 1, 4, 50, 84, 302, 1405, 1510, 1511, 1512, 1513, 1521, 1522.\n",
      "  W.__init__(\n"
     ]
    },
    {
     "name": "stdout",
     "output_type": "stream",
     "text": [
      "('WARNING: ', 0, ' is an island (no neighbors)')\n",
      "('WARNING: ', 1, ' is an island (no neighbors)')\n",
      "('WARNING: ', 4, ' is an island (no neighbors)')\n",
      "('WARNING: ', 50, ' is an island (no neighbors)')\n",
      "('WARNING: ', 84, ' is an island (no neighbors)')\n",
      "('WARNING: ', 302, ' is an island (no neighbors)')\n",
      "('WARNING: ', 1405, ' is an island (no neighbors)')\n",
      "('WARNING: ', 1510, ' is an island (no neighbors)')\n",
      "('WARNING: ', 1511, ' is an island (no neighbors)')\n",
      "('WARNING: ', 1512, ' is an island (no neighbors)')\n",
      "('WARNING: ', 1513, ' is an island (no neighbors)')\n",
      "('WARNING: ', 1521, ' is an island (no neighbors)')\n",
      "('WARNING: ', 1522, ' is an island (no neighbors)')\n"
     ]
    },
    {
     "name": "stderr",
     "output_type": "stream",
     "text": [
      "/home/briochamsley/.cache/pypoetry/virtualenvs/oqapi-analysis-QKiHp62D-py3.12/lib/python3.12/site-packages/libpysal/weights/util.py:826: UserWarning: The weights matrix is not fully connected: \n",
      " There are 7 disconnected components.\n",
      "  w = W(neighbors, weights, ids, **kwargs)\n",
      "/home/briochamsley/.cache/pypoetry/virtualenvs/oqapi-analysis-QKiHp62D-py3.12/lib/python3.12/site-packages/libpysal/weights/distance.py:844: UserWarning: The weights matrix is not fully connected: \n",
      " There are 7 disconnected components.\n",
      "  W.__init__(\n"
     ]
    },
    {
     "name": "stdout",
     "output_type": "stream",
     "text": [
      "2020-01-01\n",
      "1523\n",
      "1523\n",
      "got 1523 samples\n"
     ]
    },
    {
     "name": "stderr",
     "output_type": "stream",
     "text": [
      "/home/briochamsley/.cache/pypoetry/virtualenvs/oqapi-analysis-QKiHp62D-py3.12/lib/python3.12/site-packages/libpysal/weights/util.py:826: UserWarning: The weights matrix is not fully connected: \n",
      " There are 20 disconnected components.\n",
      " There are 13 islands with ids: 0, 1, 4, 50, 84, 302, 1405, 1510, 1511, 1512, 1513, 1521, 1522.\n",
      "  w = W(neighbors, weights, ids, **kwargs)\n",
      "/home/briochamsley/.cache/pypoetry/virtualenvs/oqapi-analysis-QKiHp62D-py3.12/lib/python3.12/site-packages/libpysal/weights/distance.py:844: UserWarning: The weights matrix is not fully connected: \n",
      " There are 20 disconnected components.\n",
      " There are 13 islands with ids: 0, 1, 4, 50, 84, 302, 1405, 1510, 1511, 1512, 1513, 1521, 1522.\n",
      "  W.__init__(\n"
     ]
    },
    {
     "name": "stdout",
     "output_type": "stream",
     "text": [
      "('WARNING: ', 0, ' is an island (no neighbors)')\n",
      "('WARNING: ', 1, ' is an island (no neighbors)')\n",
      "('WARNING: ', 4, ' is an island (no neighbors)')\n",
      "('WARNING: ', 50, ' is an island (no neighbors)')\n",
      "('WARNING: ', 84, ' is an island (no neighbors)')\n",
      "('WARNING: ', 302, ' is an island (no neighbors)')\n",
      "('WARNING: ', 1405, ' is an island (no neighbors)')\n",
      "('WARNING: ', 1510, ' is an island (no neighbors)')\n",
      "('WARNING: ', 1511, ' is an island (no neighbors)')\n",
      "('WARNING: ', 1512, ' is an island (no neighbors)')\n",
      "('WARNING: ', 1513, ' is an island (no neighbors)')\n",
      "('WARNING: ', 1521, ' is an island (no neighbors)')\n",
      "('WARNING: ', 1522, ' is an island (no neighbors)')\n"
     ]
    },
    {
     "name": "stderr",
     "output_type": "stream",
     "text": [
      "/home/briochamsley/.cache/pypoetry/virtualenvs/oqapi-analysis-QKiHp62D-py3.12/lib/python3.12/site-packages/libpysal/weights/util.py:826: UserWarning: The weights matrix is not fully connected: \n",
      " There are 7 disconnected components.\n",
      "  w = W(neighbors, weights, ids, **kwargs)\n",
      "/home/briochamsley/.cache/pypoetry/virtualenvs/oqapi-analysis-QKiHp62D-py3.12/lib/python3.12/site-packages/libpysal/weights/distance.py:844: UserWarning: The weights matrix is not fully connected: \n",
      " There are 7 disconnected components.\n",
      "  W.__init__(\n"
     ]
    },
    {
     "name": "stdout",
     "output_type": "stream",
     "text": [
      "2021-01-01\n",
      "1523\n",
      "1523\n",
      "got 1523 samples\n"
     ]
    },
    {
     "name": "stderr",
     "output_type": "stream",
     "text": [
      "/home/briochamsley/.cache/pypoetry/virtualenvs/oqapi-analysis-QKiHp62D-py3.12/lib/python3.12/site-packages/libpysal/weights/util.py:826: UserWarning: The weights matrix is not fully connected: \n",
      " There are 20 disconnected components.\n",
      " There are 13 islands with ids: 0, 1, 4, 50, 84, 302, 1405, 1510, 1511, 1512, 1513, 1521, 1522.\n",
      "  w = W(neighbors, weights, ids, **kwargs)\n",
      "/home/briochamsley/.cache/pypoetry/virtualenvs/oqapi-analysis-QKiHp62D-py3.12/lib/python3.12/site-packages/libpysal/weights/distance.py:844: UserWarning: The weights matrix is not fully connected: \n",
      " There are 20 disconnected components.\n",
      " There are 13 islands with ids: 0, 1, 4, 50, 84, 302, 1405, 1510, 1511, 1512, 1513, 1521, 1522.\n",
      "  W.__init__(\n"
     ]
    },
    {
     "name": "stdout",
     "output_type": "stream",
     "text": [
      "('WARNING: ', 0, ' is an island (no neighbors)')\n",
      "('WARNING: ', 1, ' is an island (no neighbors)')\n",
      "('WARNING: ', 4, ' is an island (no neighbors)')\n",
      "('WARNING: ', 50, ' is an island (no neighbors)')\n",
      "('WARNING: ', 84, ' is an island (no neighbors)')\n",
      "('WARNING: ', 302, ' is an island (no neighbors)')\n",
      "('WARNING: ', 1405, ' is an island (no neighbors)')\n",
      "('WARNING: ', 1510, ' is an island (no neighbors)')\n",
      "('WARNING: ', 1511, ' is an island (no neighbors)')\n",
      "('WARNING: ', 1512, ' is an island (no neighbors)')\n",
      "('WARNING: ', 1513, ' is an island (no neighbors)')\n",
      "('WARNING: ', 1521, ' is an island (no neighbors)')\n",
      "('WARNING: ', 1522, ' is an island (no neighbors)')\n"
     ]
    },
    {
     "name": "stderr",
     "output_type": "stream",
     "text": [
      "/home/briochamsley/.cache/pypoetry/virtualenvs/oqapi-analysis-QKiHp62D-py3.12/lib/python3.12/site-packages/libpysal/weights/util.py:826: UserWarning: The weights matrix is not fully connected: \n",
      " There are 7 disconnected components.\n",
      "  w = W(neighbors, weights, ids, **kwargs)\n",
      "/home/briochamsley/.cache/pypoetry/virtualenvs/oqapi-analysis-QKiHp62D-py3.12/lib/python3.12/site-packages/libpysal/weights/distance.py:844: UserWarning: The weights matrix is not fully connected: \n",
      " There are 7 disconnected components.\n",
      "  W.__init__(\n"
     ]
    },
    {
     "name": "stdout",
     "output_type": "stream",
     "text": [
      "2022-01-01\n",
      "1523\n",
      "1523\n",
      "got 1523 samples\n"
     ]
    },
    {
     "name": "stderr",
     "output_type": "stream",
     "text": [
      "/home/briochamsley/.cache/pypoetry/virtualenvs/oqapi-analysis-QKiHp62D-py3.12/lib/python3.12/site-packages/libpysal/weights/util.py:826: UserWarning: The weights matrix is not fully connected: \n",
      " There are 20 disconnected components.\n",
      " There are 13 islands with ids: 0, 1, 4, 50, 84, 302, 1405, 1510, 1511, 1512, 1513, 1521, 1522.\n",
      "  w = W(neighbors, weights, ids, **kwargs)\n",
      "/home/briochamsley/.cache/pypoetry/virtualenvs/oqapi-analysis-QKiHp62D-py3.12/lib/python3.12/site-packages/libpysal/weights/distance.py:844: UserWarning: The weights matrix is not fully connected: \n",
      " There are 20 disconnected components.\n",
      " There are 13 islands with ids: 0, 1, 4, 50, 84, 302, 1405, 1510, 1511, 1512, 1513, 1521, 1522.\n",
      "  W.__init__(\n"
     ]
    },
    {
     "name": "stdout",
     "output_type": "stream",
     "text": [
      "('WARNING: ', 0, ' is an island (no neighbors)')\n",
      "('WARNING: ', 1, ' is an island (no neighbors)')\n",
      "('WARNING: ', 4, ' is an island (no neighbors)')\n",
      "('WARNING: ', 50, ' is an island (no neighbors)')\n",
      "('WARNING: ', 84, ' is an island (no neighbors)')\n",
      "('WARNING: ', 302, ' is an island (no neighbors)')\n",
      "('WARNING: ', 1405, ' is an island (no neighbors)')\n",
      "('WARNING: ', 1510, ' is an island (no neighbors)')\n",
      "('WARNING: ', 1511, ' is an island (no neighbors)')\n",
      "('WARNING: ', 1512, ' is an island (no neighbors)')\n",
      "('WARNING: ', 1513, ' is an island (no neighbors)')\n",
      "('WARNING: ', 1521, ' is an island (no neighbors)')\n",
      "('WARNING: ', 1522, ' is an island (no neighbors)')\n"
     ]
    },
    {
     "name": "stderr",
     "output_type": "stream",
     "text": [
      "/home/briochamsley/.cache/pypoetry/virtualenvs/oqapi-analysis-QKiHp62D-py3.12/lib/python3.12/site-packages/libpysal/weights/util.py:826: UserWarning: The weights matrix is not fully connected: \n",
      " There are 7 disconnected components.\n",
      "  w = W(neighbors, weights, ids, **kwargs)\n",
      "/home/briochamsley/.cache/pypoetry/virtualenvs/oqapi-analysis-QKiHp62D-py3.12/lib/python3.12/site-packages/libpysal/weights/distance.py:844: UserWarning: The weights matrix is not fully connected: \n",
      " There are 7 disconnected components.\n",
      "  W.__init__(\n"
     ]
    },
    {
     "name": "stdout",
     "output_type": "stream",
     "text": [
      "2023-01-01\n",
      "1523\n",
      "1523\n",
      "got 1523 samples\n"
     ]
    },
    {
     "name": "stderr",
     "output_type": "stream",
     "text": [
      "/home/briochamsley/.cache/pypoetry/virtualenvs/oqapi-analysis-QKiHp62D-py3.12/lib/python3.12/site-packages/libpysal/weights/util.py:826: UserWarning: The weights matrix is not fully connected: \n",
      " There are 20 disconnected components.\n",
      " There are 13 islands with ids: 0, 1, 4, 50, 84, 302, 1405, 1510, 1511, 1512, 1513, 1521, 1522.\n",
      "  w = W(neighbors, weights, ids, **kwargs)\n",
      "/home/briochamsley/.cache/pypoetry/virtualenvs/oqapi-analysis-QKiHp62D-py3.12/lib/python3.12/site-packages/libpysal/weights/distance.py:844: UserWarning: The weights matrix is not fully connected: \n",
      " There are 20 disconnected components.\n",
      " There are 13 islands with ids: 0, 1, 4, 50, 84, 302, 1405, 1510, 1511, 1512, 1513, 1521, 1522.\n",
      "  W.__init__(\n"
     ]
    },
    {
     "name": "stdout",
     "output_type": "stream",
     "text": [
      "('WARNING: ', 0, ' is an island (no neighbors)')\n",
      "('WARNING: ', 1, ' is an island (no neighbors)')\n",
      "('WARNING: ', 4, ' is an island (no neighbors)')\n",
      "('WARNING: ', 50, ' is an island (no neighbors)')\n",
      "('WARNING: ', 84, ' is an island (no neighbors)')\n",
      "('WARNING: ', 302, ' is an island (no neighbors)')\n",
      "('WARNING: ', 1405, ' is an island (no neighbors)')\n",
      "('WARNING: ', 1510, ' is an island (no neighbors)')\n",
      "('WARNING: ', 1511, ' is an island (no neighbors)')\n",
      "('WARNING: ', 1512, ' is an island (no neighbors)')\n",
      "('WARNING: ', 1513, ' is an island (no neighbors)')\n",
      "('WARNING: ', 1521, ' is an island (no neighbors)')\n",
      "('WARNING: ', 1522, ' is an island (no neighbors)')\n"
     ]
    },
    {
     "name": "stderr",
     "output_type": "stream",
     "text": [
      "/home/briochamsley/.cache/pypoetry/virtualenvs/oqapi-analysis-QKiHp62D-py3.12/lib/python3.12/site-packages/libpysal/weights/util.py:826: UserWarning: The weights matrix is not fully connected: \n",
      " There are 7 disconnected components.\n",
      "  w = W(neighbors, weights, ids, **kwargs)\n",
      "/home/briochamsley/.cache/pypoetry/virtualenvs/oqapi-analysis-QKiHp62D-py3.12/lib/python3.12/site-packages/libpysal/weights/distance.py:844: UserWarning: The weights matrix is not fully connected: \n",
      " There are 7 disconnected components.\n",
      "  W.__init__(\n"
     ]
    },
    {
     "name": "stdout",
     "output_type": "stream",
     "text": [
      "2024-01-01\n",
      "1523\n",
      "1523\n",
      "got 1523 samples\n"
     ]
    },
    {
     "name": "stderr",
     "output_type": "stream",
     "text": [
      "/home/briochamsley/.cache/pypoetry/virtualenvs/oqapi-analysis-QKiHp62D-py3.12/lib/python3.12/site-packages/libpysal/weights/util.py:826: UserWarning: The weights matrix is not fully connected: \n",
      " There are 20 disconnected components.\n",
      " There are 13 islands with ids: 0, 1, 4, 50, 84, 302, 1405, 1510, 1511, 1512, 1513, 1521, 1522.\n",
      "  w = W(neighbors, weights, ids, **kwargs)\n",
      "/home/briochamsley/.cache/pypoetry/virtualenvs/oqapi-analysis-QKiHp62D-py3.12/lib/python3.12/site-packages/libpysal/weights/distance.py:844: UserWarning: The weights matrix is not fully connected: \n",
      " There are 20 disconnected components.\n",
      " There are 13 islands with ids: 0, 1, 4, 50, 84, 302, 1405, 1510, 1511, 1512, 1513, 1521, 1522.\n",
      "  W.__init__(\n"
     ]
    },
    {
     "name": "stdout",
     "output_type": "stream",
     "text": [
      "('WARNING: ', 0, ' is an island (no neighbors)')\n",
      "('WARNING: ', 1, ' is an island (no neighbors)')\n",
      "('WARNING: ', 4, ' is an island (no neighbors)')\n",
      "('WARNING: ', 50, ' is an island (no neighbors)')\n",
      "('WARNING: ', 84, ' is an island (no neighbors)')\n",
      "('WARNING: ', 302, ' is an island (no neighbors)')\n",
      "('WARNING: ', 1405, ' is an island (no neighbors)')\n",
      "('WARNING: ', 1510, ' is an island (no neighbors)')\n",
      "('WARNING: ', 1511, ' is an island (no neighbors)')\n",
      "('WARNING: ', 1512, ' is an island (no neighbors)')\n",
      "('WARNING: ', 1513, ' is an island (no neighbors)')\n",
      "('WARNING: ', 1521, ' is an island (no neighbors)')\n",
      "('WARNING: ', 1522, ' is an island (no neighbors)')\n"
     ]
    },
    {
     "name": "stderr",
     "output_type": "stream",
     "text": [
      "/home/briochamsley/.cache/pypoetry/virtualenvs/oqapi-analysis-QKiHp62D-py3.12/lib/python3.12/site-packages/libpysal/weights/util.py:826: UserWarning: The weights matrix is not fully connected: \n",
      " There are 7 disconnected components.\n",
      "  w = W(neighbors, weights, ids, **kwargs)\n",
      "/home/briochamsley/.cache/pypoetry/virtualenvs/oqapi-analysis-QKiHp62D-py3.12/lib/python3.12/site-packages/libpysal/weights/distance.py:844: UserWarning: The weights matrix is not fully connected: \n",
      " There are 7 disconnected components.\n",
      "  W.__init__(\n"
     ]
    },
    {
     "name": "stdout",
     "output_type": "stream",
     "text": [
      "2024-05-01\n",
      "1523\n",
      "1523\n",
      "got 1523 samples\n"
     ]
    },
    {
     "name": "stderr",
     "output_type": "stream",
     "text": [
      "/home/briochamsley/.cache/pypoetry/virtualenvs/oqapi-analysis-QKiHp62D-py3.12/lib/python3.12/site-packages/libpysal/weights/util.py:826: UserWarning: The weights matrix is not fully connected: \n",
      " There are 20 disconnected components.\n",
      " There are 13 islands with ids: 0, 1, 4, 50, 84, 302, 1405, 1510, 1511, 1512, 1513, 1521, 1522.\n",
      "  w = W(neighbors, weights, ids, **kwargs)\n",
      "/home/briochamsley/.cache/pypoetry/virtualenvs/oqapi-analysis-QKiHp62D-py3.12/lib/python3.12/site-packages/libpysal/weights/distance.py:844: UserWarning: The weights matrix is not fully connected: \n",
      " There are 20 disconnected components.\n",
      " There are 13 islands with ids: 0, 1, 4, 50, 84, 302, 1405, 1510, 1511, 1512, 1513, 1521, 1522.\n",
      "  W.__init__(\n"
     ]
    },
    {
     "name": "stdout",
     "output_type": "stream",
     "text": [
      "('WARNING: ', 0, ' is an island (no neighbors)')\n",
      "('WARNING: ', 1, ' is an island (no neighbors)')\n",
      "('WARNING: ', 4, ' is an island (no neighbors)')\n",
      "('WARNING: ', 50, ' is an island (no neighbors)')\n",
      "('WARNING: ', 84, ' is an island (no neighbors)')\n",
      "('WARNING: ', 302, ' is an island (no neighbors)')\n",
      "('WARNING: ', 1405, ' is an island (no neighbors)')\n",
      "('WARNING: ', 1510, ' is an island (no neighbors)')\n",
      "('WARNING: ', 1511, ' is an island (no neighbors)')\n",
      "('WARNING: ', 1512, ' is an island (no neighbors)')\n",
      "('WARNING: ', 1513, ' is an island (no neighbors)')\n",
      "('WARNING: ', 1521, ' is an island (no neighbors)')\n",
      "('WARNING: ', 1522, ' is an island (no neighbors)')\n"
     ]
    },
    {
     "name": "stderr",
     "output_type": "stream",
     "text": [
      "/home/briochamsley/.cache/pypoetry/virtualenvs/oqapi-analysis-QKiHp62D-py3.12/lib/python3.12/site-packages/libpysal/weights/util.py:826: UserWarning: The weights matrix is not fully connected: \n",
      " There are 7 disconnected components.\n",
      "  w = W(neighbors, weights, ids, **kwargs)\n",
      "/home/briochamsley/.cache/pypoetry/virtualenvs/oqapi-analysis-QKiHp62D-py3.12/lib/python3.12/site-packages/libpysal/weights/distance.py:844: UserWarning: The weights matrix is not fully connected: \n",
      " There are 7 disconnected components.\n",
      "  W.__init__(\n"
     ]
    },
    {
     "name": "stdout",
     "output_type": "stream",
     "text": [
      "2008-01-01\n",
      "1091\n",
      "1091\n",
      "got 1091 samples\n"
     ]
    },
    {
     "name": "stderr",
     "output_type": "stream",
     "text": [
      "/home/briochamsley/.cache/pypoetry/virtualenvs/oqapi-analysis-QKiHp62D-py3.12/lib/python3.12/site-packages/libpysal/weights/util.py:826: UserWarning: The weights matrix is not fully connected: \n",
      " There are 2 disconnected components.\n",
      "  w = W(neighbors, weights, ids, **kwargs)\n",
      "/home/briochamsley/.cache/pypoetry/virtualenvs/oqapi-analysis-QKiHp62D-py3.12/lib/python3.12/site-packages/libpysal/weights/distance.py:844: UserWarning: The weights matrix is not fully connected: \n",
      " There are 2 disconnected components.\n",
      "  W.__init__(\n"
     ]
    },
    {
     "name": "stdout",
     "output_type": "stream",
     "text": [
      "2009-01-01\n",
      "1091\n",
      "1091\n",
      "got 1091 samples\n"
     ]
    },
    {
     "name": "stderr",
     "output_type": "stream",
     "text": [
      "/home/briochamsley/.cache/pypoetry/virtualenvs/oqapi-analysis-QKiHp62D-py3.12/lib/python3.12/site-packages/libpysal/weights/util.py:826: UserWarning: The weights matrix is not fully connected: \n",
      " There are 2 disconnected components.\n",
      "  w = W(neighbors, weights, ids, **kwargs)\n",
      "/home/briochamsley/.cache/pypoetry/virtualenvs/oqapi-analysis-QKiHp62D-py3.12/lib/python3.12/site-packages/libpysal/weights/distance.py:844: UserWarning: The weights matrix is not fully connected: \n",
      " There are 2 disconnected components.\n",
      "  W.__init__(\n"
     ]
    },
    {
     "name": "stdout",
     "output_type": "stream",
     "text": [
      "2010-01-01\n",
      "1091\n",
      "1091\n",
      "got 1091 samples\n"
     ]
    },
    {
     "name": "stderr",
     "output_type": "stream",
     "text": [
      "/home/briochamsley/.cache/pypoetry/virtualenvs/oqapi-analysis-QKiHp62D-py3.12/lib/python3.12/site-packages/libpysal/weights/util.py:826: UserWarning: The weights matrix is not fully connected: \n",
      " There are 2 disconnected components.\n",
      "  w = W(neighbors, weights, ids, **kwargs)\n",
      "/home/briochamsley/.cache/pypoetry/virtualenvs/oqapi-analysis-QKiHp62D-py3.12/lib/python3.12/site-packages/libpysal/weights/distance.py:844: UserWarning: The weights matrix is not fully connected: \n",
      " There are 2 disconnected components.\n",
      "  W.__init__(\n"
     ]
    },
    {
     "name": "stdout",
     "output_type": "stream",
     "text": [
      "2011-01-01\n",
      "1091\n",
      "1091\n",
      "got 1091 samples\n"
     ]
    },
    {
     "name": "stderr",
     "output_type": "stream",
     "text": [
      "/home/briochamsley/.cache/pypoetry/virtualenvs/oqapi-analysis-QKiHp62D-py3.12/lib/python3.12/site-packages/libpysal/weights/util.py:826: UserWarning: The weights matrix is not fully connected: \n",
      " There are 2 disconnected components.\n",
      "  w = W(neighbors, weights, ids, **kwargs)\n",
      "/home/briochamsley/.cache/pypoetry/virtualenvs/oqapi-analysis-QKiHp62D-py3.12/lib/python3.12/site-packages/libpysal/weights/distance.py:844: UserWarning: The weights matrix is not fully connected: \n",
      " There are 2 disconnected components.\n",
      "  W.__init__(\n"
     ]
    },
    {
     "name": "stdout",
     "output_type": "stream",
     "text": [
      "2012-01-01\n",
      "1091\n",
      "1091\n",
      "got 1091 samples\n"
     ]
    },
    {
     "name": "stderr",
     "output_type": "stream",
     "text": [
      "/home/briochamsley/.cache/pypoetry/virtualenvs/oqapi-analysis-QKiHp62D-py3.12/lib/python3.12/site-packages/libpysal/weights/util.py:826: UserWarning: The weights matrix is not fully connected: \n",
      " There are 2 disconnected components.\n",
      "  w = W(neighbors, weights, ids, **kwargs)\n",
      "/home/briochamsley/.cache/pypoetry/virtualenvs/oqapi-analysis-QKiHp62D-py3.12/lib/python3.12/site-packages/libpysal/weights/distance.py:844: UserWarning: The weights matrix is not fully connected: \n",
      " There are 2 disconnected components.\n",
      "  W.__init__(\n"
     ]
    },
    {
     "name": "stdout",
     "output_type": "stream",
     "text": [
      "2013-01-01\n",
      "1091\n",
      "1091\n",
      "got 1091 samples\n"
     ]
    },
    {
     "name": "stderr",
     "output_type": "stream",
     "text": [
      "/home/briochamsley/.cache/pypoetry/virtualenvs/oqapi-analysis-QKiHp62D-py3.12/lib/python3.12/site-packages/libpysal/weights/util.py:826: UserWarning: The weights matrix is not fully connected: \n",
      " There are 2 disconnected components.\n",
      "  w = W(neighbors, weights, ids, **kwargs)\n",
      "/home/briochamsley/.cache/pypoetry/virtualenvs/oqapi-analysis-QKiHp62D-py3.12/lib/python3.12/site-packages/libpysal/weights/distance.py:844: UserWarning: The weights matrix is not fully connected: \n",
      " There are 2 disconnected components.\n",
      "  W.__init__(\n"
     ]
    },
    {
     "name": "stdout",
     "output_type": "stream",
     "text": [
      "2014-01-01\n",
      "1091\n",
      "1091\n",
      "got 1091 samples\n"
     ]
    },
    {
     "name": "stderr",
     "output_type": "stream",
     "text": [
      "/home/briochamsley/.cache/pypoetry/virtualenvs/oqapi-analysis-QKiHp62D-py3.12/lib/python3.12/site-packages/libpysal/weights/util.py:826: UserWarning: The weights matrix is not fully connected: \n",
      " There are 2 disconnected components.\n",
      "  w = W(neighbors, weights, ids, **kwargs)\n",
      "/home/briochamsley/.cache/pypoetry/virtualenvs/oqapi-analysis-QKiHp62D-py3.12/lib/python3.12/site-packages/libpysal/weights/distance.py:844: UserWarning: The weights matrix is not fully connected: \n",
      " There are 2 disconnected components.\n",
      "  W.__init__(\n"
     ]
    },
    {
     "name": "stdout",
     "output_type": "stream",
     "text": [
      "2015-01-01\n",
      "1091\n",
      "1091\n",
      "got 1091 samples\n"
     ]
    },
    {
     "name": "stderr",
     "output_type": "stream",
     "text": [
      "/home/briochamsley/.cache/pypoetry/virtualenvs/oqapi-analysis-QKiHp62D-py3.12/lib/python3.12/site-packages/libpysal/weights/util.py:826: UserWarning: The weights matrix is not fully connected: \n",
      " There are 2 disconnected components.\n",
      "  w = W(neighbors, weights, ids, **kwargs)\n",
      "/home/briochamsley/.cache/pypoetry/virtualenvs/oqapi-analysis-QKiHp62D-py3.12/lib/python3.12/site-packages/libpysal/weights/distance.py:844: UserWarning: The weights matrix is not fully connected: \n",
      " There are 2 disconnected components.\n",
      "  W.__init__(\n"
     ]
    },
    {
     "name": "stdout",
     "output_type": "stream",
     "text": [
      "2016-01-01\n",
      "1091\n",
      "1091\n",
      "got 1091 samples\n"
     ]
    },
    {
     "name": "stderr",
     "output_type": "stream",
     "text": [
      "/home/briochamsley/.cache/pypoetry/virtualenvs/oqapi-analysis-QKiHp62D-py3.12/lib/python3.12/site-packages/libpysal/weights/util.py:826: UserWarning: The weights matrix is not fully connected: \n",
      " There are 2 disconnected components.\n",
      "  w = W(neighbors, weights, ids, **kwargs)\n",
      "/home/briochamsley/.cache/pypoetry/virtualenvs/oqapi-analysis-QKiHp62D-py3.12/lib/python3.12/site-packages/libpysal/weights/distance.py:844: UserWarning: The weights matrix is not fully connected: \n",
      " There are 2 disconnected components.\n",
      "  W.__init__(\n"
     ]
    },
    {
     "name": "stdout",
     "output_type": "stream",
     "text": [
      "2017-01-01\n",
      "1091\n",
      "1091\n",
      "got 1091 samples\n"
     ]
    },
    {
     "name": "stderr",
     "output_type": "stream",
     "text": [
      "/home/briochamsley/.cache/pypoetry/virtualenvs/oqapi-analysis-QKiHp62D-py3.12/lib/python3.12/site-packages/libpysal/weights/util.py:826: UserWarning: The weights matrix is not fully connected: \n",
      " There are 2 disconnected components.\n",
      "  w = W(neighbors, weights, ids, **kwargs)\n",
      "/home/briochamsley/.cache/pypoetry/virtualenvs/oqapi-analysis-QKiHp62D-py3.12/lib/python3.12/site-packages/libpysal/weights/distance.py:844: UserWarning: The weights matrix is not fully connected: \n",
      " There are 2 disconnected components.\n",
      "  W.__init__(\n"
     ]
    },
    {
     "name": "stdout",
     "output_type": "stream",
     "text": [
      "2018-01-01\n",
      "1091\n",
      "1091\n",
      "got 1091 samples\n"
     ]
    },
    {
     "name": "stderr",
     "output_type": "stream",
     "text": [
      "/home/briochamsley/.cache/pypoetry/virtualenvs/oqapi-analysis-QKiHp62D-py3.12/lib/python3.12/site-packages/libpysal/weights/util.py:826: UserWarning: The weights matrix is not fully connected: \n",
      " There are 2 disconnected components.\n",
      "  w = W(neighbors, weights, ids, **kwargs)\n",
      "/home/briochamsley/.cache/pypoetry/virtualenvs/oqapi-analysis-QKiHp62D-py3.12/lib/python3.12/site-packages/libpysal/weights/distance.py:844: UserWarning: The weights matrix is not fully connected: \n",
      " There are 2 disconnected components.\n",
      "  W.__init__(\n"
     ]
    },
    {
     "name": "stdout",
     "output_type": "stream",
     "text": [
      "2019-01-01\n",
      "1091\n",
      "1091\n",
      "got 1091 samples\n"
     ]
    },
    {
     "name": "stderr",
     "output_type": "stream",
     "text": [
      "/home/briochamsley/.cache/pypoetry/virtualenvs/oqapi-analysis-QKiHp62D-py3.12/lib/python3.12/site-packages/libpysal/weights/util.py:826: UserWarning: The weights matrix is not fully connected: \n",
      " There are 2 disconnected components.\n",
      "  w = W(neighbors, weights, ids, **kwargs)\n",
      "/home/briochamsley/.cache/pypoetry/virtualenvs/oqapi-analysis-QKiHp62D-py3.12/lib/python3.12/site-packages/libpysal/weights/distance.py:844: UserWarning: The weights matrix is not fully connected: \n",
      " There are 2 disconnected components.\n",
      "  W.__init__(\n"
     ]
    },
    {
     "name": "stdout",
     "output_type": "stream",
     "text": [
      "2020-01-01\n",
      "1091\n",
      "1091\n",
      "got 1091 samples\n"
     ]
    },
    {
     "name": "stderr",
     "output_type": "stream",
     "text": [
      "/home/briochamsley/.cache/pypoetry/virtualenvs/oqapi-analysis-QKiHp62D-py3.12/lib/python3.12/site-packages/libpysal/weights/util.py:826: UserWarning: The weights matrix is not fully connected: \n",
      " There are 2 disconnected components.\n",
      "  w = W(neighbors, weights, ids, **kwargs)\n",
      "/home/briochamsley/.cache/pypoetry/virtualenvs/oqapi-analysis-QKiHp62D-py3.12/lib/python3.12/site-packages/libpysal/weights/distance.py:844: UserWarning: The weights matrix is not fully connected: \n",
      " There are 2 disconnected components.\n",
      "  W.__init__(\n"
     ]
    },
    {
     "name": "stdout",
     "output_type": "stream",
     "text": [
      "2021-01-01\n",
      "1091\n",
      "1091\n",
      "got 1091 samples\n"
     ]
    },
    {
     "name": "stderr",
     "output_type": "stream",
     "text": [
      "/home/briochamsley/.cache/pypoetry/virtualenvs/oqapi-analysis-QKiHp62D-py3.12/lib/python3.12/site-packages/libpysal/weights/util.py:826: UserWarning: The weights matrix is not fully connected: \n",
      " There are 2 disconnected components.\n",
      "  w = W(neighbors, weights, ids, **kwargs)\n",
      "/home/briochamsley/.cache/pypoetry/virtualenvs/oqapi-analysis-QKiHp62D-py3.12/lib/python3.12/site-packages/libpysal/weights/distance.py:844: UserWarning: The weights matrix is not fully connected: \n",
      " There are 2 disconnected components.\n",
      "  W.__init__(\n"
     ]
    },
    {
     "name": "stdout",
     "output_type": "stream",
     "text": [
      "2022-01-01\n",
      "1091\n",
      "1091\n",
      "got 1091 samples\n"
     ]
    },
    {
     "name": "stderr",
     "output_type": "stream",
     "text": [
      "/home/briochamsley/.cache/pypoetry/virtualenvs/oqapi-analysis-QKiHp62D-py3.12/lib/python3.12/site-packages/libpysal/weights/util.py:826: UserWarning: The weights matrix is not fully connected: \n",
      " There are 2 disconnected components.\n",
      "  w = W(neighbors, weights, ids, **kwargs)\n",
      "/home/briochamsley/.cache/pypoetry/virtualenvs/oqapi-analysis-QKiHp62D-py3.12/lib/python3.12/site-packages/libpysal/weights/distance.py:844: UserWarning: The weights matrix is not fully connected: \n",
      " There are 2 disconnected components.\n",
      "  W.__init__(\n"
     ]
    },
    {
     "name": "stdout",
     "output_type": "stream",
     "text": [
      "2023-01-01\n",
      "1091\n",
      "1091\n",
      "got 1091 samples\n"
     ]
    },
    {
     "name": "stderr",
     "output_type": "stream",
     "text": [
      "/home/briochamsley/.cache/pypoetry/virtualenvs/oqapi-analysis-QKiHp62D-py3.12/lib/python3.12/site-packages/libpysal/weights/util.py:826: UserWarning: The weights matrix is not fully connected: \n",
      " There are 2 disconnected components.\n",
      "  w = W(neighbors, weights, ids, **kwargs)\n",
      "/home/briochamsley/.cache/pypoetry/virtualenvs/oqapi-analysis-QKiHp62D-py3.12/lib/python3.12/site-packages/libpysal/weights/distance.py:844: UserWarning: The weights matrix is not fully connected: \n",
      " There are 2 disconnected components.\n",
      "  W.__init__(\n"
     ]
    },
    {
     "name": "stdout",
     "output_type": "stream",
     "text": [
      "2024-01-01\n",
      "1091\n",
      "1091\n",
      "got 1091 samples\n"
     ]
    },
    {
     "name": "stderr",
     "output_type": "stream",
     "text": [
      "/home/briochamsley/.cache/pypoetry/virtualenvs/oqapi-analysis-QKiHp62D-py3.12/lib/python3.12/site-packages/libpysal/weights/util.py:826: UserWarning: The weights matrix is not fully connected: \n",
      " There are 2 disconnected components.\n",
      "  w = W(neighbors, weights, ids, **kwargs)\n",
      "/home/briochamsley/.cache/pypoetry/virtualenvs/oqapi-analysis-QKiHp62D-py3.12/lib/python3.12/site-packages/libpysal/weights/distance.py:844: UserWarning: The weights matrix is not fully connected: \n",
      " There are 2 disconnected components.\n",
      "  W.__init__(\n"
     ]
    },
    {
     "name": "stdout",
     "output_type": "stream",
     "text": [
      "2024-05-01\n",
      "1091\n",
      "1091\n",
      "got 1091 samples\n"
     ]
    },
    {
     "name": "stderr",
     "output_type": "stream",
     "text": [
      "/home/briochamsley/.cache/pypoetry/virtualenvs/oqapi-analysis-QKiHp62D-py3.12/lib/python3.12/site-packages/libpysal/weights/util.py:826: UserWarning: The weights matrix is not fully connected: \n",
      " There are 2 disconnected components.\n",
      "  w = W(neighbors, weights, ids, **kwargs)\n",
      "/home/briochamsley/.cache/pypoetry/virtualenvs/oqapi-analysis-QKiHp62D-py3.12/lib/python3.12/site-packages/libpysal/weights/distance.py:844: UserWarning: The weights matrix is not fully connected: \n",
      " There are 2 disconnected components.\n",
      "  W.__init__(\n"
     ]
    },
    {
     "name": "stdout",
     "output_type": "stream",
     "text": [
      "2008-01-01\n",
      "1001\n",
      "1001\n",
      "got 1001 samples\n"
     ]
    },
    {
     "name": "stderr",
     "output_type": "stream",
     "text": [
      "/home/briochamsley/.cache/pypoetry/virtualenvs/oqapi-analysis-QKiHp62D-py3.12/lib/python3.12/site-packages/libpysal/weights/util.py:826: UserWarning: The weights matrix is not fully connected: \n",
      " There are 2 disconnected components.\n",
      " There is 1 island with id: 683.\n",
      "  w = W(neighbors, weights, ids, **kwargs)\n",
      "/home/briochamsley/.cache/pypoetry/virtualenvs/oqapi-analysis-QKiHp62D-py3.12/lib/python3.12/site-packages/libpysal/weights/distance.py:844: UserWarning: The weights matrix is not fully connected: \n",
      " There are 2 disconnected components.\n",
      " There is 1 island with id: 683.\n",
      "  W.__init__(\n"
     ]
    },
    {
     "name": "stdout",
     "output_type": "stream",
     "text": [
      "('WARNING: ', 683, ' is an island (no neighbors)')\n",
      "2009-01-01\n",
      "1001\n",
      "1001\n",
      "got 1001 samples\n"
     ]
    },
    {
     "name": "stderr",
     "output_type": "stream",
     "text": [
      "/home/briochamsley/.cache/pypoetry/virtualenvs/oqapi-analysis-QKiHp62D-py3.12/lib/python3.12/site-packages/libpysal/weights/util.py:826: UserWarning: The weights matrix is not fully connected: \n",
      " There are 2 disconnected components.\n",
      " There is 1 island with id: 683.\n",
      "  w = W(neighbors, weights, ids, **kwargs)\n",
      "/home/briochamsley/.cache/pypoetry/virtualenvs/oqapi-analysis-QKiHp62D-py3.12/lib/python3.12/site-packages/libpysal/weights/distance.py:844: UserWarning: The weights matrix is not fully connected: \n",
      " There are 2 disconnected components.\n",
      " There is 1 island with id: 683.\n",
      "  W.__init__(\n"
     ]
    },
    {
     "name": "stdout",
     "output_type": "stream",
     "text": [
      "('WARNING: ', 683, ' is an island (no neighbors)')\n",
      "2010-01-01\n",
      "1001\n",
      "1001\n",
      "got 1001 samples\n"
     ]
    },
    {
     "name": "stderr",
     "output_type": "stream",
     "text": [
      "/home/briochamsley/.cache/pypoetry/virtualenvs/oqapi-analysis-QKiHp62D-py3.12/lib/python3.12/site-packages/libpysal/weights/util.py:826: UserWarning: The weights matrix is not fully connected: \n",
      " There are 2 disconnected components.\n",
      " There is 1 island with id: 683.\n",
      "  w = W(neighbors, weights, ids, **kwargs)\n",
      "/home/briochamsley/.cache/pypoetry/virtualenvs/oqapi-analysis-QKiHp62D-py3.12/lib/python3.12/site-packages/libpysal/weights/distance.py:844: UserWarning: The weights matrix is not fully connected: \n",
      " There are 2 disconnected components.\n",
      " There is 1 island with id: 683.\n",
      "  W.__init__(\n"
     ]
    },
    {
     "name": "stdout",
     "output_type": "stream",
     "text": [
      "('WARNING: ', 683, ' is an island (no neighbors)')\n",
      "2011-01-01\n",
      "1001\n",
      "1001\n",
      "got 1001 samples\n"
     ]
    },
    {
     "name": "stderr",
     "output_type": "stream",
     "text": [
      "/home/briochamsley/.cache/pypoetry/virtualenvs/oqapi-analysis-QKiHp62D-py3.12/lib/python3.12/site-packages/libpysal/weights/util.py:826: UserWarning: The weights matrix is not fully connected: \n",
      " There are 2 disconnected components.\n",
      " There is 1 island with id: 683.\n",
      "  w = W(neighbors, weights, ids, **kwargs)\n",
      "/home/briochamsley/.cache/pypoetry/virtualenvs/oqapi-analysis-QKiHp62D-py3.12/lib/python3.12/site-packages/libpysal/weights/distance.py:844: UserWarning: The weights matrix is not fully connected: \n",
      " There are 2 disconnected components.\n",
      " There is 1 island with id: 683.\n",
      "  W.__init__(\n"
     ]
    },
    {
     "name": "stdout",
     "output_type": "stream",
     "text": [
      "('WARNING: ', 683, ' is an island (no neighbors)')\n",
      "2012-01-01\n",
      "1001\n",
      "1001\n",
      "got 1001 samples\n"
     ]
    },
    {
     "name": "stderr",
     "output_type": "stream",
     "text": [
      "/home/briochamsley/.cache/pypoetry/virtualenvs/oqapi-analysis-QKiHp62D-py3.12/lib/python3.12/site-packages/libpysal/weights/util.py:826: UserWarning: The weights matrix is not fully connected: \n",
      " There are 2 disconnected components.\n",
      " There is 1 island with id: 683.\n",
      "  w = W(neighbors, weights, ids, **kwargs)\n",
      "/home/briochamsley/.cache/pypoetry/virtualenvs/oqapi-analysis-QKiHp62D-py3.12/lib/python3.12/site-packages/libpysal/weights/distance.py:844: UserWarning: The weights matrix is not fully connected: \n",
      " There are 2 disconnected components.\n",
      " There is 1 island with id: 683.\n",
      "  W.__init__(\n"
     ]
    },
    {
     "name": "stdout",
     "output_type": "stream",
     "text": [
      "('WARNING: ', 683, ' is an island (no neighbors)')\n",
      "2013-01-01\n",
      "1001\n",
      "1001\n",
      "got 1001 samples\n"
     ]
    },
    {
     "name": "stderr",
     "output_type": "stream",
     "text": [
      "/home/briochamsley/.cache/pypoetry/virtualenvs/oqapi-analysis-QKiHp62D-py3.12/lib/python3.12/site-packages/libpysal/weights/util.py:826: UserWarning: The weights matrix is not fully connected: \n",
      " There are 2 disconnected components.\n",
      " There is 1 island with id: 683.\n",
      "  w = W(neighbors, weights, ids, **kwargs)\n",
      "/home/briochamsley/.cache/pypoetry/virtualenvs/oqapi-analysis-QKiHp62D-py3.12/lib/python3.12/site-packages/libpysal/weights/distance.py:844: UserWarning: The weights matrix is not fully connected: \n",
      " There are 2 disconnected components.\n",
      " There is 1 island with id: 683.\n",
      "  W.__init__(\n"
     ]
    },
    {
     "name": "stdout",
     "output_type": "stream",
     "text": [
      "('WARNING: ', 683, ' is an island (no neighbors)')\n",
      "2014-01-01\n",
      "1001\n",
      "1001\n",
      "got 1001 samples\n"
     ]
    },
    {
     "name": "stderr",
     "output_type": "stream",
     "text": [
      "/home/briochamsley/.cache/pypoetry/virtualenvs/oqapi-analysis-QKiHp62D-py3.12/lib/python3.12/site-packages/libpysal/weights/util.py:826: UserWarning: The weights matrix is not fully connected: \n",
      " There are 2 disconnected components.\n",
      " There is 1 island with id: 683.\n",
      "  w = W(neighbors, weights, ids, **kwargs)\n",
      "/home/briochamsley/.cache/pypoetry/virtualenvs/oqapi-analysis-QKiHp62D-py3.12/lib/python3.12/site-packages/libpysal/weights/distance.py:844: UserWarning: The weights matrix is not fully connected: \n",
      " There are 2 disconnected components.\n",
      " There is 1 island with id: 683.\n",
      "  W.__init__(\n"
     ]
    },
    {
     "name": "stdout",
     "output_type": "stream",
     "text": [
      "('WARNING: ', 683, ' is an island (no neighbors)')\n",
      "2015-01-01\n",
      "1001\n",
      "1001\n",
      "got 1001 samples\n"
     ]
    },
    {
     "name": "stderr",
     "output_type": "stream",
     "text": [
      "/home/briochamsley/.cache/pypoetry/virtualenvs/oqapi-analysis-QKiHp62D-py3.12/lib/python3.12/site-packages/libpysal/weights/util.py:826: UserWarning: The weights matrix is not fully connected: \n",
      " There are 2 disconnected components.\n",
      " There is 1 island with id: 683.\n",
      "  w = W(neighbors, weights, ids, **kwargs)\n",
      "/home/briochamsley/.cache/pypoetry/virtualenvs/oqapi-analysis-QKiHp62D-py3.12/lib/python3.12/site-packages/libpysal/weights/distance.py:844: UserWarning: The weights matrix is not fully connected: \n",
      " There are 2 disconnected components.\n",
      " There is 1 island with id: 683.\n",
      "  W.__init__(\n"
     ]
    },
    {
     "name": "stdout",
     "output_type": "stream",
     "text": [
      "('WARNING: ', 683, ' is an island (no neighbors)')\n",
      "2016-01-01\n",
      "1001\n",
      "1001\n",
      "got 1001 samples\n"
     ]
    },
    {
     "name": "stderr",
     "output_type": "stream",
     "text": [
      "/home/briochamsley/.cache/pypoetry/virtualenvs/oqapi-analysis-QKiHp62D-py3.12/lib/python3.12/site-packages/libpysal/weights/util.py:826: UserWarning: The weights matrix is not fully connected: \n",
      " There are 2 disconnected components.\n",
      " There is 1 island with id: 683.\n",
      "  w = W(neighbors, weights, ids, **kwargs)\n",
      "/home/briochamsley/.cache/pypoetry/virtualenvs/oqapi-analysis-QKiHp62D-py3.12/lib/python3.12/site-packages/libpysal/weights/distance.py:844: UserWarning: The weights matrix is not fully connected: \n",
      " There are 2 disconnected components.\n",
      " There is 1 island with id: 683.\n",
      "  W.__init__(\n"
     ]
    },
    {
     "name": "stdout",
     "output_type": "stream",
     "text": [
      "('WARNING: ', 683, ' is an island (no neighbors)')\n",
      "2017-01-01\n",
      "1001\n",
      "1001\n",
      "got 1001 samples\n",
      "('WARNING: ', 683, ' is an island (no neighbors)')\n"
     ]
    },
    {
     "name": "stderr",
     "output_type": "stream",
     "text": [
      "/home/briochamsley/.cache/pypoetry/virtualenvs/oqapi-analysis-QKiHp62D-py3.12/lib/python3.12/site-packages/libpysal/weights/util.py:826: UserWarning: The weights matrix is not fully connected: \n",
      " There are 2 disconnected components.\n",
      " There is 1 island with id: 683.\n",
      "  w = W(neighbors, weights, ids, **kwargs)\n",
      "/home/briochamsley/.cache/pypoetry/virtualenvs/oqapi-analysis-QKiHp62D-py3.12/lib/python3.12/site-packages/libpysal/weights/distance.py:844: UserWarning: The weights matrix is not fully connected: \n",
      " There are 2 disconnected components.\n",
      " There is 1 island with id: 683.\n",
      "  W.__init__(\n"
     ]
    },
    {
     "name": "stdout",
     "output_type": "stream",
     "text": [
      "2018-01-01\n",
      "1001\n",
      "1001\n",
      "got 1001 samples\n"
     ]
    },
    {
     "name": "stderr",
     "output_type": "stream",
     "text": [
      "/home/briochamsley/.cache/pypoetry/virtualenvs/oqapi-analysis-QKiHp62D-py3.12/lib/python3.12/site-packages/libpysal/weights/util.py:826: UserWarning: The weights matrix is not fully connected: \n",
      " There are 2 disconnected components.\n",
      " There is 1 island with id: 683.\n",
      "  w = W(neighbors, weights, ids, **kwargs)\n",
      "/home/briochamsley/.cache/pypoetry/virtualenvs/oqapi-analysis-QKiHp62D-py3.12/lib/python3.12/site-packages/libpysal/weights/distance.py:844: UserWarning: The weights matrix is not fully connected: \n",
      " There are 2 disconnected components.\n",
      " There is 1 island with id: 683.\n",
      "  W.__init__(\n"
     ]
    },
    {
     "name": "stdout",
     "output_type": "stream",
     "text": [
      "('WARNING: ', 683, ' is an island (no neighbors)')\n",
      "2019-01-01\n",
      "1001\n",
      "1001\n",
      "got 1001 samples\n"
     ]
    },
    {
     "name": "stderr",
     "output_type": "stream",
     "text": [
      "/home/briochamsley/.cache/pypoetry/virtualenvs/oqapi-analysis-QKiHp62D-py3.12/lib/python3.12/site-packages/libpysal/weights/util.py:826: UserWarning: The weights matrix is not fully connected: \n",
      " There are 2 disconnected components.\n",
      " There is 1 island with id: 683.\n",
      "  w = W(neighbors, weights, ids, **kwargs)\n",
      "/home/briochamsley/.cache/pypoetry/virtualenvs/oqapi-analysis-QKiHp62D-py3.12/lib/python3.12/site-packages/libpysal/weights/distance.py:844: UserWarning: The weights matrix is not fully connected: \n",
      " There are 2 disconnected components.\n",
      " There is 1 island with id: 683.\n",
      "  W.__init__(\n"
     ]
    },
    {
     "name": "stdout",
     "output_type": "stream",
     "text": [
      "('WARNING: ', 683, ' is an island (no neighbors)')\n",
      "2020-01-01\n",
      "1001\n",
      "1001\n",
      "got 1001 samples\n"
     ]
    },
    {
     "name": "stderr",
     "output_type": "stream",
     "text": [
      "/home/briochamsley/.cache/pypoetry/virtualenvs/oqapi-analysis-QKiHp62D-py3.12/lib/python3.12/site-packages/libpysal/weights/util.py:826: UserWarning: The weights matrix is not fully connected: \n",
      " There are 2 disconnected components.\n",
      " There is 1 island with id: 683.\n",
      "  w = W(neighbors, weights, ids, **kwargs)\n",
      "/home/briochamsley/.cache/pypoetry/virtualenvs/oqapi-analysis-QKiHp62D-py3.12/lib/python3.12/site-packages/libpysal/weights/distance.py:844: UserWarning: The weights matrix is not fully connected: \n",
      " There are 2 disconnected components.\n",
      " There is 1 island with id: 683.\n",
      "  W.__init__(\n"
     ]
    },
    {
     "name": "stdout",
     "output_type": "stream",
     "text": [
      "('WARNING: ', 683, ' is an island (no neighbors)')\n",
      "2021-01-01\n",
      "1001\n",
      "1001\n",
      "got 1001 samples\n"
     ]
    },
    {
     "name": "stderr",
     "output_type": "stream",
     "text": [
      "/home/briochamsley/.cache/pypoetry/virtualenvs/oqapi-analysis-QKiHp62D-py3.12/lib/python3.12/site-packages/libpysal/weights/util.py:826: UserWarning: The weights matrix is not fully connected: \n",
      " There are 2 disconnected components.\n",
      " There is 1 island with id: 683.\n",
      "  w = W(neighbors, weights, ids, **kwargs)\n",
      "/home/briochamsley/.cache/pypoetry/virtualenvs/oqapi-analysis-QKiHp62D-py3.12/lib/python3.12/site-packages/libpysal/weights/distance.py:844: UserWarning: The weights matrix is not fully connected: \n",
      " There are 2 disconnected components.\n",
      " There is 1 island with id: 683.\n",
      "  W.__init__(\n"
     ]
    },
    {
     "name": "stdout",
     "output_type": "stream",
     "text": [
      "('WARNING: ', 683, ' is an island (no neighbors)')\n",
      "2022-01-01\n",
      "1001\n",
      "1001\n",
      "got 1001 samples\n"
     ]
    },
    {
     "name": "stderr",
     "output_type": "stream",
     "text": [
      "/home/briochamsley/.cache/pypoetry/virtualenvs/oqapi-analysis-QKiHp62D-py3.12/lib/python3.12/site-packages/libpysal/weights/util.py:826: UserWarning: The weights matrix is not fully connected: \n",
      " There are 2 disconnected components.\n",
      " There is 1 island with id: 683.\n",
      "  w = W(neighbors, weights, ids, **kwargs)\n",
      "/home/briochamsley/.cache/pypoetry/virtualenvs/oqapi-analysis-QKiHp62D-py3.12/lib/python3.12/site-packages/libpysal/weights/distance.py:844: UserWarning: The weights matrix is not fully connected: \n",
      " There are 2 disconnected components.\n",
      " There is 1 island with id: 683.\n",
      "  W.__init__(\n"
     ]
    },
    {
     "name": "stdout",
     "output_type": "stream",
     "text": [
      "('WARNING: ', 683, ' is an island (no neighbors)')\n",
      "2023-01-01\n",
      "1001\n",
      "1001\n",
      "got 1001 samples\n",
      "('WARNING: ', 683, ' is an island (no neighbors)')\n"
     ]
    },
    {
     "name": "stderr",
     "output_type": "stream",
     "text": [
      "/home/briochamsley/.cache/pypoetry/virtualenvs/oqapi-analysis-QKiHp62D-py3.12/lib/python3.12/site-packages/libpysal/weights/util.py:826: UserWarning: The weights matrix is not fully connected: \n",
      " There are 2 disconnected components.\n",
      " There is 1 island with id: 683.\n",
      "  w = W(neighbors, weights, ids, **kwargs)\n",
      "/home/briochamsley/.cache/pypoetry/virtualenvs/oqapi-analysis-QKiHp62D-py3.12/lib/python3.12/site-packages/libpysal/weights/distance.py:844: UserWarning: The weights matrix is not fully connected: \n",
      " There are 2 disconnected components.\n",
      " There is 1 island with id: 683.\n",
      "  W.__init__(\n"
     ]
    },
    {
     "name": "stdout",
     "output_type": "stream",
     "text": [
      "2024-01-01\n",
      "1001\n",
      "1001\n",
      "got 1001 samples\n"
     ]
    },
    {
     "name": "stderr",
     "output_type": "stream",
     "text": [
      "/home/briochamsley/.cache/pypoetry/virtualenvs/oqapi-analysis-QKiHp62D-py3.12/lib/python3.12/site-packages/libpysal/weights/util.py:826: UserWarning: The weights matrix is not fully connected: \n",
      " There are 2 disconnected components.\n",
      " There is 1 island with id: 683.\n",
      "  w = W(neighbors, weights, ids, **kwargs)\n",
      "/home/briochamsley/.cache/pypoetry/virtualenvs/oqapi-analysis-QKiHp62D-py3.12/lib/python3.12/site-packages/libpysal/weights/distance.py:844: UserWarning: The weights matrix is not fully connected: \n",
      " There are 2 disconnected components.\n",
      " There is 1 island with id: 683.\n",
      "  W.__init__(\n"
     ]
    },
    {
     "name": "stdout",
     "output_type": "stream",
     "text": [
      "('WARNING: ', 683, ' is an island (no neighbors)')\n",
      "2024-05-01\n",
      "1001\n",
      "1001\n",
      "got 1001 samples\n"
     ]
    },
    {
     "name": "stderr",
     "output_type": "stream",
     "text": [
      "/home/briochamsley/.cache/pypoetry/virtualenvs/oqapi-analysis-QKiHp62D-py3.12/lib/python3.12/site-packages/libpysal/weights/util.py:826: UserWarning: The weights matrix is not fully connected: \n",
      " There are 2 disconnected components.\n",
      " There is 1 island with id: 683.\n",
      "  w = W(neighbors, weights, ids, **kwargs)\n",
      "/home/briochamsley/.cache/pypoetry/virtualenvs/oqapi-analysis-QKiHp62D-py3.12/lib/python3.12/site-packages/libpysal/weights/distance.py:844: UserWarning: The weights matrix is not fully connected: \n",
      " There are 2 disconnected components.\n",
      " There is 1 island with id: 683.\n",
      "  W.__init__(\n"
     ]
    },
    {
     "name": "stdout",
     "output_type": "stream",
     "text": [
      "('WARNING: ', 683, ' is an island (no neighbors)')\n",
      "2008-01-01\n",
      "398\n",
      "398\n",
      "got 398 samples\n",
      "('WARNING: ', 23, ' is an island (no neighbors)')\n",
      "('WARNING: ', 105, ' is an island (no neighbors)')\n",
      "('WARNING: ', 107, ' is an island (no neighbors)')\n",
      "('WARNING: ', 140, ' is an island (no neighbors)')\n",
      "('WARNING: ', 201, ' is an island (no neighbors)')\n",
      "2009-01-01\n"
     ]
    },
    {
     "name": "stderr",
     "output_type": "stream",
     "text": [
      "/home/briochamsley/.cache/pypoetry/virtualenvs/oqapi-analysis-QKiHp62D-py3.12/lib/python3.12/site-packages/libpysal/weights/util.py:826: UserWarning: The weights matrix is not fully connected: \n",
      " There are 8 disconnected components.\n",
      " There are 5 islands with ids: 23, 105, 107, 140, 201.\n",
      "  w = W(neighbors, weights, ids, **kwargs)\n",
      "/home/briochamsley/.cache/pypoetry/virtualenvs/oqapi-analysis-QKiHp62D-py3.12/lib/python3.12/site-packages/libpysal/weights/distance.py:844: UserWarning: The weights matrix is not fully connected: \n",
      " There are 8 disconnected components.\n",
      " There are 5 islands with ids: 23, 105, 107, 140, 201.\n",
      "  W.__init__(\n",
      "/home/briochamsley/.cache/pypoetry/virtualenvs/oqapi-analysis-QKiHp62D-py3.12/lib/python3.12/site-packages/libpysal/weights/util.py:826: UserWarning: The weights matrix is not fully connected: \n",
      " There are 3 disconnected components.\n",
      "  w = W(neighbors, weights, ids, **kwargs)\n",
      "/home/briochamsley/.cache/pypoetry/virtualenvs/oqapi-analysis-QKiHp62D-py3.12/lib/python3.12/site-packages/libpysal/weights/distance.py:844: UserWarning: The weights matrix is not fully connected: \n",
      " There are 3 disconnected components.\n",
      "  W.__init__(\n"
     ]
    },
    {
     "name": "stdout",
     "output_type": "stream",
     "text": [
      "398\n",
      "398\n",
      "got 398 samples\n",
      "('WARNING: ', 23, ' is an island (no neighbors)')\n",
      "('WARNING: ', 105, ' is an island (no neighbors)')\n",
      "('WARNING: ', 107, ' is an island (no neighbors)')\n",
      "('WARNING: ', 140, ' is an island (no neighbors)')\n",
      "('WARNING: ', 201, ' is an island (no neighbors)')\n",
      "2010-01-01\n"
     ]
    },
    {
     "name": "stderr",
     "output_type": "stream",
     "text": [
      "/home/briochamsley/.cache/pypoetry/virtualenvs/oqapi-analysis-QKiHp62D-py3.12/lib/python3.12/site-packages/libpysal/weights/util.py:826: UserWarning: The weights matrix is not fully connected: \n",
      " There are 8 disconnected components.\n",
      " There are 5 islands with ids: 23, 105, 107, 140, 201.\n",
      "  w = W(neighbors, weights, ids, **kwargs)\n",
      "/home/briochamsley/.cache/pypoetry/virtualenvs/oqapi-analysis-QKiHp62D-py3.12/lib/python3.12/site-packages/libpysal/weights/distance.py:844: UserWarning: The weights matrix is not fully connected: \n",
      " There are 8 disconnected components.\n",
      " There are 5 islands with ids: 23, 105, 107, 140, 201.\n",
      "  W.__init__(\n",
      "/home/briochamsley/.cache/pypoetry/virtualenvs/oqapi-analysis-QKiHp62D-py3.12/lib/python3.12/site-packages/libpysal/weights/util.py:826: UserWarning: The weights matrix is not fully connected: \n",
      " There are 3 disconnected components.\n",
      "  w = W(neighbors, weights, ids, **kwargs)\n",
      "/home/briochamsley/.cache/pypoetry/virtualenvs/oqapi-analysis-QKiHp62D-py3.12/lib/python3.12/site-packages/libpysal/weights/distance.py:844: UserWarning: The weights matrix is not fully connected: \n",
      " There are 3 disconnected components.\n",
      "  W.__init__(\n"
     ]
    },
    {
     "name": "stdout",
     "output_type": "stream",
     "text": [
      "398\n",
      "398\n",
      "got 398 samples\n",
      "('WARNING: ', 23, ' is an island (no neighbors)')\n",
      "('WARNING: ', 105, ' is an island (no neighbors)')\n",
      "('WARNING: ', 107, ' is an island (no neighbors)')\n",
      "('WARNING: ', 140, ' is an island (no neighbors)')\n",
      "('WARNING: ', 201, ' is an island (no neighbors)')\n",
      "2011-01-01\n"
     ]
    },
    {
     "name": "stderr",
     "output_type": "stream",
     "text": [
      "/home/briochamsley/.cache/pypoetry/virtualenvs/oqapi-analysis-QKiHp62D-py3.12/lib/python3.12/site-packages/libpysal/weights/util.py:826: UserWarning: The weights matrix is not fully connected: \n",
      " There are 8 disconnected components.\n",
      " There are 5 islands with ids: 23, 105, 107, 140, 201.\n",
      "  w = W(neighbors, weights, ids, **kwargs)\n",
      "/home/briochamsley/.cache/pypoetry/virtualenvs/oqapi-analysis-QKiHp62D-py3.12/lib/python3.12/site-packages/libpysal/weights/distance.py:844: UserWarning: The weights matrix is not fully connected: \n",
      " There are 8 disconnected components.\n",
      " There are 5 islands with ids: 23, 105, 107, 140, 201.\n",
      "  W.__init__(\n",
      "/home/briochamsley/.cache/pypoetry/virtualenvs/oqapi-analysis-QKiHp62D-py3.12/lib/python3.12/site-packages/libpysal/weights/util.py:826: UserWarning: The weights matrix is not fully connected: \n",
      " There are 3 disconnected components.\n",
      "  w = W(neighbors, weights, ids, **kwargs)\n",
      "/home/briochamsley/.cache/pypoetry/virtualenvs/oqapi-analysis-QKiHp62D-py3.12/lib/python3.12/site-packages/libpysal/weights/distance.py:844: UserWarning: The weights matrix is not fully connected: \n",
      " There are 3 disconnected components.\n",
      "  W.__init__(\n"
     ]
    },
    {
     "name": "stdout",
     "output_type": "stream",
     "text": [
      "398\n",
      "398\n",
      "got 398 samples\n",
      "('WARNING: ', 23, ' is an island (no neighbors)')\n",
      "('WARNING: ', 105, ' is an island (no neighbors)')\n",
      "('WARNING: ', 107, ' is an island (no neighbors)')\n",
      "('WARNING: ', 140, ' is an island (no neighbors)')\n",
      "('WARNING: ', 201, ' is an island (no neighbors)')\n",
      "2012-01-01\n"
     ]
    },
    {
     "name": "stderr",
     "output_type": "stream",
     "text": [
      "/home/briochamsley/.cache/pypoetry/virtualenvs/oqapi-analysis-QKiHp62D-py3.12/lib/python3.12/site-packages/libpysal/weights/util.py:826: UserWarning: The weights matrix is not fully connected: \n",
      " There are 8 disconnected components.\n",
      " There are 5 islands with ids: 23, 105, 107, 140, 201.\n",
      "  w = W(neighbors, weights, ids, **kwargs)\n",
      "/home/briochamsley/.cache/pypoetry/virtualenvs/oqapi-analysis-QKiHp62D-py3.12/lib/python3.12/site-packages/libpysal/weights/distance.py:844: UserWarning: The weights matrix is not fully connected: \n",
      " There are 8 disconnected components.\n",
      " There are 5 islands with ids: 23, 105, 107, 140, 201.\n",
      "  W.__init__(\n",
      "/home/briochamsley/.cache/pypoetry/virtualenvs/oqapi-analysis-QKiHp62D-py3.12/lib/python3.12/site-packages/libpysal/weights/util.py:826: UserWarning: The weights matrix is not fully connected: \n",
      " There are 3 disconnected components.\n",
      "  w = W(neighbors, weights, ids, **kwargs)\n",
      "/home/briochamsley/.cache/pypoetry/virtualenvs/oqapi-analysis-QKiHp62D-py3.12/lib/python3.12/site-packages/libpysal/weights/distance.py:844: UserWarning: The weights matrix is not fully connected: \n",
      " There are 3 disconnected components.\n",
      "  W.__init__(\n"
     ]
    },
    {
     "name": "stdout",
     "output_type": "stream",
     "text": [
      "398\n",
      "398\n",
      "got 398 samples\n",
      "('WARNING: ', 23, ' is an island (no neighbors)')\n",
      "('WARNING: ', 105, ' is an island (no neighbors)')\n",
      "('WARNING: ', 107, ' is an island (no neighbors)')\n",
      "('WARNING: ', 140, ' is an island (no neighbors)')\n",
      "('WARNING: ', 201, ' is an island (no neighbors)')\n",
      "2013-01-01\n"
     ]
    },
    {
     "name": "stderr",
     "output_type": "stream",
     "text": [
      "/home/briochamsley/.cache/pypoetry/virtualenvs/oqapi-analysis-QKiHp62D-py3.12/lib/python3.12/site-packages/libpysal/weights/util.py:826: UserWarning: The weights matrix is not fully connected: \n",
      " There are 8 disconnected components.\n",
      " There are 5 islands with ids: 23, 105, 107, 140, 201.\n",
      "  w = W(neighbors, weights, ids, **kwargs)\n",
      "/home/briochamsley/.cache/pypoetry/virtualenvs/oqapi-analysis-QKiHp62D-py3.12/lib/python3.12/site-packages/libpysal/weights/distance.py:844: UserWarning: The weights matrix is not fully connected: \n",
      " There are 8 disconnected components.\n",
      " There are 5 islands with ids: 23, 105, 107, 140, 201.\n",
      "  W.__init__(\n",
      "/home/briochamsley/.cache/pypoetry/virtualenvs/oqapi-analysis-QKiHp62D-py3.12/lib/python3.12/site-packages/libpysal/weights/util.py:826: UserWarning: The weights matrix is not fully connected: \n",
      " There are 3 disconnected components.\n",
      "  w = W(neighbors, weights, ids, **kwargs)\n",
      "/home/briochamsley/.cache/pypoetry/virtualenvs/oqapi-analysis-QKiHp62D-py3.12/lib/python3.12/site-packages/libpysal/weights/distance.py:844: UserWarning: The weights matrix is not fully connected: \n",
      " There are 3 disconnected components.\n",
      "  W.__init__(\n"
     ]
    },
    {
     "name": "stdout",
     "output_type": "stream",
     "text": [
      "398\n",
      "398\n",
      "got 398 samples\n",
      "('WARNING: ', 23, ' is an island (no neighbors)')\n",
      "('WARNING: ', 105, ' is an island (no neighbors)')\n",
      "('WARNING: ', 107, ' is an island (no neighbors)')\n",
      "('WARNING: ', 140, ' is an island (no neighbors)')\n",
      "('WARNING: ', 201, ' is an island (no neighbors)')\n",
      "2014-01-01\n"
     ]
    },
    {
     "name": "stderr",
     "output_type": "stream",
     "text": [
      "/home/briochamsley/.cache/pypoetry/virtualenvs/oqapi-analysis-QKiHp62D-py3.12/lib/python3.12/site-packages/libpysal/weights/util.py:826: UserWarning: The weights matrix is not fully connected: \n",
      " There are 8 disconnected components.\n",
      " There are 5 islands with ids: 23, 105, 107, 140, 201.\n",
      "  w = W(neighbors, weights, ids, **kwargs)\n",
      "/home/briochamsley/.cache/pypoetry/virtualenvs/oqapi-analysis-QKiHp62D-py3.12/lib/python3.12/site-packages/libpysal/weights/distance.py:844: UserWarning: The weights matrix is not fully connected: \n",
      " There are 8 disconnected components.\n",
      " There are 5 islands with ids: 23, 105, 107, 140, 201.\n",
      "  W.__init__(\n",
      "/home/briochamsley/.cache/pypoetry/virtualenvs/oqapi-analysis-QKiHp62D-py3.12/lib/python3.12/site-packages/libpysal/weights/util.py:826: UserWarning: The weights matrix is not fully connected: \n",
      " There are 3 disconnected components.\n",
      "  w = W(neighbors, weights, ids, **kwargs)\n",
      "/home/briochamsley/.cache/pypoetry/virtualenvs/oqapi-analysis-QKiHp62D-py3.12/lib/python3.12/site-packages/libpysal/weights/distance.py:844: UserWarning: The weights matrix is not fully connected: \n",
      " There are 3 disconnected components.\n",
      "  W.__init__(\n"
     ]
    },
    {
     "name": "stdout",
     "output_type": "stream",
     "text": [
      "398\n",
      "398\n",
      "got 398 samples\n",
      "('WARNING: ', 23, ' is an island (no neighbors)')\n",
      "('WARNING: ', 105, ' is an island (no neighbors)')\n",
      "('WARNING: ', 107, ' is an island (no neighbors)')\n",
      "('WARNING: ', 140, ' is an island (no neighbors)')\n",
      "('WARNING: ', 201, ' is an island (no neighbors)')\n"
     ]
    },
    {
     "name": "stderr",
     "output_type": "stream",
     "text": [
      "/home/briochamsley/.cache/pypoetry/virtualenvs/oqapi-analysis-QKiHp62D-py3.12/lib/python3.12/site-packages/libpysal/weights/util.py:826: UserWarning: The weights matrix is not fully connected: \n",
      " There are 8 disconnected components.\n",
      " There are 5 islands with ids: 23, 105, 107, 140, 201.\n",
      "  w = W(neighbors, weights, ids, **kwargs)\n",
      "/home/briochamsley/.cache/pypoetry/virtualenvs/oqapi-analysis-QKiHp62D-py3.12/lib/python3.12/site-packages/libpysal/weights/distance.py:844: UserWarning: The weights matrix is not fully connected: \n",
      " There are 8 disconnected components.\n",
      " There are 5 islands with ids: 23, 105, 107, 140, 201.\n",
      "  W.__init__(\n",
      "/home/briochamsley/.cache/pypoetry/virtualenvs/oqapi-analysis-QKiHp62D-py3.12/lib/python3.12/site-packages/libpysal/weights/util.py:826: UserWarning: The weights matrix is not fully connected: \n",
      " There are 3 disconnected components.\n",
      "  w = W(neighbors, weights, ids, **kwargs)\n",
      "/home/briochamsley/.cache/pypoetry/virtualenvs/oqapi-analysis-QKiHp62D-py3.12/lib/python3.12/site-packages/libpysal/weights/distance.py:844: UserWarning: The weights matrix is not fully connected: \n",
      " There are 3 disconnected components.\n",
      "  W.__init__(\n"
     ]
    },
    {
     "name": "stdout",
     "output_type": "stream",
     "text": [
      "2015-01-01\n",
      "398\n",
      "398\n",
      "got 398 samples\n",
      "('WARNING: ', 23, ' is an island (no neighbors)')\n",
      "('WARNING: ', 105, ' is an island (no neighbors)')\n",
      "('WARNING: ', 107, ' is an island (no neighbors)')\n",
      "('WARNING: ', 140, ' is an island (no neighbors)')\n",
      "('WARNING: ', 201, ' is an island (no neighbors)')\n",
      "2016-01-01\n"
     ]
    },
    {
     "name": "stderr",
     "output_type": "stream",
     "text": [
      "/home/briochamsley/.cache/pypoetry/virtualenvs/oqapi-analysis-QKiHp62D-py3.12/lib/python3.12/site-packages/libpysal/weights/util.py:826: UserWarning: The weights matrix is not fully connected: \n",
      " There are 8 disconnected components.\n",
      " There are 5 islands with ids: 23, 105, 107, 140, 201.\n",
      "  w = W(neighbors, weights, ids, **kwargs)\n",
      "/home/briochamsley/.cache/pypoetry/virtualenvs/oqapi-analysis-QKiHp62D-py3.12/lib/python3.12/site-packages/libpysal/weights/distance.py:844: UserWarning: The weights matrix is not fully connected: \n",
      " There are 8 disconnected components.\n",
      " There are 5 islands with ids: 23, 105, 107, 140, 201.\n",
      "  W.__init__(\n",
      "/home/briochamsley/.cache/pypoetry/virtualenvs/oqapi-analysis-QKiHp62D-py3.12/lib/python3.12/site-packages/libpysal/weights/util.py:826: UserWarning: The weights matrix is not fully connected: \n",
      " There are 3 disconnected components.\n",
      "  w = W(neighbors, weights, ids, **kwargs)\n",
      "/home/briochamsley/.cache/pypoetry/virtualenvs/oqapi-analysis-QKiHp62D-py3.12/lib/python3.12/site-packages/libpysal/weights/distance.py:844: UserWarning: The weights matrix is not fully connected: \n",
      " There are 3 disconnected components.\n",
      "  W.__init__(\n"
     ]
    },
    {
     "name": "stdout",
     "output_type": "stream",
     "text": [
      "398\n",
      "398\n",
      "got 398 samples\n",
      "('WARNING: ', 23, ' is an island (no neighbors)')\n",
      "('WARNING: ', 105, ' is an island (no neighbors)')\n",
      "('WARNING: ', 107, ' is an island (no neighbors)')\n",
      "('WARNING: ', 140, ' is an island (no neighbors)')\n",
      "('WARNING: ', 201, ' is an island (no neighbors)')\n",
      "2017-01-01\n"
     ]
    },
    {
     "name": "stderr",
     "output_type": "stream",
     "text": [
      "/home/briochamsley/.cache/pypoetry/virtualenvs/oqapi-analysis-QKiHp62D-py3.12/lib/python3.12/site-packages/libpysal/weights/util.py:826: UserWarning: The weights matrix is not fully connected: \n",
      " There are 8 disconnected components.\n",
      " There are 5 islands with ids: 23, 105, 107, 140, 201.\n",
      "  w = W(neighbors, weights, ids, **kwargs)\n",
      "/home/briochamsley/.cache/pypoetry/virtualenvs/oqapi-analysis-QKiHp62D-py3.12/lib/python3.12/site-packages/libpysal/weights/distance.py:844: UserWarning: The weights matrix is not fully connected: \n",
      " There are 8 disconnected components.\n",
      " There are 5 islands with ids: 23, 105, 107, 140, 201.\n",
      "  W.__init__(\n",
      "/home/briochamsley/.cache/pypoetry/virtualenvs/oqapi-analysis-QKiHp62D-py3.12/lib/python3.12/site-packages/libpysal/weights/util.py:826: UserWarning: The weights matrix is not fully connected: \n",
      " There are 3 disconnected components.\n",
      "  w = W(neighbors, weights, ids, **kwargs)\n",
      "/home/briochamsley/.cache/pypoetry/virtualenvs/oqapi-analysis-QKiHp62D-py3.12/lib/python3.12/site-packages/libpysal/weights/distance.py:844: UserWarning: The weights matrix is not fully connected: \n",
      " There are 3 disconnected components.\n",
      "  W.__init__(\n"
     ]
    },
    {
     "name": "stdout",
     "output_type": "stream",
     "text": [
      "398\n",
      "398\n",
      "got 398 samples\n",
      "('WARNING: ', 23, ' is an island (no neighbors)')\n",
      "('WARNING: ', 105, ' is an island (no neighbors)')\n",
      "('WARNING: ', 107, ' is an island (no neighbors)')\n",
      "('WARNING: ', 140, ' is an island (no neighbors)')\n",
      "('WARNING: ', 201, ' is an island (no neighbors)')\n",
      "2018-01-01\n"
     ]
    },
    {
     "name": "stderr",
     "output_type": "stream",
     "text": [
      "/home/briochamsley/.cache/pypoetry/virtualenvs/oqapi-analysis-QKiHp62D-py3.12/lib/python3.12/site-packages/libpysal/weights/util.py:826: UserWarning: The weights matrix is not fully connected: \n",
      " There are 8 disconnected components.\n",
      " There are 5 islands with ids: 23, 105, 107, 140, 201.\n",
      "  w = W(neighbors, weights, ids, **kwargs)\n",
      "/home/briochamsley/.cache/pypoetry/virtualenvs/oqapi-analysis-QKiHp62D-py3.12/lib/python3.12/site-packages/libpysal/weights/distance.py:844: UserWarning: The weights matrix is not fully connected: \n",
      " There are 8 disconnected components.\n",
      " There are 5 islands with ids: 23, 105, 107, 140, 201.\n",
      "  W.__init__(\n",
      "/home/briochamsley/.cache/pypoetry/virtualenvs/oqapi-analysis-QKiHp62D-py3.12/lib/python3.12/site-packages/libpysal/weights/util.py:826: UserWarning: The weights matrix is not fully connected: \n",
      " There are 3 disconnected components.\n",
      "  w = W(neighbors, weights, ids, **kwargs)\n",
      "/home/briochamsley/.cache/pypoetry/virtualenvs/oqapi-analysis-QKiHp62D-py3.12/lib/python3.12/site-packages/libpysal/weights/distance.py:844: UserWarning: The weights matrix is not fully connected: \n",
      " There are 3 disconnected components.\n",
      "  W.__init__(\n"
     ]
    },
    {
     "name": "stdout",
     "output_type": "stream",
     "text": [
      "398\n",
      "398\n",
      "got 398 samples\n",
      "('WARNING: ', 23, ' is an island (no neighbors)')\n",
      "('WARNING: ', 105, ' is an island (no neighbors)')\n",
      "('WARNING: ', 107, ' is an island (no neighbors)')\n",
      "('WARNING: ', 140, ' is an island (no neighbors)')\n",
      "('WARNING: ', 201, ' is an island (no neighbors)')\n",
      "2019-01-01\n"
     ]
    },
    {
     "name": "stderr",
     "output_type": "stream",
     "text": [
      "/home/briochamsley/.cache/pypoetry/virtualenvs/oqapi-analysis-QKiHp62D-py3.12/lib/python3.12/site-packages/libpysal/weights/util.py:826: UserWarning: The weights matrix is not fully connected: \n",
      " There are 8 disconnected components.\n",
      " There are 5 islands with ids: 23, 105, 107, 140, 201.\n",
      "  w = W(neighbors, weights, ids, **kwargs)\n",
      "/home/briochamsley/.cache/pypoetry/virtualenvs/oqapi-analysis-QKiHp62D-py3.12/lib/python3.12/site-packages/libpysal/weights/distance.py:844: UserWarning: The weights matrix is not fully connected: \n",
      " There are 8 disconnected components.\n",
      " There are 5 islands with ids: 23, 105, 107, 140, 201.\n",
      "  W.__init__(\n",
      "/home/briochamsley/.cache/pypoetry/virtualenvs/oqapi-analysis-QKiHp62D-py3.12/lib/python3.12/site-packages/libpysal/weights/util.py:826: UserWarning: The weights matrix is not fully connected: \n",
      " There are 3 disconnected components.\n",
      "  w = W(neighbors, weights, ids, **kwargs)\n",
      "/home/briochamsley/.cache/pypoetry/virtualenvs/oqapi-analysis-QKiHp62D-py3.12/lib/python3.12/site-packages/libpysal/weights/distance.py:844: UserWarning: The weights matrix is not fully connected: \n",
      " There are 3 disconnected components.\n",
      "  W.__init__(\n"
     ]
    },
    {
     "name": "stdout",
     "output_type": "stream",
     "text": [
      "398\n",
      "398\n",
      "got 398 samples\n",
      "('WARNING: ', 23, ' is an island (no neighbors)')\n",
      "('WARNING: ', 105, ' is an island (no neighbors)')\n",
      "('WARNING: ', 107, ' is an island (no neighbors)')\n",
      "('WARNING: ', 140, ' is an island (no neighbors)')\n",
      "('WARNING: ', 201, ' is an island (no neighbors)')\n",
      "2020-01-01\n"
     ]
    },
    {
     "name": "stderr",
     "output_type": "stream",
     "text": [
      "/home/briochamsley/.cache/pypoetry/virtualenvs/oqapi-analysis-QKiHp62D-py3.12/lib/python3.12/site-packages/libpysal/weights/util.py:826: UserWarning: The weights matrix is not fully connected: \n",
      " There are 8 disconnected components.\n",
      " There are 5 islands with ids: 23, 105, 107, 140, 201.\n",
      "  w = W(neighbors, weights, ids, **kwargs)\n",
      "/home/briochamsley/.cache/pypoetry/virtualenvs/oqapi-analysis-QKiHp62D-py3.12/lib/python3.12/site-packages/libpysal/weights/distance.py:844: UserWarning: The weights matrix is not fully connected: \n",
      " There are 8 disconnected components.\n",
      " There are 5 islands with ids: 23, 105, 107, 140, 201.\n",
      "  W.__init__(\n",
      "/home/briochamsley/.cache/pypoetry/virtualenvs/oqapi-analysis-QKiHp62D-py3.12/lib/python3.12/site-packages/libpysal/weights/util.py:826: UserWarning: The weights matrix is not fully connected: \n",
      " There are 3 disconnected components.\n",
      "  w = W(neighbors, weights, ids, **kwargs)\n",
      "/home/briochamsley/.cache/pypoetry/virtualenvs/oqapi-analysis-QKiHp62D-py3.12/lib/python3.12/site-packages/libpysal/weights/distance.py:844: UserWarning: The weights matrix is not fully connected: \n",
      " There are 3 disconnected components.\n",
      "  W.__init__(\n"
     ]
    },
    {
     "name": "stdout",
     "output_type": "stream",
     "text": [
      "398\n",
      "398\n",
      "got 398 samples\n",
      "('WARNING: ', 23, ' is an island (no neighbors)')\n",
      "('WARNING: ', 105, ' is an island (no neighbors)')\n",
      "('WARNING: ', 107, ' is an island (no neighbors)')\n",
      "('WARNING: ', 140, ' is an island (no neighbors)')\n",
      "('WARNING: ', 201, ' is an island (no neighbors)')\n",
      "2021-01-01\n"
     ]
    },
    {
     "name": "stderr",
     "output_type": "stream",
     "text": [
      "/home/briochamsley/.cache/pypoetry/virtualenvs/oqapi-analysis-QKiHp62D-py3.12/lib/python3.12/site-packages/libpysal/weights/util.py:826: UserWarning: The weights matrix is not fully connected: \n",
      " There are 8 disconnected components.\n",
      " There are 5 islands with ids: 23, 105, 107, 140, 201.\n",
      "  w = W(neighbors, weights, ids, **kwargs)\n",
      "/home/briochamsley/.cache/pypoetry/virtualenvs/oqapi-analysis-QKiHp62D-py3.12/lib/python3.12/site-packages/libpysal/weights/distance.py:844: UserWarning: The weights matrix is not fully connected: \n",
      " There are 8 disconnected components.\n",
      " There are 5 islands with ids: 23, 105, 107, 140, 201.\n",
      "  W.__init__(\n",
      "/home/briochamsley/.cache/pypoetry/virtualenvs/oqapi-analysis-QKiHp62D-py3.12/lib/python3.12/site-packages/libpysal/weights/util.py:826: UserWarning: The weights matrix is not fully connected: \n",
      " There are 3 disconnected components.\n",
      "  w = W(neighbors, weights, ids, **kwargs)\n",
      "/home/briochamsley/.cache/pypoetry/virtualenvs/oqapi-analysis-QKiHp62D-py3.12/lib/python3.12/site-packages/libpysal/weights/distance.py:844: UserWarning: The weights matrix is not fully connected: \n",
      " There are 3 disconnected components.\n",
      "  W.__init__(\n"
     ]
    },
    {
     "name": "stdout",
     "output_type": "stream",
     "text": [
      "398\n",
      "398\n",
      "got 398 samples\n",
      "('WARNING: ', 23, ' is an island (no neighbors)')\n",
      "('WARNING: ', 105, ' is an island (no neighbors)')\n",
      "('WARNING: ', 107, ' is an island (no neighbors)')\n",
      "('WARNING: ', 140, ' is an island (no neighbors)')\n",
      "('WARNING: ', 201, ' is an island (no neighbors)')\n",
      "2022-01-01\n"
     ]
    },
    {
     "name": "stderr",
     "output_type": "stream",
     "text": [
      "/home/briochamsley/.cache/pypoetry/virtualenvs/oqapi-analysis-QKiHp62D-py3.12/lib/python3.12/site-packages/libpysal/weights/util.py:826: UserWarning: The weights matrix is not fully connected: \n",
      " There are 8 disconnected components.\n",
      " There are 5 islands with ids: 23, 105, 107, 140, 201.\n",
      "  w = W(neighbors, weights, ids, **kwargs)\n",
      "/home/briochamsley/.cache/pypoetry/virtualenvs/oqapi-analysis-QKiHp62D-py3.12/lib/python3.12/site-packages/libpysal/weights/distance.py:844: UserWarning: The weights matrix is not fully connected: \n",
      " There are 8 disconnected components.\n",
      " There are 5 islands with ids: 23, 105, 107, 140, 201.\n",
      "  W.__init__(\n",
      "/home/briochamsley/.cache/pypoetry/virtualenvs/oqapi-analysis-QKiHp62D-py3.12/lib/python3.12/site-packages/libpysal/weights/util.py:826: UserWarning: The weights matrix is not fully connected: \n",
      " There are 3 disconnected components.\n",
      "  w = W(neighbors, weights, ids, **kwargs)\n",
      "/home/briochamsley/.cache/pypoetry/virtualenvs/oqapi-analysis-QKiHp62D-py3.12/lib/python3.12/site-packages/libpysal/weights/distance.py:844: UserWarning: The weights matrix is not fully connected: \n",
      " There are 3 disconnected components.\n",
      "  W.__init__(\n"
     ]
    },
    {
     "name": "stdout",
     "output_type": "stream",
     "text": [
      "398\n",
      "398\n",
      "got 398 samples\n",
      "('WARNING: ', 23, ' is an island (no neighbors)')\n",
      "('WARNING: ', 105, ' is an island (no neighbors)')\n",
      "('WARNING: ', 107, ' is an island (no neighbors)')\n",
      "('WARNING: ', 140, ' is an island (no neighbors)')\n",
      "('WARNING: ', 201, ' is an island (no neighbors)')\n",
      "2023-01-01\n"
     ]
    },
    {
     "name": "stderr",
     "output_type": "stream",
     "text": [
      "/home/briochamsley/.cache/pypoetry/virtualenvs/oqapi-analysis-QKiHp62D-py3.12/lib/python3.12/site-packages/libpysal/weights/util.py:826: UserWarning: The weights matrix is not fully connected: \n",
      " There are 8 disconnected components.\n",
      " There are 5 islands with ids: 23, 105, 107, 140, 201.\n",
      "  w = W(neighbors, weights, ids, **kwargs)\n",
      "/home/briochamsley/.cache/pypoetry/virtualenvs/oqapi-analysis-QKiHp62D-py3.12/lib/python3.12/site-packages/libpysal/weights/distance.py:844: UserWarning: The weights matrix is not fully connected: \n",
      " There are 8 disconnected components.\n",
      " There are 5 islands with ids: 23, 105, 107, 140, 201.\n",
      "  W.__init__(\n",
      "/home/briochamsley/.cache/pypoetry/virtualenvs/oqapi-analysis-QKiHp62D-py3.12/lib/python3.12/site-packages/libpysal/weights/util.py:826: UserWarning: The weights matrix is not fully connected: \n",
      " There are 3 disconnected components.\n",
      "  w = W(neighbors, weights, ids, **kwargs)\n",
      "/home/briochamsley/.cache/pypoetry/virtualenvs/oqapi-analysis-QKiHp62D-py3.12/lib/python3.12/site-packages/libpysal/weights/distance.py:844: UserWarning: The weights matrix is not fully connected: \n",
      " There are 3 disconnected components.\n",
      "  W.__init__(\n"
     ]
    },
    {
     "name": "stdout",
     "output_type": "stream",
     "text": [
      "398\n",
      "398\n",
      "got 398 samples\n",
      "('WARNING: ', 23, ' is an island (no neighbors)')\n",
      "('WARNING: ', 105, ' is an island (no neighbors)')\n",
      "('WARNING: ', 107, ' is an island (no neighbors)')\n",
      "('WARNING: ', 140, ' is an island (no neighbors)')\n",
      "('WARNING: ', 201, ' is an island (no neighbors)')\n"
     ]
    },
    {
     "name": "stderr",
     "output_type": "stream",
     "text": [
      "/home/briochamsley/.cache/pypoetry/virtualenvs/oqapi-analysis-QKiHp62D-py3.12/lib/python3.12/site-packages/libpysal/weights/util.py:826: UserWarning: The weights matrix is not fully connected: \n",
      " There are 8 disconnected components.\n",
      " There are 5 islands with ids: 23, 105, 107, 140, 201.\n",
      "  w = W(neighbors, weights, ids, **kwargs)\n",
      "/home/briochamsley/.cache/pypoetry/virtualenvs/oqapi-analysis-QKiHp62D-py3.12/lib/python3.12/site-packages/libpysal/weights/distance.py:844: UserWarning: The weights matrix is not fully connected: \n",
      " There are 8 disconnected components.\n",
      " There are 5 islands with ids: 23, 105, 107, 140, 201.\n",
      "  W.__init__(\n",
      "/home/briochamsley/.cache/pypoetry/virtualenvs/oqapi-analysis-QKiHp62D-py3.12/lib/python3.12/site-packages/libpysal/weights/util.py:826: UserWarning: The weights matrix is not fully connected: \n",
      " There are 3 disconnected components.\n",
      "  w = W(neighbors, weights, ids, **kwargs)\n",
      "/home/briochamsley/.cache/pypoetry/virtualenvs/oqapi-analysis-QKiHp62D-py3.12/lib/python3.12/site-packages/libpysal/weights/distance.py:844: UserWarning: The weights matrix is not fully connected: \n",
      " There are 3 disconnected components.\n",
      "  W.__init__(\n"
     ]
    },
    {
     "name": "stdout",
     "output_type": "stream",
     "text": [
      "2024-01-01\n",
      "398\n",
      "398\n",
      "got 398 samples\n",
      "('WARNING: ', 23, ' is an island (no neighbors)')\n",
      "('WARNING: ', 105, ' is an island (no neighbors)')\n",
      "('WARNING: ', 107, ' is an island (no neighbors)')\n",
      "('WARNING: ', 140, ' is an island (no neighbors)')\n",
      "('WARNING: ', 201, ' is an island (no neighbors)')\n",
      "2024-05-01\n"
     ]
    },
    {
     "name": "stderr",
     "output_type": "stream",
     "text": [
      "/home/briochamsley/.cache/pypoetry/virtualenvs/oqapi-analysis-QKiHp62D-py3.12/lib/python3.12/site-packages/libpysal/weights/util.py:826: UserWarning: The weights matrix is not fully connected: \n",
      " There are 8 disconnected components.\n",
      " There are 5 islands with ids: 23, 105, 107, 140, 201.\n",
      "  w = W(neighbors, weights, ids, **kwargs)\n",
      "/home/briochamsley/.cache/pypoetry/virtualenvs/oqapi-analysis-QKiHp62D-py3.12/lib/python3.12/site-packages/libpysal/weights/distance.py:844: UserWarning: The weights matrix is not fully connected: \n",
      " There are 8 disconnected components.\n",
      " There are 5 islands with ids: 23, 105, 107, 140, 201.\n",
      "  W.__init__(\n",
      "/home/briochamsley/.cache/pypoetry/virtualenvs/oqapi-analysis-QKiHp62D-py3.12/lib/python3.12/site-packages/libpysal/weights/util.py:826: UserWarning: The weights matrix is not fully connected: \n",
      " There are 3 disconnected components.\n",
      "  w = W(neighbors, weights, ids, **kwargs)\n",
      "/home/briochamsley/.cache/pypoetry/virtualenvs/oqapi-analysis-QKiHp62D-py3.12/lib/python3.12/site-packages/libpysal/weights/distance.py:844: UserWarning: The weights matrix is not fully connected: \n",
      " There are 3 disconnected components.\n",
      "  W.__init__(\n"
     ]
    },
    {
     "name": "stdout",
     "output_type": "stream",
     "text": [
      "398\n",
      "398\n",
      "got 398 samples\n",
      "('WARNING: ', 23, ' is an island (no neighbors)')\n",
      "('WARNING: ', 105, ' is an island (no neighbors)')\n",
      "('WARNING: ', 107, ' is an island (no neighbors)')\n",
      "('WARNING: ', 140, ' is an island (no neighbors)')\n",
      "('WARNING: ', 201, ' is an island (no neighbors)')\n",
      "2008-01-01\n"
     ]
    },
    {
     "name": "stderr",
     "output_type": "stream",
     "text": [
      "/home/briochamsley/.cache/pypoetry/virtualenvs/oqapi-analysis-QKiHp62D-py3.12/lib/python3.12/site-packages/libpysal/weights/util.py:826: UserWarning: The weights matrix is not fully connected: \n",
      " There are 8 disconnected components.\n",
      " There are 5 islands with ids: 23, 105, 107, 140, 201.\n",
      "  w = W(neighbors, weights, ids, **kwargs)\n",
      "/home/briochamsley/.cache/pypoetry/virtualenvs/oqapi-analysis-QKiHp62D-py3.12/lib/python3.12/site-packages/libpysal/weights/distance.py:844: UserWarning: The weights matrix is not fully connected: \n",
      " There are 8 disconnected components.\n",
      " There are 5 islands with ids: 23, 105, 107, 140, 201.\n",
      "  W.__init__(\n",
      "/home/briochamsley/.cache/pypoetry/virtualenvs/oqapi-analysis-QKiHp62D-py3.12/lib/python3.12/site-packages/libpysal/weights/util.py:826: UserWarning: The weights matrix is not fully connected: \n",
      " There are 3 disconnected components.\n",
      "  w = W(neighbors, weights, ids, **kwargs)\n",
      "/home/briochamsley/.cache/pypoetry/virtualenvs/oqapi-analysis-QKiHp62D-py3.12/lib/python3.12/site-packages/libpysal/weights/distance.py:844: UserWarning: The weights matrix is not fully connected: \n",
      " There are 3 disconnected components.\n",
      "  W.__init__(\n"
     ]
    },
    {
     "name": "stdout",
     "output_type": "stream",
     "text": [
      "2619\n",
      "2619\n",
      "got 2619 samples\n"
     ]
    },
    {
     "name": "stderr",
     "output_type": "stream",
     "text": [
      "/home/briochamsley/.cache/pypoetry/virtualenvs/oqapi-analysis-QKiHp62D-py3.12/lib/python3.12/site-packages/libpysal/weights/util.py:826: UserWarning: The weights matrix is not fully connected: \n",
      " There are 3 disconnected components.\n",
      " There are 2 islands with ids: 3, 2618.\n",
      "  w = W(neighbors, weights, ids, **kwargs)\n",
      "/home/briochamsley/.cache/pypoetry/virtualenvs/oqapi-analysis-QKiHp62D-py3.12/lib/python3.12/site-packages/libpysal/weights/distance.py:844: UserWarning: The weights matrix is not fully connected: \n",
      " There are 3 disconnected components.\n",
      " There are 2 islands with ids: 3, 2618.\n",
      "  W.__init__(\n"
     ]
    },
    {
     "name": "stdout",
     "output_type": "stream",
     "text": [
      "('WARNING: ', 3, ' is an island (no neighbors)')\n",
      "('WARNING: ', 2618, ' is an island (no neighbors)')\n",
      "2009-01-01\n",
      "2619\n",
      "2619\n",
      "got 2619 samples\n"
     ]
    },
    {
     "name": "stderr",
     "output_type": "stream",
     "text": [
      "/home/briochamsley/.cache/pypoetry/virtualenvs/oqapi-analysis-QKiHp62D-py3.12/lib/python3.12/site-packages/libpysal/weights/util.py:826: UserWarning: The weights matrix is not fully connected: \n",
      " There are 3 disconnected components.\n",
      " There are 2 islands with ids: 3, 2618.\n",
      "  w = W(neighbors, weights, ids, **kwargs)\n",
      "/home/briochamsley/.cache/pypoetry/virtualenvs/oqapi-analysis-QKiHp62D-py3.12/lib/python3.12/site-packages/libpysal/weights/distance.py:844: UserWarning: The weights matrix is not fully connected: \n",
      " There are 3 disconnected components.\n",
      " There are 2 islands with ids: 3, 2618.\n",
      "  W.__init__(\n"
     ]
    },
    {
     "name": "stdout",
     "output_type": "stream",
     "text": [
      "('WARNING: ', 3, ' is an island (no neighbors)')\n",
      "('WARNING: ', 2618, ' is an island (no neighbors)')\n",
      "2010-01-01\n",
      "2619\n",
      "2619\n",
      "got 2619 samples\n"
     ]
    },
    {
     "name": "stderr",
     "output_type": "stream",
     "text": [
      "/home/briochamsley/.cache/pypoetry/virtualenvs/oqapi-analysis-QKiHp62D-py3.12/lib/python3.12/site-packages/libpysal/weights/util.py:826: UserWarning: The weights matrix is not fully connected: \n",
      " There are 3 disconnected components.\n",
      " There are 2 islands with ids: 3, 2618.\n",
      "  w = W(neighbors, weights, ids, **kwargs)\n",
      "/home/briochamsley/.cache/pypoetry/virtualenvs/oqapi-analysis-QKiHp62D-py3.12/lib/python3.12/site-packages/libpysal/weights/distance.py:844: UserWarning: The weights matrix is not fully connected: \n",
      " There are 3 disconnected components.\n",
      " There are 2 islands with ids: 3, 2618.\n",
      "  W.__init__(\n"
     ]
    },
    {
     "name": "stdout",
     "output_type": "stream",
     "text": [
      "('WARNING: ', 3, ' is an island (no neighbors)')\n",
      "('WARNING: ', 2618, ' is an island (no neighbors)')\n",
      "2011-01-01\n",
      "2619\n",
      "2619\n",
      "got 2619 samples\n"
     ]
    },
    {
     "name": "stderr",
     "output_type": "stream",
     "text": [
      "/home/briochamsley/.cache/pypoetry/virtualenvs/oqapi-analysis-QKiHp62D-py3.12/lib/python3.12/site-packages/libpysal/weights/util.py:826: UserWarning: The weights matrix is not fully connected: \n",
      " There are 3 disconnected components.\n",
      " There are 2 islands with ids: 3, 2618.\n",
      "  w = W(neighbors, weights, ids, **kwargs)\n",
      "/home/briochamsley/.cache/pypoetry/virtualenvs/oqapi-analysis-QKiHp62D-py3.12/lib/python3.12/site-packages/libpysal/weights/distance.py:844: UserWarning: The weights matrix is not fully connected: \n",
      " There are 3 disconnected components.\n",
      " There are 2 islands with ids: 3, 2618.\n",
      "  W.__init__(\n"
     ]
    },
    {
     "name": "stdout",
     "output_type": "stream",
     "text": [
      "('WARNING: ', 3, ' is an island (no neighbors)')\n",
      "('WARNING: ', 2618, ' is an island (no neighbors)')\n",
      "2012-01-01\n",
      "2619\n",
      "2619\n",
      "got 2619 samples\n"
     ]
    },
    {
     "name": "stderr",
     "output_type": "stream",
     "text": [
      "/home/briochamsley/.cache/pypoetry/virtualenvs/oqapi-analysis-QKiHp62D-py3.12/lib/python3.12/site-packages/libpysal/weights/util.py:826: UserWarning: The weights matrix is not fully connected: \n",
      " There are 3 disconnected components.\n",
      " There are 2 islands with ids: 3, 2618.\n",
      "  w = W(neighbors, weights, ids, **kwargs)\n",
      "/home/briochamsley/.cache/pypoetry/virtualenvs/oqapi-analysis-QKiHp62D-py3.12/lib/python3.12/site-packages/libpysal/weights/distance.py:844: UserWarning: The weights matrix is not fully connected: \n",
      " There are 3 disconnected components.\n",
      " There are 2 islands with ids: 3, 2618.\n",
      "  W.__init__(\n"
     ]
    },
    {
     "name": "stdout",
     "output_type": "stream",
     "text": [
      "('WARNING: ', 3, ' is an island (no neighbors)')\n",
      "('WARNING: ', 2618, ' is an island (no neighbors)')\n",
      "2013-01-01\n",
      "2619\n",
      "2619\n",
      "got 2619 samples\n"
     ]
    },
    {
     "name": "stderr",
     "output_type": "stream",
     "text": [
      "/home/briochamsley/.cache/pypoetry/virtualenvs/oqapi-analysis-QKiHp62D-py3.12/lib/python3.12/site-packages/libpysal/weights/util.py:826: UserWarning: The weights matrix is not fully connected: \n",
      " There are 3 disconnected components.\n",
      " There are 2 islands with ids: 3, 2618.\n",
      "  w = W(neighbors, weights, ids, **kwargs)\n",
      "/home/briochamsley/.cache/pypoetry/virtualenvs/oqapi-analysis-QKiHp62D-py3.12/lib/python3.12/site-packages/libpysal/weights/distance.py:844: UserWarning: The weights matrix is not fully connected: \n",
      " There are 3 disconnected components.\n",
      " There are 2 islands with ids: 3, 2618.\n",
      "  W.__init__(\n"
     ]
    },
    {
     "name": "stdout",
     "output_type": "stream",
     "text": [
      "('WARNING: ', 3, ' is an island (no neighbors)')\n",
      "('WARNING: ', 2618, ' is an island (no neighbors)')\n",
      "2014-01-01\n",
      "2619\n",
      "2619\n",
      "got 2619 samples\n"
     ]
    },
    {
     "name": "stderr",
     "output_type": "stream",
     "text": [
      "/home/briochamsley/.cache/pypoetry/virtualenvs/oqapi-analysis-QKiHp62D-py3.12/lib/python3.12/site-packages/libpysal/weights/util.py:826: UserWarning: The weights matrix is not fully connected: \n",
      " There are 3 disconnected components.\n",
      " There are 2 islands with ids: 3, 2618.\n",
      "  w = W(neighbors, weights, ids, **kwargs)\n",
      "/home/briochamsley/.cache/pypoetry/virtualenvs/oqapi-analysis-QKiHp62D-py3.12/lib/python3.12/site-packages/libpysal/weights/distance.py:844: UserWarning: The weights matrix is not fully connected: \n",
      " There are 3 disconnected components.\n",
      " There are 2 islands with ids: 3, 2618.\n",
      "  W.__init__(\n"
     ]
    },
    {
     "name": "stdout",
     "output_type": "stream",
     "text": [
      "('WARNING: ', 3, ' is an island (no neighbors)')\n",
      "('WARNING: ', 2618, ' is an island (no neighbors)')\n",
      "2015-01-01\n",
      "2619\n",
      "2619\n",
      "got 2619 samples\n"
     ]
    },
    {
     "name": "stderr",
     "output_type": "stream",
     "text": [
      "/home/briochamsley/.cache/pypoetry/virtualenvs/oqapi-analysis-QKiHp62D-py3.12/lib/python3.12/site-packages/libpysal/weights/util.py:826: UserWarning: The weights matrix is not fully connected: \n",
      " There are 3 disconnected components.\n",
      " There are 2 islands with ids: 3, 2618.\n",
      "  w = W(neighbors, weights, ids, **kwargs)\n",
      "/home/briochamsley/.cache/pypoetry/virtualenvs/oqapi-analysis-QKiHp62D-py3.12/lib/python3.12/site-packages/libpysal/weights/distance.py:844: UserWarning: The weights matrix is not fully connected: \n",
      " There are 3 disconnected components.\n",
      " There are 2 islands with ids: 3, 2618.\n",
      "  W.__init__(\n"
     ]
    },
    {
     "name": "stdout",
     "output_type": "stream",
     "text": [
      "('WARNING: ', 3, ' is an island (no neighbors)')\n",
      "('WARNING: ', 2618, ' is an island (no neighbors)')\n",
      "2016-01-01\n",
      "2619\n",
      "2619\n",
      "got 2619 samples\n"
     ]
    },
    {
     "name": "stderr",
     "output_type": "stream",
     "text": [
      "/home/briochamsley/.cache/pypoetry/virtualenvs/oqapi-analysis-QKiHp62D-py3.12/lib/python3.12/site-packages/libpysal/weights/util.py:826: UserWarning: The weights matrix is not fully connected: \n",
      " There are 3 disconnected components.\n",
      " There are 2 islands with ids: 3, 2618.\n",
      "  w = W(neighbors, weights, ids, **kwargs)\n",
      "/home/briochamsley/.cache/pypoetry/virtualenvs/oqapi-analysis-QKiHp62D-py3.12/lib/python3.12/site-packages/libpysal/weights/distance.py:844: UserWarning: The weights matrix is not fully connected: \n",
      " There are 3 disconnected components.\n",
      " There are 2 islands with ids: 3, 2618.\n",
      "  W.__init__(\n"
     ]
    },
    {
     "name": "stdout",
     "output_type": "stream",
     "text": [
      "('WARNING: ', 3, ' is an island (no neighbors)')\n",
      "('WARNING: ', 2618, ' is an island (no neighbors)')\n",
      "2017-01-01\n",
      "2619\n",
      "2619\n",
      "got 2619 samples\n"
     ]
    },
    {
     "name": "stderr",
     "output_type": "stream",
     "text": [
      "/home/briochamsley/.cache/pypoetry/virtualenvs/oqapi-analysis-QKiHp62D-py3.12/lib/python3.12/site-packages/libpysal/weights/util.py:826: UserWarning: The weights matrix is not fully connected: \n",
      " There are 3 disconnected components.\n",
      " There are 2 islands with ids: 3, 2618.\n",
      "  w = W(neighbors, weights, ids, **kwargs)\n",
      "/home/briochamsley/.cache/pypoetry/virtualenvs/oqapi-analysis-QKiHp62D-py3.12/lib/python3.12/site-packages/libpysal/weights/distance.py:844: UserWarning: The weights matrix is not fully connected: \n",
      " There are 3 disconnected components.\n",
      " There are 2 islands with ids: 3, 2618.\n",
      "  W.__init__(\n"
     ]
    },
    {
     "name": "stdout",
     "output_type": "stream",
     "text": [
      "('WARNING: ', 3, ' is an island (no neighbors)')\n",
      "('WARNING: ', 2618, ' is an island (no neighbors)')\n",
      "2018-01-01\n",
      "2619\n",
      "2619\n",
      "got 2619 samples\n"
     ]
    },
    {
     "name": "stderr",
     "output_type": "stream",
     "text": [
      "/home/briochamsley/.cache/pypoetry/virtualenvs/oqapi-analysis-QKiHp62D-py3.12/lib/python3.12/site-packages/libpysal/weights/util.py:826: UserWarning: The weights matrix is not fully connected: \n",
      " There are 3 disconnected components.\n",
      " There are 2 islands with ids: 3, 2618.\n",
      "  w = W(neighbors, weights, ids, **kwargs)\n",
      "/home/briochamsley/.cache/pypoetry/virtualenvs/oqapi-analysis-QKiHp62D-py3.12/lib/python3.12/site-packages/libpysal/weights/distance.py:844: UserWarning: The weights matrix is not fully connected: \n",
      " There are 3 disconnected components.\n",
      " There are 2 islands with ids: 3, 2618.\n",
      "  W.__init__(\n"
     ]
    },
    {
     "name": "stdout",
     "output_type": "stream",
     "text": [
      "('WARNING: ', 3, ' is an island (no neighbors)')\n",
      "('WARNING: ', 2618, ' is an island (no neighbors)')\n",
      "2019-01-01\n",
      "2619\n",
      "2619\n",
      "got 2619 samples\n"
     ]
    },
    {
     "name": "stderr",
     "output_type": "stream",
     "text": [
      "/home/briochamsley/.cache/pypoetry/virtualenvs/oqapi-analysis-QKiHp62D-py3.12/lib/python3.12/site-packages/libpysal/weights/util.py:826: UserWarning: The weights matrix is not fully connected: \n",
      " There are 3 disconnected components.\n",
      " There are 2 islands with ids: 3, 2618.\n",
      "  w = W(neighbors, weights, ids, **kwargs)\n",
      "/home/briochamsley/.cache/pypoetry/virtualenvs/oqapi-analysis-QKiHp62D-py3.12/lib/python3.12/site-packages/libpysal/weights/distance.py:844: UserWarning: The weights matrix is not fully connected: \n",
      " There are 3 disconnected components.\n",
      " There are 2 islands with ids: 3, 2618.\n",
      "  W.__init__(\n"
     ]
    },
    {
     "name": "stdout",
     "output_type": "stream",
     "text": [
      "('WARNING: ', 3, ' is an island (no neighbors)')\n",
      "('WARNING: ', 2618, ' is an island (no neighbors)')\n",
      "2020-01-01\n",
      "2619\n",
      "2619\n",
      "got 2619 samples\n"
     ]
    },
    {
     "name": "stderr",
     "output_type": "stream",
     "text": [
      "/home/briochamsley/.cache/pypoetry/virtualenvs/oqapi-analysis-QKiHp62D-py3.12/lib/python3.12/site-packages/libpysal/weights/util.py:826: UserWarning: The weights matrix is not fully connected: \n",
      " There are 3 disconnected components.\n",
      " There are 2 islands with ids: 3, 2618.\n",
      "  w = W(neighbors, weights, ids, **kwargs)\n",
      "/home/briochamsley/.cache/pypoetry/virtualenvs/oqapi-analysis-QKiHp62D-py3.12/lib/python3.12/site-packages/libpysal/weights/distance.py:844: UserWarning: The weights matrix is not fully connected: \n",
      " There are 3 disconnected components.\n",
      " There are 2 islands with ids: 3, 2618.\n",
      "  W.__init__(\n"
     ]
    },
    {
     "name": "stdout",
     "output_type": "stream",
     "text": [
      "('WARNING: ', 3, ' is an island (no neighbors)')\n",
      "('WARNING: ', 2618, ' is an island (no neighbors)')\n",
      "2021-01-01\n",
      "2619\n",
      "2619\n",
      "got 2619 samples\n"
     ]
    },
    {
     "name": "stderr",
     "output_type": "stream",
     "text": [
      "/home/briochamsley/.cache/pypoetry/virtualenvs/oqapi-analysis-QKiHp62D-py3.12/lib/python3.12/site-packages/libpysal/weights/util.py:826: UserWarning: The weights matrix is not fully connected: \n",
      " There are 3 disconnected components.\n",
      " There are 2 islands with ids: 3, 2618.\n",
      "  w = W(neighbors, weights, ids, **kwargs)\n",
      "/home/briochamsley/.cache/pypoetry/virtualenvs/oqapi-analysis-QKiHp62D-py3.12/lib/python3.12/site-packages/libpysal/weights/distance.py:844: UserWarning: The weights matrix is not fully connected: \n",
      " There are 3 disconnected components.\n",
      " There are 2 islands with ids: 3, 2618.\n",
      "  W.__init__(\n"
     ]
    },
    {
     "name": "stdout",
     "output_type": "stream",
     "text": [
      "('WARNING: ', 3, ' is an island (no neighbors)')\n",
      "('WARNING: ', 2618, ' is an island (no neighbors)')\n",
      "2022-01-01\n",
      "2619\n",
      "2619\n",
      "got 2619 samples\n"
     ]
    },
    {
     "name": "stderr",
     "output_type": "stream",
     "text": [
      "/home/briochamsley/.cache/pypoetry/virtualenvs/oqapi-analysis-QKiHp62D-py3.12/lib/python3.12/site-packages/libpysal/weights/util.py:826: UserWarning: The weights matrix is not fully connected: \n",
      " There are 3 disconnected components.\n",
      " There are 2 islands with ids: 3, 2618.\n",
      "  w = W(neighbors, weights, ids, **kwargs)\n",
      "/home/briochamsley/.cache/pypoetry/virtualenvs/oqapi-analysis-QKiHp62D-py3.12/lib/python3.12/site-packages/libpysal/weights/distance.py:844: UserWarning: The weights matrix is not fully connected: \n",
      " There are 3 disconnected components.\n",
      " There are 2 islands with ids: 3, 2618.\n",
      "  W.__init__(\n"
     ]
    },
    {
     "name": "stdout",
     "output_type": "stream",
     "text": [
      "('WARNING: ', 3, ' is an island (no neighbors)')\n",
      "('WARNING: ', 2618, ' is an island (no neighbors)')\n",
      "2023-01-01\n",
      "2619\n",
      "2619\n",
      "got 2619 samples\n"
     ]
    },
    {
     "name": "stderr",
     "output_type": "stream",
     "text": [
      "/home/briochamsley/.cache/pypoetry/virtualenvs/oqapi-analysis-QKiHp62D-py3.12/lib/python3.12/site-packages/libpysal/weights/util.py:826: UserWarning: The weights matrix is not fully connected: \n",
      " There are 3 disconnected components.\n",
      " There are 2 islands with ids: 3, 2618.\n",
      "  w = W(neighbors, weights, ids, **kwargs)\n",
      "/home/briochamsley/.cache/pypoetry/virtualenvs/oqapi-analysis-QKiHp62D-py3.12/lib/python3.12/site-packages/libpysal/weights/distance.py:844: UserWarning: The weights matrix is not fully connected: \n",
      " There are 3 disconnected components.\n",
      " There are 2 islands with ids: 3, 2618.\n",
      "  W.__init__(\n"
     ]
    },
    {
     "name": "stdout",
     "output_type": "stream",
     "text": [
      "('WARNING: ', 3, ' is an island (no neighbors)')\n",
      "('WARNING: ', 2618, ' is an island (no neighbors)')\n",
      "2024-01-01\n",
      "2619\n",
      "2619\n",
      "got 2619 samples\n"
     ]
    },
    {
     "name": "stderr",
     "output_type": "stream",
     "text": [
      "/home/briochamsley/.cache/pypoetry/virtualenvs/oqapi-analysis-QKiHp62D-py3.12/lib/python3.12/site-packages/libpysal/weights/util.py:826: UserWarning: The weights matrix is not fully connected: \n",
      " There are 3 disconnected components.\n",
      " There are 2 islands with ids: 3, 2618.\n",
      "  w = W(neighbors, weights, ids, **kwargs)\n",
      "/home/briochamsley/.cache/pypoetry/virtualenvs/oqapi-analysis-QKiHp62D-py3.12/lib/python3.12/site-packages/libpysal/weights/distance.py:844: UserWarning: The weights matrix is not fully connected: \n",
      " There are 3 disconnected components.\n",
      " There are 2 islands with ids: 3, 2618.\n",
      "  W.__init__(\n"
     ]
    },
    {
     "name": "stdout",
     "output_type": "stream",
     "text": [
      "('WARNING: ', 3, ' is an island (no neighbors)')\n",
      "('WARNING: ', 2618, ' is an island (no neighbors)')\n",
      "2024-05-01\n",
      "2619\n",
      "2619\n",
      "got 2619 samples\n"
     ]
    },
    {
     "name": "stderr",
     "output_type": "stream",
     "text": [
      "/home/briochamsley/.cache/pypoetry/virtualenvs/oqapi-analysis-QKiHp62D-py3.12/lib/python3.12/site-packages/libpysal/weights/util.py:826: UserWarning: The weights matrix is not fully connected: \n",
      " There are 3 disconnected components.\n",
      " There are 2 islands with ids: 3, 2618.\n",
      "  w = W(neighbors, weights, ids, **kwargs)\n",
      "/home/briochamsley/.cache/pypoetry/virtualenvs/oqapi-analysis-QKiHp62D-py3.12/lib/python3.12/site-packages/libpysal/weights/distance.py:844: UserWarning: The weights matrix is not fully connected: \n",
      " There are 3 disconnected components.\n",
      " There are 2 islands with ids: 3, 2618.\n",
      "  W.__init__(\n"
     ]
    },
    {
     "name": "stdout",
     "output_type": "stream",
     "text": [
      "('WARNING: ', 3, ' is an island (no neighbors)')\n",
      "('WARNING: ', 2618, ' is an island (no neighbors)')\n",
      "2008-01-01\n",
      "1832\n",
      "1832\n",
      "got 1832 samples\n"
     ]
    },
    {
     "name": "stderr",
     "output_type": "stream",
     "text": [
      "/home/briochamsley/.cache/pypoetry/virtualenvs/oqapi-analysis-QKiHp62D-py3.12/lib/python3.12/site-packages/libpysal/weights/util.py:826: UserWarning: The weights matrix is not fully connected: \n",
      " There are 4 disconnected components.\n",
      " There is 1 island with id: 46.\n",
      "  w = W(neighbors, weights, ids, **kwargs)\n",
      "/home/briochamsley/.cache/pypoetry/virtualenvs/oqapi-analysis-QKiHp62D-py3.12/lib/python3.12/site-packages/libpysal/weights/distance.py:844: UserWarning: The weights matrix is not fully connected: \n",
      " There are 4 disconnected components.\n",
      " There is 1 island with id: 46.\n",
      "  W.__init__(\n"
     ]
    },
    {
     "name": "stdout",
     "output_type": "stream",
     "text": [
      "('WARNING: ', 46, ' is an island (no neighbors)')\n"
     ]
    },
    {
     "name": "stderr",
     "output_type": "stream",
     "text": [
      "/home/briochamsley/.cache/pypoetry/virtualenvs/oqapi-analysis-QKiHp62D-py3.12/lib/python3.12/site-packages/libpysal/weights/util.py:826: UserWarning: The weights matrix is not fully connected: \n",
      " There are 3 disconnected components.\n",
      "  w = W(neighbors, weights, ids, **kwargs)\n",
      "/home/briochamsley/.cache/pypoetry/virtualenvs/oqapi-analysis-QKiHp62D-py3.12/lib/python3.12/site-packages/libpysal/weights/distance.py:844: UserWarning: The weights matrix is not fully connected: \n",
      " There are 3 disconnected components.\n",
      "  W.__init__(\n"
     ]
    },
    {
     "name": "stdout",
     "output_type": "stream",
     "text": [
      "2009-01-01\n",
      "1832\n",
      "1832\n",
      "got 1832 samples\n"
     ]
    },
    {
     "name": "stderr",
     "output_type": "stream",
     "text": [
      "/home/briochamsley/.cache/pypoetry/virtualenvs/oqapi-analysis-QKiHp62D-py3.12/lib/python3.12/site-packages/libpysal/weights/util.py:826: UserWarning: The weights matrix is not fully connected: \n",
      " There are 4 disconnected components.\n",
      " There is 1 island with id: 46.\n",
      "  w = W(neighbors, weights, ids, **kwargs)\n",
      "/home/briochamsley/.cache/pypoetry/virtualenvs/oqapi-analysis-QKiHp62D-py3.12/lib/python3.12/site-packages/libpysal/weights/distance.py:844: UserWarning: The weights matrix is not fully connected: \n",
      " There are 4 disconnected components.\n",
      " There is 1 island with id: 46.\n",
      "  W.__init__(\n"
     ]
    },
    {
     "name": "stdout",
     "output_type": "stream",
     "text": [
      "('WARNING: ', 46, ' is an island (no neighbors)')\n"
     ]
    },
    {
     "name": "stderr",
     "output_type": "stream",
     "text": [
      "/home/briochamsley/.cache/pypoetry/virtualenvs/oqapi-analysis-QKiHp62D-py3.12/lib/python3.12/site-packages/libpysal/weights/util.py:826: UserWarning: The weights matrix is not fully connected: \n",
      " There are 3 disconnected components.\n",
      "  w = W(neighbors, weights, ids, **kwargs)\n",
      "/home/briochamsley/.cache/pypoetry/virtualenvs/oqapi-analysis-QKiHp62D-py3.12/lib/python3.12/site-packages/libpysal/weights/distance.py:844: UserWarning: The weights matrix is not fully connected: \n",
      " There are 3 disconnected components.\n",
      "  W.__init__(\n"
     ]
    },
    {
     "name": "stdout",
     "output_type": "stream",
     "text": [
      "2010-01-01\n",
      "1832\n",
      "1832\n",
      "got 1832 samples\n"
     ]
    },
    {
     "name": "stderr",
     "output_type": "stream",
     "text": [
      "/home/briochamsley/.cache/pypoetry/virtualenvs/oqapi-analysis-QKiHp62D-py3.12/lib/python3.12/site-packages/libpysal/weights/util.py:826: UserWarning: The weights matrix is not fully connected: \n",
      " There are 4 disconnected components.\n",
      " There is 1 island with id: 46.\n",
      "  w = W(neighbors, weights, ids, **kwargs)\n",
      "/home/briochamsley/.cache/pypoetry/virtualenvs/oqapi-analysis-QKiHp62D-py3.12/lib/python3.12/site-packages/libpysal/weights/distance.py:844: UserWarning: The weights matrix is not fully connected: \n",
      " There are 4 disconnected components.\n",
      " There is 1 island with id: 46.\n",
      "  W.__init__(\n"
     ]
    },
    {
     "name": "stdout",
     "output_type": "stream",
     "text": [
      "('WARNING: ', 46, ' is an island (no neighbors)')\n"
     ]
    },
    {
     "name": "stderr",
     "output_type": "stream",
     "text": [
      "/home/briochamsley/.cache/pypoetry/virtualenvs/oqapi-analysis-QKiHp62D-py3.12/lib/python3.12/site-packages/libpysal/weights/util.py:826: UserWarning: The weights matrix is not fully connected: \n",
      " There are 3 disconnected components.\n",
      "  w = W(neighbors, weights, ids, **kwargs)\n",
      "/home/briochamsley/.cache/pypoetry/virtualenvs/oqapi-analysis-QKiHp62D-py3.12/lib/python3.12/site-packages/libpysal/weights/distance.py:844: UserWarning: The weights matrix is not fully connected: \n",
      " There are 3 disconnected components.\n",
      "  W.__init__(\n"
     ]
    },
    {
     "name": "stdout",
     "output_type": "stream",
     "text": [
      "2011-01-01\n",
      "1832\n",
      "1832\n",
      "got 1832 samples\n"
     ]
    },
    {
     "name": "stderr",
     "output_type": "stream",
     "text": [
      "/home/briochamsley/.cache/pypoetry/virtualenvs/oqapi-analysis-QKiHp62D-py3.12/lib/python3.12/site-packages/libpysal/weights/util.py:826: UserWarning: The weights matrix is not fully connected: \n",
      " There are 4 disconnected components.\n",
      " There is 1 island with id: 46.\n",
      "  w = W(neighbors, weights, ids, **kwargs)\n",
      "/home/briochamsley/.cache/pypoetry/virtualenvs/oqapi-analysis-QKiHp62D-py3.12/lib/python3.12/site-packages/libpysal/weights/distance.py:844: UserWarning: The weights matrix is not fully connected: \n",
      " There are 4 disconnected components.\n",
      " There is 1 island with id: 46.\n",
      "  W.__init__(\n"
     ]
    },
    {
     "name": "stdout",
     "output_type": "stream",
     "text": [
      "('WARNING: ', 46, ' is an island (no neighbors)')\n"
     ]
    },
    {
     "name": "stderr",
     "output_type": "stream",
     "text": [
      "/home/briochamsley/.cache/pypoetry/virtualenvs/oqapi-analysis-QKiHp62D-py3.12/lib/python3.12/site-packages/libpysal/weights/util.py:826: UserWarning: The weights matrix is not fully connected: \n",
      " There are 3 disconnected components.\n",
      "  w = W(neighbors, weights, ids, **kwargs)\n",
      "/home/briochamsley/.cache/pypoetry/virtualenvs/oqapi-analysis-QKiHp62D-py3.12/lib/python3.12/site-packages/libpysal/weights/distance.py:844: UserWarning: The weights matrix is not fully connected: \n",
      " There are 3 disconnected components.\n",
      "  W.__init__(\n"
     ]
    },
    {
     "name": "stdout",
     "output_type": "stream",
     "text": [
      "2012-01-01\n",
      "1832\n",
      "1832\n",
      "got 1832 samples\n"
     ]
    },
    {
     "name": "stderr",
     "output_type": "stream",
     "text": [
      "/home/briochamsley/.cache/pypoetry/virtualenvs/oqapi-analysis-QKiHp62D-py3.12/lib/python3.12/site-packages/libpysal/weights/util.py:826: UserWarning: The weights matrix is not fully connected: \n",
      " There are 4 disconnected components.\n",
      " There is 1 island with id: 46.\n",
      "  w = W(neighbors, weights, ids, **kwargs)\n",
      "/home/briochamsley/.cache/pypoetry/virtualenvs/oqapi-analysis-QKiHp62D-py3.12/lib/python3.12/site-packages/libpysal/weights/distance.py:844: UserWarning: The weights matrix is not fully connected: \n",
      " There are 4 disconnected components.\n",
      " There is 1 island with id: 46.\n",
      "  W.__init__(\n"
     ]
    },
    {
     "name": "stdout",
     "output_type": "stream",
     "text": [
      "('WARNING: ', 46, ' is an island (no neighbors)')\n"
     ]
    },
    {
     "name": "stderr",
     "output_type": "stream",
     "text": [
      "/home/briochamsley/.cache/pypoetry/virtualenvs/oqapi-analysis-QKiHp62D-py3.12/lib/python3.12/site-packages/libpysal/weights/util.py:826: UserWarning: The weights matrix is not fully connected: \n",
      " There are 3 disconnected components.\n",
      "  w = W(neighbors, weights, ids, **kwargs)\n",
      "/home/briochamsley/.cache/pypoetry/virtualenvs/oqapi-analysis-QKiHp62D-py3.12/lib/python3.12/site-packages/libpysal/weights/distance.py:844: UserWarning: The weights matrix is not fully connected: \n",
      " There are 3 disconnected components.\n",
      "  W.__init__(\n"
     ]
    },
    {
     "name": "stdout",
     "output_type": "stream",
     "text": [
      "2013-01-01\n",
      "1832\n",
      "1832\n",
      "got 1832 samples\n"
     ]
    },
    {
     "name": "stderr",
     "output_type": "stream",
     "text": [
      "/home/briochamsley/.cache/pypoetry/virtualenvs/oqapi-analysis-QKiHp62D-py3.12/lib/python3.12/site-packages/libpysal/weights/util.py:826: UserWarning: The weights matrix is not fully connected: \n",
      " There are 4 disconnected components.\n",
      " There is 1 island with id: 46.\n",
      "  w = W(neighbors, weights, ids, **kwargs)\n",
      "/home/briochamsley/.cache/pypoetry/virtualenvs/oqapi-analysis-QKiHp62D-py3.12/lib/python3.12/site-packages/libpysal/weights/distance.py:844: UserWarning: The weights matrix is not fully connected: \n",
      " There are 4 disconnected components.\n",
      " There is 1 island with id: 46.\n",
      "  W.__init__(\n"
     ]
    },
    {
     "name": "stdout",
     "output_type": "stream",
     "text": [
      "('WARNING: ', 46, ' is an island (no neighbors)')\n"
     ]
    },
    {
     "name": "stderr",
     "output_type": "stream",
     "text": [
      "/home/briochamsley/.cache/pypoetry/virtualenvs/oqapi-analysis-QKiHp62D-py3.12/lib/python3.12/site-packages/libpysal/weights/util.py:826: UserWarning: The weights matrix is not fully connected: \n",
      " There are 3 disconnected components.\n",
      "  w = W(neighbors, weights, ids, **kwargs)\n",
      "/home/briochamsley/.cache/pypoetry/virtualenvs/oqapi-analysis-QKiHp62D-py3.12/lib/python3.12/site-packages/libpysal/weights/distance.py:844: UserWarning: The weights matrix is not fully connected: \n",
      " There are 3 disconnected components.\n",
      "  W.__init__(\n"
     ]
    },
    {
     "name": "stdout",
     "output_type": "stream",
     "text": [
      "2014-01-01\n",
      "1832\n",
      "1832\n",
      "got 1832 samples\n"
     ]
    },
    {
     "name": "stderr",
     "output_type": "stream",
     "text": [
      "/home/briochamsley/.cache/pypoetry/virtualenvs/oqapi-analysis-QKiHp62D-py3.12/lib/python3.12/site-packages/libpysal/weights/util.py:826: UserWarning: The weights matrix is not fully connected: \n",
      " There are 4 disconnected components.\n",
      " There is 1 island with id: 46.\n",
      "  w = W(neighbors, weights, ids, **kwargs)\n",
      "/home/briochamsley/.cache/pypoetry/virtualenvs/oqapi-analysis-QKiHp62D-py3.12/lib/python3.12/site-packages/libpysal/weights/distance.py:844: UserWarning: The weights matrix is not fully connected: \n",
      " There are 4 disconnected components.\n",
      " There is 1 island with id: 46.\n",
      "  W.__init__(\n"
     ]
    },
    {
     "name": "stdout",
     "output_type": "stream",
     "text": [
      "('WARNING: ', 46, ' is an island (no neighbors)')\n"
     ]
    },
    {
     "name": "stderr",
     "output_type": "stream",
     "text": [
      "/home/briochamsley/.cache/pypoetry/virtualenvs/oqapi-analysis-QKiHp62D-py3.12/lib/python3.12/site-packages/libpysal/weights/util.py:826: UserWarning: The weights matrix is not fully connected: \n",
      " There are 3 disconnected components.\n",
      "  w = W(neighbors, weights, ids, **kwargs)\n",
      "/home/briochamsley/.cache/pypoetry/virtualenvs/oqapi-analysis-QKiHp62D-py3.12/lib/python3.12/site-packages/libpysal/weights/distance.py:844: UserWarning: The weights matrix is not fully connected: \n",
      " There are 3 disconnected components.\n",
      "  W.__init__(\n"
     ]
    },
    {
     "name": "stdout",
     "output_type": "stream",
     "text": [
      "2015-01-01\n",
      "1832\n",
      "1832\n",
      "got 1832 samples\n"
     ]
    },
    {
     "name": "stderr",
     "output_type": "stream",
     "text": [
      "/home/briochamsley/.cache/pypoetry/virtualenvs/oqapi-analysis-QKiHp62D-py3.12/lib/python3.12/site-packages/libpysal/weights/util.py:826: UserWarning: The weights matrix is not fully connected: \n",
      " There are 4 disconnected components.\n",
      " There is 1 island with id: 46.\n",
      "  w = W(neighbors, weights, ids, **kwargs)\n",
      "/home/briochamsley/.cache/pypoetry/virtualenvs/oqapi-analysis-QKiHp62D-py3.12/lib/python3.12/site-packages/libpysal/weights/distance.py:844: UserWarning: The weights matrix is not fully connected: \n",
      " There are 4 disconnected components.\n",
      " There is 1 island with id: 46.\n",
      "  W.__init__(\n"
     ]
    },
    {
     "name": "stdout",
     "output_type": "stream",
     "text": [
      "('WARNING: ', 46, ' is an island (no neighbors)')\n"
     ]
    },
    {
     "name": "stderr",
     "output_type": "stream",
     "text": [
      "/home/briochamsley/.cache/pypoetry/virtualenvs/oqapi-analysis-QKiHp62D-py3.12/lib/python3.12/site-packages/libpysal/weights/util.py:826: UserWarning: The weights matrix is not fully connected: \n",
      " There are 3 disconnected components.\n",
      "  w = W(neighbors, weights, ids, **kwargs)\n",
      "/home/briochamsley/.cache/pypoetry/virtualenvs/oqapi-analysis-QKiHp62D-py3.12/lib/python3.12/site-packages/libpysal/weights/distance.py:844: UserWarning: The weights matrix is not fully connected: \n",
      " There are 3 disconnected components.\n",
      "  W.__init__(\n"
     ]
    },
    {
     "name": "stdout",
     "output_type": "stream",
     "text": [
      "2016-01-01\n",
      "1832\n",
      "1832\n",
      "got 1832 samples\n"
     ]
    },
    {
     "name": "stderr",
     "output_type": "stream",
     "text": [
      "/home/briochamsley/.cache/pypoetry/virtualenvs/oqapi-analysis-QKiHp62D-py3.12/lib/python3.12/site-packages/libpysal/weights/util.py:826: UserWarning: The weights matrix is not fully connected: \n",
      " There are 4 disconnected components.\n",
      " There is 1 island with id: 46.\n",
      "  w = W(neighbors, weights, ids, **kwargs)\n",
      "/home/briochamsley/.cache/pypoetry/virtualenvs/oqapi-analysis-QKiHp62D-py3.12/lib/python3.12/site-packages/libpysal/weights/distance.py:844: UserWarning: The weights matrix is not fully connected: \n",
      " There are 4 disconnected components.\n",
      " There is 1 island with id: 46.\n",
      "  W.__init__(\n"
     ]
    },
    {
     "name": "stdout",
     "output_type": "stream",
     "text": [
      "('WARNING: ', 46, ' is an island (no neighbors)')\n"
     ]
    },
    {
     "name": "stderr",
     "output_type": "stream",
     "text": [
      "/home/briochamsley/.cache/pypoetry/virtualenvs/oqapi-analysis-QKiHp62D-py3.12/lib/python3.12/site-packages/libpysal/weights/util.py:826: UserWarning: The weights matrix is not fully connected: \n",
      " There are 3 disconnected components.\n",
      "  w = W(neighbors, weights, ids, **kwargs)\n",
      "/home/briochamsley/.cache/pypoetry/virtualenvs/oqapi-analysis-QKiHp62D-py3.12/lib/python3.12/site-packages/libpysal/weights/distance.py:844: UserWarning: The weights matrix is not fully connected: \n",
      " There are 3 disconnected components.\n",
      "  W.__init__(\n"
     ]
    },
    {
     "name": "stdout",
     "output_type": "stream",
     "text": [
      "2017-01-01\n",
      "1832\n",
      "1832\n",
      "got 1832 samples\n"
     ]
    },
    {
     "name": "stderr",
     "output_type": "stream",
     "text": [
      "/home/briochamsley/.cache/pypoetry/virtualenvs/oqapi-analysis-QKiHp62D-py3.12/lib/python3.12/site-packages/libpysal/weights/util.py:826: UserWarning: The weights matrix is not fully connected: \n",
      " There are 4 disconnected components.\n",
      " There is 1 island with id: 46.\n",
      "  w = W(neighbors, weights, ids, **kwargs)\n",
      "/home/briochamsley/.cache/pypoetry/virtualenvs/oqapi-analysis-QKiHp62D-py3.12/lib/python3.12/site-packages/libpysal/weights/distance.py:844: UserWarning: The weights matrix is not fully connected: \n",
      " There are 4 disconnected components.\n",
      " There is 1 island with id: 46.\n",
      "  W.__init__(\n"
     ]
    },
    {
     "name": "stdout",
     "output_type": "stream",
     "text": [
      "('WARNING: ', 46, ' is an island (no neighbors)')\n"
     ]
    },
    {
     "name": "stderr",
     "output_type": "stream",
     "text": [
      "/home/briochamsley/.cache/pypoetry/virtualenvs/oqapi-analysis-QKiHp62D-py3.12/lib/python3.12/site-packages/libpysal/weights/util.py:826: UserWarning: The weights matrix is not fully connected: \n",
      " There are 3 disconnected components.\n",
      "  w = W(neighbors, weights, ids, **kwargs)\n",
      "/home/briochamsley/.cache/pypoetry/virtualenvs/oqapi-analysis-QKiHp62D-py3.12/lib/python3.12/site-packages/libpysal/weights/distance.py:844: UserWarning: The weights matrix is not fully connected: \n",
      " There are 3 disconnected components.\n",
      "  W.__init__(\n"
     ]
    },
    {
     "name": "stdout",
     "output_type": "stream",
     "text": [
      "2018-01-01\n",
      "1832\n",
      "1832\n",
      "got 1832 samples\n"
     ]
    },
    {
     "name": "stderr",
     "output_type": "stream",
     "text": [
      "/home/briochamsley/.cache/pypoetry/virtualenvs/oqapi-analysis-QKiHp62D-py3.12/lib/python3.12/site-packages/libpysal/weights/util.py:826: UserWarning: The weights matrix is not fully connected: \n",
      " There are 4 disconnected components.\n",
      " There is 1 island with id: 46.\n",
      "  w = W(neighbors, weights, ids, **kwargs)\n",
      "/home/briochamsley/.cache/pypoetry/virtualenvs/oqapi-analysis-QKiHp62D-py3.12/lib/python3.12/site-packages/libpysal/weights/distance.py:844: UserWarning: The weights matrix is not fully connected: \n",
      " There are 4 disconnected components.\n",
      " There is 1 island with id: 46.\n",
      "  W.__init__(\n"
     ]
    },
    {
     "name": "stdout",
     "output_type": "stream",
     "text": [
      "('WARNING: ', 46, ' is an island (no neighbors)')\n"
     ]
    },
    {
     "name": "stderr",
     "output_type": "stream",
     "text": [
      "/home/briochamsley/.cache/pypoetry/virtualenvs/oqapi-analysis-QKiHp62D-py3.12/lib/python3.12/site-packages/libpysal/weights/util.py:826: UserWarning: The weights matrix is not fully connected: \n",
      " There are 3 disconnected components.\n",
      "  w = W(neighbors, weights, ids, **kwargs)\n",
      "/home/briochamsley/.cache/pypoetry/virtualenvs/oqapi-analysis-QKiHp62D-py3.12/lib/python3.12/site-packages/libpysal/weights/distance.py:844: UserWarning: The weights matrix is not fully connected: \n",
      " There are 3 disconnected components.\n",
      "  W.__init__(\n"
     ]
    },
    {
     "name": "stdout",
     "output_type": "stream",
     "text": [
      "2019-01-01\n",
      "1832\n",
      "1832\n",
      "got 1832 samples\n"
     ]
    },
    {
     "name": "stderr",
     "output_type": "stream",
     "text": [
      "/home/briochamsley/.cache/pypoetry/virtualenvs/oqapi-analysis-QKiHp62D-py3.12/lib/python3.12/site-packages/libpysal/weights/util.py:826: UserWarning: The weights matrix is not fully connected: \n",
      " There are 4 disconnected components.\n",
      " There is 1 island with id: 46.\n",
      "  w = W(neighbors, weights, ids, **kwargs)\n",
      "/home/briochamsley/.cache/pypoetry/virtualenvs/oqapi-analysis-QKiHp62D-py3.12/lib/python3.12/site-packages/libpysal/weights/distance.py:844: UserWarning: The weights matrix is not fully connected: \n",
      " There are 4 disconnected components.\n",
      " There is 1 island with id: 46.\n",
      "  W.__init__(\n"
     ]
    },
    {
     "name": "stdout",
     "output_type": "stream",
     "text": [
      "('WARNING: ', 46, ' is an island (no neighbors)')\n"
     ]
    },
    {
     "name": "stderr",
     "output_type": "stream",
     "text": [
      "/home/briochamsley/.cache/pypoetry/virtualenvs/oqapi-analysis-QKiHp62D-py3.12/lib/python3.12/site-packages/libpysal/weights/util.py:826: UserWarning: The weights matrix is not fully connected: \n",
      " There are 3 disconnected components.\n",
      "  w = W(neighbors, weights, ids, **kwargs)\n",
      "/home/briochamsley/.cache/pypoetry/virtualenvs/oqapi-analysis-QKiHp62D-py3.12/lib/python3.12/site-packages/libpysal/weights/distance.py:844: UserWarning: The weights matrix is not fully connected: \n",
      " There are 3 disconnected components.\n",
      "  W.__init__(\n"
     ]
    },
    {
     "name": "stdout",
     "output_type": "stream",
     "text": [
      "2020-01-01\n",
      "1832\n",
      "1832\n",
      "got 1832 samples\n"
     ]
    },
    {
     "name": "stderr",
     "output_type": "stream",
     "text": [
      "/home/briochamsley/.cache/pypoetry/virtualenvs/oqapi-analysis-QKiHp62D-py3.12/lib/python3.12/site-packages/libpysal/weights/util.py:826: UserWarning: The weights matrix is not fully connected: \n",
      " There are 4 disconnected components.\n",
      " There is 1 island with id: 46.\n",
      "  w = W(neighbors, weights, ids, **kwargs)\n",
      "/home/briochamsley/.cache/pypoetry/virtualenvs/oqapi-analysis-QKiHp62D-py3.12/lib/python3.12/site-packages/libpysal/weights/distance.py:844: UserWarning: The weights matrix is not fully connected: \n",
      " There are 4 disconnected components.\n",
      " There is 1 island with id: 46.\n",
      "  W.__init__(\n"
     ]
    },
    {
     "name": "stdout",
     "output_type": "stream",
     "text": [
      "('WARNING: ', 46, ' is an island (no neighbors)')\n"
     ]
    },
    {
     "name": "stderr",
     "output_type": "stream",
     "text": [
      "/home/briochamsley/.cache/pypoetry/virtualenvs/oqapi-analysis-QKiHp62D-py3.12/lib/python3.12/site-packages/libpysal/weights/util.py:826: UserWarning: The weights matrix is not fully connected: \n",
      " There are 3 disconnected components.\n",
      "  w = W(neighbors, weights, ids, **kwargs)\n",
      "/home/briochamsley/.cache/pypoetry/virtualenvs/oqapi-analysis-QKiHp62D-py3.12/lib/python3.12/site-packages/libpysal/weights/distance.py:844: UserWarning: The weights matrix is not fully connected: \n",
      " There are 3 disconnected components.\n",
      "  W.__init__(\n"
     ]
    },
    {
     "name": "stdout",
     "output_type": "stream",
     "text": [
      "2021-01-01\n",
      "1832\n",
      "1832\n",
      "got 1832 samples\n"
     ]
    },
    {
     "name": "stderr",
     "output_type": "stream",
     "text": [
      "/home/briochamsley/.cache/pypoetry/virtualenvs/oqapi-analysis-QKiHp62D-py3.12/lib/python3.12/site-packages/libpysal/weights/util.py:826: UserWarning: The weights matrix is not fully connected: \n",
      " There are 4 disconnected components.\n",
      " There is 1 island with id: 46.\n",
      "  w = W(neighbors, weights, ids, **kwargs)\n",
      "/home/briochamsley/.cache/pypoetry/virtualenvs/oqapi-analysis-QKiHp62D-py3.12/lib/python3.12/site-packages/libpysal/weights/distance.py:844: UserWarning: The weights matrix is not fully connected: \n",
      " There are 4 disconnected components.\n",
      " There is 1 island with id: 46.\n",
      "  W.__init__(\n"
     ]
    },
    {
     "name": "stdout",
     "output_type": "stream",
     "text": [
      "('WARNING: ', 46, ' is an island (no neighbors)')\n"
     ]
    },
    {
     "name": "stderr",
     "output_type": "stream",
     "text": [
      "/home/briochamsley/.cache/pypoetry/virtualenvs/oqapi-analysis-QKiHp62D-py3.12/lib/python3.12/site-packages/libpysal/weights/util.py:826: UserWarning: The weights matrix is not fully connected: \n",
      " There are 3 disconnected components.\n",
      "  w = W(neighbors, weights, ids, **kwargs)\n",
      "/home/briochamsley/.cache/pypoetry/virtualenvs/oqapi-analysis-QKiHp62D-py3.12/lib/python3.12/site-packages/libpysal/weights/distance.py:844: UserWarning: The weights matrix is not fully connected: \n",
      " There are 3 disconnected components.\n",
      "  W.__init__(\n"
     ]
    },
    {
     "name": "stdout",
     "output_type": "stream",
     "text": [
      "2022-01-01\n",
      "1832\n",
      "1832\n",
      "got 1832 samples\n"
     ]
    },
    {
     "name": "stderr",
     "output_type": "stream",
     "text": [
      "/home/briochamsley/.cache/pypoetry/virtualenvs/oqapi-analysis-QKiHp62D-py3.12/lib/python3.12/site-packages/libpysal/weights/util.py:826: UserWarning: The weights matrix is not fully connected: \n",
      " There are 4 disconnected components.\n",
      " There is 1 island with id: 46.\n",
      "  w = W(neighbors, weights, ids, **kwargs)\n",
      "/home/briochamsley/.cache/pypoetry/virtualenvs/oqapi-analysis-QKiHp62D-py3.12/lib/python3.12/site-packages/libpysal/weights/distance.py:844: UserWarning: The weights matrix is not fully connected: \n",
      " There are 4 disconnected components.\n",
      " There is 1 island with id: 46.\n",
      "  W.__init__(\n"
     ]
    },
    {
     "name": "stdout",
     "output_type": "stream",
     "text": [
      "('WARNING: ', 46, ' is an island (no neighbors)')\n"
     ]
    },
    {
     "name": "stderr",
     "output_type": "stream",
     "text": [
      "/home/briochamsley/.cache/pypoetry/virtualenvs/oqapi-analysis-QKiHp62D-py3.12/lib/python3.12/site-packages/libpysal/weights/util.py:826: UserWarning: The weights matrix is not fully connected: \n",
      " There are 3 disconnected components.\n",
      "  w = W(neighbors, weights, ids, **kwargs)\n",
      "/home/briochamsley/.cache/pypoetry/virtualenvs/oqapi-analysis-QKiHp62D-py3.12/lib/python3.12/site-packages/libpysal/weights/distance.py:844: UserWarning: The weights matrix is not fully connected: \n",
      " There are 3 disconnected components.\n",
      "  W.__init__(\n"
     ]
    },
    {
     "name": "stdout",
     "output_type": "stream",
     "text": [
      "2023-01-01\n",
      "1832\n",
      "1832\n",
      "got 1832 samples\n"
     ]
    },
    {
     "name": "stderr",
     "output_type": "stream",
     "text": [
      "/home/briochamsley/.cache/pypoetry/virtualenvs/oqapi-analysis-QKiHp62D-py3.12/lib/python3.12/site-packages/libpysal/weights/util.py:826: UserWarning: The weights matrix is not fully connected: \n",
      " There are 4 disconnected components.\n",
      " There is 1 island with id: 46.\n",
      "  w = W(neighbors, weights, ids, **kwargs)\n",
      "/home/briochamsley/.cache/pypoetry/virtualenvs/oqapi-analysis-QKiHp62D-py3.12/lib/python3.12/site-packages/libpysal/weights/distance.py:844: UserWarning: The weights matrix is not fully connected: \n",
      " There are 4 disconnected components.\n",
      " There is 1 island with id: 46.\n",
      "  W.__init__(\n"
     ]
    },
    {
     "name": "stdout",
     "output_type": "stream",
     "text": [
      "('WARNING: ', 46, ' is an island (no neighbors)')\n"
     ]
    },
    {
     "name": "stderr",
     "output_type": "stream",
     "text": [
      "/home/briochamsley/.cache/pypoetry/virtualenvs/oqapi-analysis-QKiHp62D-py3.12/lib/python3.12/site-packages/libpysal/weights/util.py:826: UserWarning: The weights matrix is not fully connected: \n",
      " There are 3 disconnected components.\n",
      "  w = W(neighbors, weights, ids, **kwargs)\n",
      "/home/briochamsley/.cache/pypoetry/virtualenvs/oqapi-analysis-QKiHp62D-py3.12/lib/python3.12/site-packages/libpysal/weights/distance.py:844: UserWarning: The weights matrix is not fully connected: \n",
      " There are 3 disconnected components.\n",
      "  W.__init__(\n"
     ]
    },
    {
     "name": "stdout",
     "output_type": "stream",
     "text": [
      "2024-01-01\n",
      "1832\n",
      "1832\n",
      "got 1832 samples\n"
     ]
    },
    {
     "name": "stderr",
     "output_type": "stream",
     "text": [
      "/home/briochamsley/.cache/pypoetry/virtualenvs/oqapi-analysis-QKiHp62D-py3.12/lib/python3.12/site-packages/libpysal/weights/util.py:826: UserWarning: The weights matrix is not fully connected: \n",
      " There are 4 disconnected components.\n",
      " There is 1 island with id: 46.\n",
      "  w = W(neighbors, weights, ids, **kwargs)\n",
      "/home/briochamsley/.cache/pypoetry/virtualenvs/oqapi-analysis-QKiHp62D-py3.12/lib/python3.12/site-packages/libpysal/weights/distance.py:844: UserWarning: The weights matrix is not fully connected: \n",
      " There are 4 disconnected components.\n",
      " There is 1 island with id: 46.\n",
      "  W.__init__(\n"
     ]
    },
    {
     "name": "stdout",
     "output_type": "stream",
     "text": [
      "('WARNING: ', 46, ' is an island (no neighbors)')\n"
     ]
    },
    {
     "name": "stderr",
     "output_type": "stream",
     "text": [
      "/home/briochamsley/.cache/pypoetry/virtualenvs/oqapi-analysis-QKiHp62D-py3.12/lib/python3.12/site-packages/libpysal/weights/util.py:826: UserWarning: The weights matrix is not fully connected: \n",
      " There are 3 disconnected components.\n",
      "  w = W(neighbors, weights, ids, **kwargs)\n",
      "/home/briochamsley/.cache/pypoetry/virtualenvs/oqapi-analysis-QKiHp62D-py3.12/lib/python3.12/site-packages/libpysal/weights/distance.py:844: UserWarning: The weights matrix is not fully connected: \n",
      " There are 3 disconnected components.\n",
      "  W.__init__(\n"
     ]
    },
    {
     "name": "stdout",
     "output_type": "stream",
     "text": [
      "2024-05-01\n",
      "1832\n",
      "1832\n",
      "got 1832 samples\n"
     ]
    },
    {
     "name": "stderr",
     "output_type": "stream",
     "text": [
      "/home/briochamsley/.cache/pypoetry/virtualenvs/oqapi-analysis-QKiHp62D-py3.12/lib/python3.12/site-packages/libpysal/weights/util.py:826: UserWarning: The weights matrix is not fully connected: \n",
      " There are 4 disconnected components.\n",
      " There is 1 island with id: 46.\n",
      "  w = W(neighbors, weights, ids, **kwargs)\n",
      "/home/briochamsley/.cache/pypoetry/virtualenvs/oqapi-analysis-QKiHp62D-py3.12/lib/python3.12/site-packages/libpysal/weights/distance.py:844: UserWarning: The weights matrix is not fully connected: \n",
      " There are 4 disconnected components.\n",
      " There is 1 island with id: 46.\n",
      "  W.__init__(\n"
     ]
    },
    {
     "name": "stdout",
     "output_type": "stream",
     "text": [
      "('WARNING: ', 46, ' is an island (no neighbors)')\n"
     ]
    },
    {
     "name": "stderr",
     "output_type": "stream",
     "text": [
      "/home/briochamsley/.cache/pypoetry/virtualenvs/oqapi-analysis-QKiHp62D-py3.12/lib/python3.12/site-packages/libpysal/weights/util.py:826: UserWarning: The weights matrix is not fully connected: \n",
      " There are 3 disconnected components.\n",
      "  w = W(neighbors, weights, ids, **kwargs)\n",
      "/home/briochamsley/.cache/pypoetry/virtualenvs/oqapi-analysis-QKiHp62D-py3.12/lib/python3.12/site-packages/libpysal/weights/distance.py:844: UserWarning: The weights matrix is not fully connected: \n",
      " There are 3 disconnected components.\n",
      "  W.__init__(\n"
     ]
    },
    {
     "name": "stdout",
     "output_type": "stream",
     "text": [
      "2008-01-01\n",
      "11686\n",
      "11686\n",
      "got 11686 samples\n"
     ]
    },
    {
     "name": "stderr",
     "output_type": "stream",
     "text": [
      "/home/briochamsley/.cache/pypoetry/virtualenvs/oqapi-analysis-QKiHp62D-py3.12/lib/python3.12/site-packages/libpysal/weights/util.py:826: UserWarning: The weights matrix is not fully connected: \n",
      " There are 37 disconnected components.\n",
      " There are 19 islands with ids: 0, 1, 3, 47, 164, 188, 277, 780, 1075, 1465, 4054, 4097, 4511, 5243, 6456, 6567, 7607, 7632, 7705.\n",
      "  w = W(neighbors, weights, ids, **kwargs)\n",
      "/home/briochamsley/.cache/pypoetry/virtualenvs/oqapi-analysis-QKiHp62D-py3.12/lib/python3.12/site-packages/libpysal/weights/distance.py:844: UserWarning: The weights matrix is not fully connected: \n",
      " There are 37 disconnected components.\n",
      " There are 19 islands with ids: 0, 1, 3, 47, 164, 188, 277, 780, 1075, 1465, 4054, 4097, 4511, 5243, 6456, 6567, 7607, 7632, 7705.\n",
      "  W.__init__(\n"
     ]
    },
    {
     "name": "stdout",
     "output_type": "stream",
     "text": [
      "('WARNING: ', 0, ' is an island (no neighbors)')\n",
      "('WARNING: ', 1, ' is an island (no neighbors)')\n",
      "('WARNING: ', 3, ' is an island (no neighbors)')\n",
      "('WARNING: ', 47, ' is an island (no neighbors)')\n",
      "('WARNING: ', 164, ' is an island (no neighbors)')\n",
      "('WARNING: ', 188, ' is an island (no neighbors)')\n",
      "('WARNING: ', 277, ' is an island (no neighbors)')\n",
      "('WARNING: ', 780, ' is an island (no neighbors)')\n",
      "('WARNING: ', 1075, ' is an island (no neighbors)')\n",
      "('WARNING: ', 1465, ' is an island (no neighbors)')\n",
      "('WARNING: ', 4054, ' is an island (no neighbors)')\n",
      "('WARNING: ', 4097, ' is an island (no neighbors)')\n",
      "('WARNING: ', 4511, ' is an island (no neighbors)')\n",
      "('WARNING: ', 5243, ' is an island (no neighbors)')\n",
      "('WARNING: ', 6456, ' is an island (no neighbors)')\n",
      "('WARNING: ', 6567, ' is an island (no neighbors)')\n",
      "('WARNING: ', 7607, ' is an island (no neighbors)')\n",
      "('WARNING: ', 7632, ' is an island (no neighbors)')\n",
      "('WARNING: ', 7705, ' is an island (no neighbors)')\n"
     ]
    },
    {
     "name": "stderr",
     "output_type": "stream",
     "text": [
      "/home/briochamsley/.cache/pypoetry/virtualenvs/oqapi-analysis-QKiHp62D-py3.12/lib/python3.12/site-packages/libpysal/weights/util.py:826: UserWarning: The weights matrix is not fully connected: \n",
      " There are 18 disconnected components.\n",
      "  w = W(neighbors, weights, ids, **kwargs)\n",
      "/home/briochamsley/.cache/pypoetry/virtualenvs/oqapi-analysis-QKiHp62D-py3.12/lib/python3.12/site-packages/libpysal/weights/distance.py:844: UserWarning: The weights matrix is not fully connected: \n",
      " There are 18 disconnected components.\n",
      "  W.__init__(\n"
     ]
    },
    {
     "name": "stdout",
     "output_type": "stream",
     "text": [
      "2009-01-01\n",
      "11686\n",
      "11686\n",
      "got 11686 samples\n"
     ]
    },
    {
     "name": "stderr",
     "output_type": "stream",
     "text": [
      "/home/briochamsley/.cache/pypoetry/virtualenvs/oqapi-analysis-QKiHp62D-py3.12/lib/python3.12/site-packages/libpysal/weights/util.py:826: UserWarning: The weights matrix is not fully connected: \n",
      " There are 37 disconnected components.\n",
      " There are 19 islands with ids: 0, 1, 3, 47, 164, 188, 277, 780, 1075, 1465, 4054, 4097, 4511, 5243, 6456, 6567, 7607, 7632, 7705.\n",
      "  w = W(neighbors, weights, ids, **kwargs)\n",
      "/home/briochamsley/.cache/pypoetry/virtualenvs/oqapi-analysis-QKiHp62D-py3.12/lib/python3.12/site-packages/libpysal/weights/distance.py:844: UserWarning: The weights matrix is not fully connected: \n",
      " There are 37 disconnected components.\n",
      " There are 19 islands with ids: 0, 1, 3, 47, 164, 188, 277, 780, 1075, 1465, 4054, 4097, 4511, 5243, 6456, 6567, 7607, 7632, 7705.\n",
      "  W.__init__(\n"
     ]
    },
    {
     "name": "stdout",
     "output_type": "stream",
     "text": [
      "('WARNING: ', 0, ' is an island (no neighbors)')\n",
      "('WARNING: ', 1, ' is an island (no neighbors)')\n",
      "('WARNING: ', 3, ' is an island (no neighbors)')\n",
      "('WARNING: ', 47, ' is an island (no neighbors)')\n",
      "('WARNING: ', 164, ' is an island (no neighbors)')\n",
      "('WARNING: ', 188, ' is an island (no neighbors)')\n",
      "('WARNING: ', 277, ' is an island (no neighbors)')\n",
      "('WARNING: ', 780, ' is an island (no neighbors)')\n",
      "('WARNING: ', 1075, ' is an island (no neighbors)')\n",
      "('WARNING: ', 1465, ' is an island (no neighbors)')\n",
      "('WARNING: ', 4054, ' is an island (no neighbors)')\n",
      "('WARNING: ', 4097, ' is an island (no neighbors)')\n",
      "('WARNING: ', 4511, ' is an island (no neighbors)')\n",
      "('WARNING: ', 5243, ' is an island (no neighbors)')\n",
      "('WARNING: ', 6456, ' is an island (no neighbors)')\n",
      "('WARNING: ', 6567, ' is an island (no neighbors)')\n",
      "('WARNING: ', 7607, ' is an island (no neighbors)')\n",
      "('WARNING: ', 7632, ' is an island (no neighbors)')\n",
      "('WARNING: ', 7705, ' is an island (no neighbors)')\n"
     ]
    },
    {
     "name": "stderr",
     "output_type": "stream",
     "text": [
      "/home/briochamsley/.cache/pypoetry/virtualenvs/oqapi-analysis-QKiHp62D-py3.12/lib/python3.12/site-packages/libpysal/weights/util.py:826: UserWarning: The weights matrix is not fully connected: \n",
      " There are 18 disconnected components.\n",
      "  w = W(neighbors, weights, ids, **kwargs)\n",
      "/home/briochamsley/.cache/pypoetry/virtualenvs/oqapi-analysis-QKiHp62D-py3.12/lib/python3.12/site-packages/libpysal/weights/distance.py:844: UserWarning: The weights matrix is not fully connected: \n",
      " There are 18 disconnected components.\n",
      "  W.__init__(\n"
     ]
    },
    {
     "name": "stdout",
     "output_type": "stream",
     "text": [
      "2010-01-01\n",
      "11686\n",
      "11686\n",
      "got 11686 samples\n"
     ]
    },
    {
     "name": "stderr",
     "output_type": "stream",
     "text": [
      "/home/briochamsley/.cache/pypoetry/virtualenvs/oqapi-analysis-QKiHp62D-py3.12/lib/python3.12/site-packages/libpysal/weights/util.py:826: UserWarning: The weights matrix is not fully connected: \n",
      " There are 37 disconnected components.\n",
      " There are 19 islands with ids: 0, 1, 3, 47, 164, 188, 277, 780, 1075, 1465, 4054, 4097, 4511, 5243, 6456, 6567, 7607, 7632, 7705.\n",
      "  w = W(neighbors, weights, ids, **kwargs)\n",
      "/home/briochamsley/.cache/pypoetry/virtualenvs/oqapi-analysis-QKiHp62D-py3.12/lib/python3.12/site-packages/libpysal/weights/distance.py:844: UserWarning: The weights matrix is not fully connected: \n",
      " There are 37 disconnected components.\n",
      " There are 19 islands with ids: 0, 1, 3, 47, 164, 188, 277, 780, 1075, 1465, 4054, 4097, 4511, 5243, 6456, 6567, 7607, 7632, 7705.\n",
      "  W.__init__(\n"
     ]
    },
    {
     "name": "stdout",
     "output_type": "stream",
     "text": [
      "('WARNING: ', 0, ' is an island (no neighbors)')\n",
      "('WARNING: ', 1, ' is an island (no neighbors)')\n",
      "('WARNING: ', 3, ' is an island (no neighbors)')\n",
      "('WARNING: ', 47, ' is an island (no neighbors)')\n",
      "('WARNING: ', 164, ' is an island (no neighbors)')\n",
      "('WARNING: ', 188, ' is an island (no neighbors)')\n",
      "('WARNING: ', 277, ' is an island (no neighbors)')\n",
      "('WARNING: ', 780, ' is an island (no neighbors)')\n",
      "('WARNING: ', 1075, ' is an island (no neighbors)')\n",
      "('WARNING: ', 1465, ' is an island (no neighbors)')\n",
      "('WARNING: ', 4054, ' is an island (no neighbors)')\n",
      "('WARNING: ', 4097, ' is an island (no neighbors)')\n",
      "('WARNING: ', 4511, ' is an island (no neighbors)')\n",
      "('WARNING: ', 5243, ' is an island (no neighbors)')\n",
      "('WARNING: ', 6456, ' is an island (no neighbors)')\n",
      "('WARNING: ', 6567, ' is an island (no neighbors)')\n",
      "('WARNING: ', 7607, ' is an island (no neighbors)')\n",
      "('WARNING: ', 7632, ' is an island (no neighbors)')\n",
      "('WARNING: ', 7705, ' is an island (no neighbors)')\n"
     ]
    },
    {
     "name": "stderr",
     "output_type": "stream",
     "text": [
      "/home/briochamsley/.cache/pypoetry/virtualenvs/oqapi-analysis-QKiHp62D-py3.12/lib/python3.12/site-packages/libpysal/weights/util.py:826: UserWarning: The weights matrix is not fully connected: \n",
      " There are 18 disconnected components.\n",
      "  w = W(neighbors, weights, ids, **kwargs)\n",
      "/home/briochamsley/.cache/pypoetry/virtualenvs/oqapi-analysis-QKiHp62D-py3.12/lib/python3.12/site-packages/libpysal/weights/distance.py:844: UserWarning: The weights matrix is not fully connected: \n",
      " There are 18 disconnected components.\n",
      "  W.__init__(\n"
     ]
    },
    {
     "name": "stdout",
     "output_type": "stream",
     "text": [
      "2011-01-01\n",
      "11686\n",
      "11686\n",
      "got 11686 samples\n"
     ]
    },
    {
     "name": "stderr",
     "output_type": "stream",
     "text": [
      "/home/briochamsley/.cache/pypoetry/virtualenvs/oqapi-analysis-QKiHp62D-py3.12/lib/python3.12/site-packages/libpysal/weights/util.py:826: UserWarning: The weights matrix is not fully connected: \n",
      " There are 37 disconnected components.\n",
      " There are 19 islands with ids: 0, 1, 3, 47, 164, 188, 277, 780, 1075, 1465, 4054, 4097, 4511, 5243, 6456, 6567, 7607, 7632, 7705.\n",
      "  w = W(neighbors, weights, ids, **kwargs)\n",
      "/home/briochamsley/.cache/pypoetry/virtualenvs/oqapi-analysis-QKiHp62D-py3.12/lib/python3.12/site-packages/libpysal/weights/distance.py:844: UserWarning: The weights matrix is not fully connected: \n",
      " There are 37 disconnected components.\n",
      " There are 19 islands with ids: 0, 1, 3, 47, 164, 188, 277, 780, 1075, 1465, 4054, 4097, 4511, 5243, 6456, 6567, 7607, 7632, 7705.\n",
      "  W.__init__(\n"
     ]
    },
    {
     "name": "stdout",
     "output_type": "stream",
     "text": [
      "('WARNING: ', 0, ' is an island (no neighbors)')\n",
      "('WARNING: ', 1, ' is an island (no neighbors)')\n",
      "('WARNING: ', 3, ' is an island (no neighbors)')\n",
      "('WARNING: ', 47, ' is an island (no neighbors)')\n",
      "('WARNING: ', 164, ' is an island (no neighbors)')\n",
      "('WARNING: ', 188, ' is an island (no neighbors)')\n",
      "('WARNING: ', 277, ' is an island (no neighbors)')\n",
      "('WARNING: ', 780, ' is an island (no neighbors)')\n",
      "('WARNING: ', 1075, ' is an island (no neighbors)')\n",
      "('WARNING: ', 1465, ' is an island (no neighbors)')\n",
      "('WARNING: ', 4054, ' is an island (no neighbors)')\n",
      "('WARNING: ', 4097, ' is an island (no neighbors)')\n",
      "('WARNING: ', 4511, ' is an island (no neighbors)')\n",
      "('WARNING: ', 5243, ' is an island (no neighbors)')\n",
      "('WARNING: ', 6456, ' is an island (no neighbors)')\n",
      "('WARNING: ', 6567, ' is an island (no neighbors)')\n",
      "('WARNING: ', 7607, ' is an island (no neighbors)')\n",
      "('WARNING: ', 7632, ' is an island (no neighbors)')\n",
      "('WARNING: ', 7705, ' is an island (no neighbors)')\n"
     ]
    },
    {
     "name": "stderr",
     "output_type": "stream",
     "text": [
      "/home/briochamsley/.cache/pypoetry/virtualenvs/oqapi-analysis-QKiHp62D-py3.12/lib/python3.12/site-packages/libpysal/weights/util.py:826: UserWarning: The weights matrix is not fully connected: \n",
      " There are 18 disconnected components.\n",
      "  w = W(neighbors, weights, ids, **kwargs)\n",
      "/home/briochamsley/.cache/pypoetry/virtualenvs/oqapi-analysis-QKiHp62D-py3.12/lib/python3.12/site-packages/libpysal/weights/distance.py:844: UserWarning: The weights matrix is not fully connected: \n",
      " There are 18 disconnected components.\n",
      "  W.__init__(\n"
     ]
    },
    {
     "name": "stdout",
     "output_type": "stream",
     "text": [
      "2012-01-01\n",
      "11686\n",
      "11686\n",
      "got 11686 samples\n"
     ]
    },
    {
     "name": "stderr",
     "output_type": "stream",
     "text": [
      "/home/briochamsley/.cache/pypoetry/virtualenvs/oqapi-analysis-QKiHp62D-py3.12/lib/python3.12/site-packages/libpysal/weights/util.py:826: UserWarning: The weights matrix is not fully connected: \n",
      " There are 37 disconnected components.\n",
      " There are 19 islands with ids: 0, 1, 3, 47, 164, 188, 277, 780, 1075, 1465, 4054, 4097, 4511, 5243, 6456, 6567, 7607, 7632, 7705.\n",
      "  w = W(neighbors, weights, ids, **kwargs)\n",
      "/home/briochamsley/.cache/pypoetry/virtualenvs/oqapi-analysis-QKiHp62D-py3.12/lib/python3.12/site-packages/libpysal/weights/distance.py:844: UserWarning: The weights matrix is not fully connected: \n",
      " There are 37 disconnected components.\n",
      " There are 19 islands with ids: 0, 1, 3, 47, 164, 188, 277, 780, 1075, 1465, 4054, 4097, 4511, 5243, 6456, 6567, 7607, 7632, 7705.\n",
      "  W.__init__(\n"
     ]
    },
    {
     "name": "stdout",
     "output_type": "stream",
     "text": [
      "('WARNING: ', 0, ' is an island (no neighbors)')\n",
      "('WARNING: ', 1, ' is an island (no neighbors)')\n",
      "('WARNING: ', 3, ' is an island (no neighbors)')\n",
      "('WARNING: ', 47, ' is an island (no neighbors)')\n",
      "('WARNING: ', 164, ' is an island (no neighbors)')\n",
      "('WARNING: ', 188, ' is an island (no neighbors)')\n",
      "('WARNING: ', 277, ' is an island (no neighbors)')\n",
      "('WARNING: ', 780, ' is an island (no neighbors)')\n",
      "('WARNING: ', 1075, ' is an island (no neighbors)')\n",
      "('WARNING: ', 1465, ' is an island (no neighbors)')\n",
      "('WARNING: ', 4054, ' is an island (no neighbors)')\n",
      "('WARNING: ', 4097, ' is an island (no neighbors)')\n",
      "('WARNING: ', 4511, ' is an island (no neighbors)')\n",
      "('WARNING: ', 5243, ' is an island (no neighbors)')\n",
      "('WARNING: ', 6456, ' is an island (no neighbors)')\n",
      "('WARNING: ', 6567, ' is an island (no neighbors)')\n",
      "('WARNING: ', 7607, ' is an island (no neighbors)')\n",
      "('WARNING: ', 7632, ' is an island (no neighbors)')\n",
      "('WARNING: ', 7705, ' is an island (no neighbors)')\n"
     ]
    },
    {
     "name": "stderr",
     "output_type": "stream",
     "text": [
      "/home/briochamsley/.cache/pypoetry/virtualenvs/oqapi-analysis-QKiHp62D-py3.12/lib/python3.12/site-packages/libpysal/weights/util.py:826: UserWarning: The weights matrix is not fully connected: \n",
      " There are 18 disconnected components.\n",
      "  w = W(neighbors, weights, ids, **kwargs)\n",
      "/home/briochamsley/.cache/pypoetry/virtualenvs/oqapi-analysis-QKiHp62D-py3.12/lib/python3.12/site-packages/libpysal/weights/distance.py:844: UserWarning: The weights matrix is not fully connected: \n",
      " There are 18 disconnected components.\n",
      "  W.__init__(\n"
     ]
    },
    {
     "name": "stdout",
     "output_type": "stream",
     "text": [
      "2013-01-01\n",
      "11686\n",
      "11686\n",
      "got 11686 samples\n"
     ]
    },
    {
     "name": "stderr",
     "output_type": "stream",
     "text": [
      "/home/briochamsley/.cache/pypoetry/virtualenvs/oqapi-analysis-QKiHp62D-py3.12/lib/python3.12/site-packages/libpysal/weights/util.py:826: UserWarning: The weights matrix is not fully connected: \n",
      " There are 37 disconnected components.\n",
      " There are 19 islands with ids: 0, 1, 3, 47, 164, 188, 277, 780, 1075, 1465, 4054, 4097, 4511, 5243, 6456, 6567, 7607, 7632, 7705.\n",
      "  w = W(neighbors, weights, ids, **kwargs)\n",
      "/home/briochamsley/.cache/pypoetry/virtualenvs/oqapi-analysis-QKiHp62D-py3.12/lib/python3.12/site-packages/libpysal/weights/distance.py:844: UserWarning: The weights matrix is not fully connected: \n",
      " There are 37 disconnected components.\n",
      " There are 19 islands with ids: 0, 1, 3, 47, 164, 188, 277, 780, 1075, 1465, 4054, 4097, 4511, 5243, 6456, 6567, 7607, 7632, 7705.\n",
      "  W.__init__(\n"
     ]
    },
    {
     "name": "stdout",
     "output_type": "stream",
     "text": [
      "('WARNING: ', 0, ' is an island (no neighbors)')\n",
      "('WARNING: ', 1, ' is an island (no neighbors)')\n",
      "('WARNING: ', 3, ' is an island (no neighbors)')\n",
      "('WARNING: ', 47, ' is an island (no neighbors)')\n",
      "('WARNING: ', 164, ' is an island (no neighbors)')\n",
      "('WARNING: ', 188, ' is an island (no neighbors)')\n",
      "('WARNING: ', 277, ' is an island (no neighbors)')\n",
      "('WARNING: ', 780, ' is an island (no neighbors)')\n",
      "('WARNING: ', 1075, ' is an island (no neighbors)')\n",
      "('WARNING: ', 1465, ' is an island (no neighbors)')\n",
      "('WARNING: ', 4054, ' is an island (no neighbors)')\n",
      "('WARNING: ', 4097, ' is an island (no neighbors)')\n",
      "('WARNING: ', 4511, ' is an island (no neighbors)')\n",
      "('WARNING: ', 5243, ' is an island (no neighbors)')\n",
      "('WARNING: ', 6456, ' is an island (no neighbors)')\n",
      "('WARNING: ', 6567, ' is an island (no neighbors)')\n",
      "('WARNING: ', 7607, ' is an island (no neighbors)')\n",
      "('WARNING: ', 7632, ' is an island (no neighbors)')\n",
      "('WARNING: ', 7705, ' is an island (no neighbors)')\n"
     ]
    },
    {
     "name": "stderr",
     "output_type": "stream",
     "text": [
      "/home/briochamsley/.cache/pypoetry/virtualenvs/oqapi-analysis-QKiHp62D-py3.12/lib/python3.12/site-packages/libpysal/weights/util.py:826: UserWarning: The weights matrix is not fully connected: \n",
      " There are 18 disconnected components.\n",
      "  w = W(neighbors, weights, ids, **kwargs)\n",
      "/home/briochamsley/.cache/pypoetry/virtualenvs/oqapi-analysis-QKiHp62D-py3.12/lib/python3.12/site-packages/libpysal/weights/distance.py:844: UserWarning: The weights matrix is not fully connected: \n",
      " There are 18 disconnected components.\n",
      "  W.__init__(\n"
     ]
    },
    {
     "name": "stdout",
     "output_type": "stream",
     "text": [
      "2014-01-01\n",
      "11686\n",
      "11686\n",
      "got 11686 samples\n"
     ]
    },
    {
     "name": "stderr",
     "output_type": "stream",
     "text": [
      "/home/briochamsley/.cache/pypoetry/virtualenvs/oqapi-analysis-QKiHp62D-py3.12/lib/python3.12/site-packages/libpysal/weights/util.py:826: UserWarning: The weights matrix is not fully connected: \n",
      " There are 37 disconnected components.\n",
      " There are 19 islands with ids: 0, 1, 3, 47, 164, 188, 277, 780, 1075, 1465, 4054, 4097, 4511, 5243, 6456, 6567, 7607, 7632, 7705.\n",
      "  w = W(neighbors, weights, ids, **kwargs)\n",
      "/home/briochamsley/.cache/pypoetry/virtualenvs/oqapi-analysis-QKiHp62D-py3.12/lib/python3.12/site-packages/libpysal/weights/distance.py:844: UserWarning: The weights matrix is not fully connected: \n",
      " There are 37 disconnected components.\n",
      " There are 19 islands with ids: 0, 1, 3, 47, 164, 188, 277, 780, 1075, 1465, 4054, 4097, 4511, 5243, 6456, 6567, 7607, 7632, 7705.\n",
      "  W.__init__(\n"
     ]
    },
    {
     "name": "stdout",
     "output_type": "stream",
     "text": [
      "('WARNING: ', 0, ' is an island (no neighbors)')\n",
      "('WARNING: ', 1, ' is an island (no neighbors)')\n",
      "('WARNING: ', 3, ' is an island (no neighbors)')\n",
      "('WARNING: ', 47, ' is an island (no neighbors)')\n",
      "('WARNING: ', 164, ' is an island (no neighbors)')\n",
      "('WARNING: ', 188, ' is an island (no neighbors)')\n",
      "('WARNING: ', 277, ' is an island (no neighbors)')\n",
      "('WARNING: ', 780, ' is an island (no neighbors)')\n",
      "('WARNING: ', 1075, ' is an island (no neighbors)')\n",
      "('WARNING: ', 1465, ' is an island (no neighbors)')\n",
      "('WARNING: ', 4054, ' is an island (no neighbors)')\n",
      "('WARNING: ', 4097, ' is an island (no neighbors)')\n",
      "('WARNING: ', 4511, ' is an island (no neighbors)')\n",
      "('WARNING: ', 5243, ' is an island (no neighbors)')\n",
      "('WARNING: ', 6456, ' is an island (no neighbors)')\n",
      "('WARNING: ', 6567, ' is an island (no neighbors)')\n",
      "('WARNING: ', 7607, ' is an island (no neighbors)')\n",
      "('WARNING: ', 7632, ' is an island (no neighbors)')\n",
      "('WARNING: ', 7705, ' is an island (no neighbors)')\n"
     ]
    },
    {
     "name": "stderr",
     "output_type": "stream",
     "text": [
      "/home/briochamsley/.cache/pypoetry/virtualenvs/oqapi-analysis-QKiHp62D-py3.12/lib/python3.12/site-packages/libpysal/weights/util.py:826: UserWarning: The weights matrix is not fully connected: \n",
      " There are 18 disconnected components.\n",
      "  w = W(neighbors, weights, ids, **kwargs)\n",
      "/home/briochamsley/.cache/pypoetry/virtualenvs/oqapi-analysis-QKiHp62D-py3.12/lib/python3.12/site-packages/libpysal/weights/distance.py:844: UserWarning: The weights matrix is not fully connected: \n",
      " There are 18 disconnected components.\n",
      "  W.__init__(\n"
     ]
    },
    {
     "name": "stdout",
     "output_type": "stream",
     "text": [
      "2015-01-01\n",
      "11686\n",
      "11686\n",
      "got 11686 samples\n"
     ]
    },
    {
     "name": "stderr",
     "output_type": "stream",
     "text": [
      "/home/briochamsley/.cache/pypoetry/virtualenvs/oqapi-analysis-QKiHp62D-py3.12/lib/python3.12/site-packages/libpysal/weights/util.py:826: UserWarning: The weights matrix is not fully connected: \n",
      " There are 37 disconnected components.\n",
      " There are 19 islands with ids: 0, 1, 3, 47, 164, 188, 277, 780, 1075, 1465, 4054, 4097, 4511, 5243, 6456, 6567, 7607, 7632, 7705.\n",
      "  w = W(neighbors, weights, ids, **kwargs)\n",
      "/home/briochamsley/.cache/pypoetry/virtualenvs/oqapi-analysis-QKiHp62D-py3.12/lib/python3.12/site-packages/libpysal/weights/distance.py:844: UserWarning: The weights matrix is not fully connected: \n",
      " There are 37 disconnected components.\n",
      " There are 19 islands with ids: 0, 1, 3, 47, 164, 188, 277, 780, 1075, 1465, 4054, 4097, 4511, 5243, 6456, 6567, 7607, 7632, 7705.\n",
      "  W.__init__(\n"
     ]
    },
    {
     "name": "stdout",
     "output_type": "stream",
     "text": [
      "('WARNING: ', 0, ' is an island (no neighbors)')\n",
      "('WARNING: ', 1, ' is an island (no neighbors)')\n",
      "('WARNING: ', 3, ' is an island (no neighbors)')\n",
      "('WARNING: ', 47, ' is an island (no neighbors)')\n",
      "('WARNING: ', 164, ' is an island (no neighbors)')\n",
      "('WARNING: ', 188, ' is an island (no neighbors)')\n",
      "('WARNING: ', 277, ' is an island (no neighbors)')\n",
      "('WARNING: ', 780, ' is an island (no neighbors)')\n",
      "('WARNING: ', 1075, ' is an island (no neighbors)')\n",
      "('WARNING: ', 1465, ' is an island (no neighbors)')\n",
      "('WARNING: ', 4054, ' is an island (no neighbors)')\n",
      "('WARNING: ', 4097, ' is an island (no neighbors)')\n",
      "('WARNING: ', 4511, ' is an island (no neighbors)')\n",
      "('WARNING: ', 5243, ' is an island (no neighbors)')\n",
      "('WARNING: ', 6456, ' is an island (no neighbors)')\n",
      "('WARNING: ', 6567, ' is an island (no neighbors)')\n",
      "('WARNING: ', 7607, ' is an island (no neighbors)')\n",
      "('WARNING: ', 7632, ' is an island (no neighbors)')\n",
      "('WARNING: ', 7705, ' is an island (no neighbors)')\n"
     ]
    },
    {
     "name": "stderr",
     "output_type": "stream",
     "text": [
      "/home/briochamsley/.cache/pypoetry/virtualenvs/oqapi-analysis-QKiHp62D-py3.12/lib/python3.12/site-packages/libpysal/weights/util.py:826: UserWarning: The weights matrix is not fully connected: \n",
      " There are 18 disconnected components.\n",
      "  w = W(neighbors, weights, ids, **kwargs)\n",
      "/home/briochamsley/.cache/pypoetry/virtualenvs/oqapi-analysis-QKiHp62D-py3.12/lib/python3.12/site-packages/libpysal/weights/distance.py:844: UserWarning: The weights matrix is not fully connected: \n",
      " There are 18 disconnected components.\n",
      "  W.__init__(\n"
     ]
    },
    {
     "name": "stdout",
     "output_type": "stream",
     "text": [
      "2016-01-01\n",
      "11686\n",
      "11686\n",
      "got 11686 samples\n"
     ]
    },
    {
     "name": "stderr",
     "output_type": "stream",
     "text": [
      "/home/briochamsley/.cache/pypoetry/virtualenvs/oqapi-analysis-QKiHp62D-py3.12/lib/python3.12/site-packages/libpysal/weights/util.py:826: UserWarning: The weights matrix is not fully connected: \n",
      " There are 37 disconnected components.\n",
      " There are 19 islands with ids: 0, 1, 3, 47, 164, 188, 277, 780, 1075, 1465, 4054, 4097, 4511, 5243, 6456, 6567, 7607, 7632, 7705.\n",
      "  w = W(neighbors, weights, ids, **kwargs)\n",
      "/home/briochamsley/.cache/pypoetry/virtualenvs/oqapi-analysis-QKiHp62D-py3.12/lib/python3.12/site-packages/libpysal/weights/distance.py:844: UserWarning: The weights matrix is not fully connected: \n",
      " There are 37 disconnected components.\n",
      " There are 19 islands with ids: 0, 1, 3, 47, 164, 188, 277, 780, 1075, 1465, 4054, 4097, 4511, 5243, 6456, 6567, 7607, 7632, 7705.\n",
      "  W.__init__(\n"
     ]
    },
    {
     "name": "stdout",
     "output_type": "stream",
     "text": [
      "('WARNING: ', 0, ' is an island (no neighbors)')\n",
      "('WARNING: ', 1, ' is an island (no neighbors)')\n",
      "('WARNING: ', 3, ' is an island (no neighbors)')\n",
      "('WARNING: ', 47, ' is an island (no neighbors)')\n",
      "('WARNING: ', 164, ' is an island (no neighbors)')\n",
      "('WARNING: ', 188, ' is an island (no neighbors)')\n",
      "('WARNING: ', 277, ' is an island (no neighbors)')\n",
      "('WARNING: ', 780, ' is an island (no neighbors)')\n",
      "('WARNING: ', 1075, ' is an island (no neighbors)')\n",
      "('WARNING: ', 1465, ' is an island (no neighbors)')\n",
      "('WARNING: ', 4054, ' is an island (no neighbors)')\n",
      "('WARNING: ', 4097, ' is an island (no neighbors)')\n",
      "('WARNING: ', 4511, ' is an island (no neighbors)')\n",
      "('WARNING: ', 5243, ' is an island (no neighbors)')\n",
      "('WARNING: ', 6456, ' is an island (no neighbors)')\n",
      "('WARNING: ', 6567, ' is an island (no neighbors)')\n",
      "('WARNING: ', 7607, ' is an island (no neighbors)')\n",
      "('WARNING: ', 7632, ' is an island (no neighbors)')\n",
      "('WARNING: ', 7705, ' is an island (no neighbors)')\n"
     ]
    },
    {
     "name": "stderr",
     "output_type": "stream",
     "text": [
      "/home/briochamsley/.cache/pypoetry/virtualenvs/oqapi-analysis-QKiHp62D-py3.12/lib/python3.12/site-packages/libpysal/weights/util.py:826: UserWarning: The weights matrix is not fully connected: \n",
      " There are 18 disconnected components.\n",
      "  w = W(neighbors, weights, ids, **kwargs)\n",
      "/home/briochamsley/.cache/pypoetry/virtualenvs/oqapi-analysis-QKiHp62D-py3.12/lib/python3.12/site-packages/libpysal/weights/distance.py:844: UserWarning: The weights matrix is not fully connected: \n",
      " There are 18 disconnected components.\n",
      "  W.__init__(\n"
     ]
    },
    {
     "name": "stdout",
     "output_type": "stream",
     "text": [
      "2017-01-01\n",
      "11686\n",
      "11686\n",
      "got 11686 samples\n"
     ]
    },
    {
     "name": "stderr",
     "output_type": "stream",
     "text": [
      "/home/briochamsley/.cache/pypoetry/virtualenvs/oqapi-analysis-QKiHp62D-py3.12/lib/python3.12/site-packages/libpysal/weights/util.py:826: UserWarning: The weights matrix is not fully connected: \n",
      " There are 37 disconnected components.\n",
      " There are 19 islands with ids: 0, 1, 3, 47, 164, 188, 277, 780, 1075, 1465, 4054, 4097, 4511, 5243, 6456, 6567, 7607, 7632, 7705.\n",
      "  w = W(neighbors, weights, ids, **kwargs)\n",
      "/home/briochamsley/.cache/pypoetry/virtualenvs/oqapi-analysis-QKiHp62D-py3.12/lib/python3.12/site-packages/libpysal/weights/distance.py:844: UserWarning: The weights matrix is not fully connected: \n",
      " There are 37 disconnected components.\n",
      " There are 19 islands with ids: 0, 1, 3, 47, 164, 188, 277, 780, 1075, 1465, 4054, 4097, 4511, 5243, 6456, 6567, 7607, 7632, 7705.\n",
      "  W.__init__(\n"
     ]
    },
    {
     "name": "stdout",
     "output_type": "stream",
     "text": [
      "('WARNING: ', 0, ' is an island (no neighbors)')\n",
      "('WARNING: ', 1, ' is an island (no neighbors)')\n",
      "('WARNING: ', 3, ' is an island (no neighbors)')\n",
      "('WARNING: ', 47, ' is an island (no neighbors)')\n",
      "('WARNING: ', 164, ' is an island (no neighbors)')\n",
      "('WARNING: ', 188, ' is an island (no neighbors)')\n",
      "('WARNING: ', 277, ' is an island (no neighbors)')\n",
      "('WARNING: ', 780, ' is an island (no neighbors)')\n",
      "('WARNING: ', 1075, ' is an island (no neighbors)')\n",
      "('WARNING: ', 1465, ' is an island (no neighbors)')\n",
      "('WARNING: ', 4054, ' is an island (no neighbors)')\n",
      "('WARNING: ', 4097, ' is an island (no neighbors)')\n",
      "('WARNING: ', 4511, ' is an island (no neighbors)')\n",
      "('WARNING: ', 5243, ' is an island (no neighbors)')\n",
      "('WARNING: ', 6456, ' is an island (no neighbors)')\n",
      "('WARNING: ', 6567, ' is an island (no neighbors)')\n",
      "('WARNING: ', 7607, ' is an island (no neighbors)')\n",
      "('WARNING: ', 7632, ' is an island (no neighbors)')\n",
      "('WARNING: ', 7705, ' is an island (no neighbors)')\n"
     ]
    },
    {
     "name": "stderr",
     "output_type": "stream",
     "text": [
      "/home/briochamsley/.cache/pypoetry/virtualenvs/oqapi-analysis-QKiHp62D-py3.12/lib/python3.12/site-packages/libpysal/weights/util.py:826: UserWarning: The weights matrix is not fully connected: \n",
      " There are 18 disconnected components.\n",
      "  w = W(neighbors, weights, ids, **kwargs)\n",
      "/home/briochamsley/.cache/pypoetry/virtualenvs/oqapi-analysis-QKiHp62D-py3.12/lib/python3.12/site-packages/libpysal/weights/distance.py:844: UserWarning: The weights matrix is not fully connected: \n",
      " There are 18 disconnected components.\n",
      "  W.__init__(\n"
     ]
    },
    {
     "name": "stdout",
     "output_type": "stream",
     "text": [
      "2018-01-01\n",
      "11686\n",
      "11686\n",
      "got 11686 samples\n"
     ]
    },
    {
     "name": "stderr",
     "output_type": "stream",
     "text": [
      "/home/briochamsley/.cache/pypoetry/virtualenvs/oqapi-analysis-QKiHp62D-py3.12/lib/python3.12/site-packages/libpysal/weights/util.py:826: UserWarning: The weights matrix is not fully connected: \n",
      " There are 37 disconnected components.\n",
      " There are 19 islands with ids: 0, 1, 3, 47, 164, 188, 277, 780, 1075, 1465, 4054, 4097, 4511, 5243, 6456, 6567, 7607, 7632, 7705.\n",
      "  w = W(neighbors, weights, ids, **kwargs)\n",
      "/home/briochamsley/.cache/pypoetry/virtualenvs/oqapi-analysis-QKiHp62D-py3.12/lib/python3.12/site-packages/libpysal/weights/distance.py:844: UserWarning: The weights matrix is not fully connected: \n",
      " There are 37 disconnected components.\n",
      " There are 19 islands with ids: 0, 1, 3, 47, 164, 188, 277, 780, 1075, 1465, 4054, 4097, 4511, 5243, 6456, 6567, 7607, 7632, 7705.\n",
      "  W.__init__(\n"
     ]
    },
    {
     "name": "stdout",
     "output_type": "stream",
     "text": [
      "('WARNING: ', 0, ' is an island (no neighbors)')\n",
      "('WARNING: ', 1, ' is an island (no neighbors)')\n",
      "('WARNING: ', 3, ' is an island (no neighbors)')\n",
      "('WARNING: ', 47, ' is an island (no neighbors)')\n",
      "('WARNING: ', 164, ' is an island (no neighbors)')\n",
      "('WARNING: ', 188, ' is an island (no neighbors)')\n",
      "('WARNING: ', 277, ' is an island (no neighbors)')\n",
      "('WARNING: ', 780, ' is an island (no neighbors)')\n",
      "('WARNING: ', 1075, ' is an island (no neighbors)')\n",
      "('WARNING: ', 1465, ' is an island (no neighbors)')\n",
      "('WARNING: ', 4054, ' is an island (no neighbors)')\n",
      "('WARNING: ', 4097, ' is an island (no neighbors)')\n",
      "('WARNING: ', 4511, ' is an island (no neighbors)')\n",
      "('WARNING: ', 5243, ' is an island (no neighbors)')\n",
      "('WARNING: ', 6456, ' is an island (no neighbors)')\n",
      "('WARNING: ', 6567, ' is an island (no neighbors)')\n",
      "('WARNING: ', 7607, ' is an island (no neighbors)')\n",
      "('WARNING: ', 7632, ' is an island (no neighbors)')\n",
      "('WARNING: ', 7705, ' is an island (no neighbors)')\n"
     ]
    },
    {
     "name": "stderr",
     "output_type": "stream",
     "text": [
      "/home/briochamsley/.cache/pypoetry/virtualenvs/oqapi-analysis-QKiHp62D-py3.12/lib/python3.12/site-packages/libpysal/weights/util.py:826: UserWarning: The weights matrix is not fully connected: \n",
      " There are 18 disconnected components.\n",
      "  w = W(neighbors, weights, ids, **kwargs)\n",
      "/home/briochamsley/.cache/pypoetry/virtualenvs/oqapi-analysis-QKiHp62D-py3.12/lib/python3.12/site-packages/libpysal/weights/distance.py:844: UserWarning: The weights matrix is not fully connected: \n",
      " There are 18 disconnected components.\n",
      "  W.__init__(\n"
     ]
    },
    {
     "name": "stdout",
     "output_type": "stream",
     "text": [
      "2019-01-01\n",
      "11686\n",
      "11686\n",
      "got 11686 samples\n"
     ]
    },
    {
     "name": "stderr",
     "output_type": "stream",
     "text": [
      "/home/briochamsley/.cache/pypoetry/virtualenvs/oqapi-analysis-QKiHp62D-py3.12/lib/python3.12/site-packages/libpysal/weights/util.py:826: UserWarning: The weights matrix is not fully connected: \n",
      " There are 37 disconnected components.\n",
      " There are 19 islands with ids: 0, 1, 3, 47, 164, 188, 277, 780, 1075, 1465, 4054, 4097, 4511, 5243, 6456, 6567, 7607, 7632, 7705.\n",
      "  w = W(neighbors, weights, ids, **kwargs)\n",
      "/home/briochamsley/.cache/pypoetry/virtualenvs/oqapi-analysis-QKiHp62D-py3.12/lib/python3.12/site-packages/libpysal/weights/distance.py:844: UserWarning: The weights matrix is not fully connected: \n",
      " There are 37 disconnected components.\n",
      " There are 19 islands with ids: 0, 1, 3, 47, 164, 188, 277, 780, 1075, 1465, 4054, 4097, 4511, 5243, 6456, 6567, 7607, 7632, 7705.\n",
      "  W.__init__(\n"
     ]
    },
    {
     "name": "stdout",
     "output_type": "stream",
     "text": [
      "('WARNING: ', 0, ' is an island (no neighbors)')\n",
      "('WARNING: ', 1, ' is an island (no neighbors)')\n",
      "('WARNING: ', 3, ' is an island (no neighbors)')\n",
      "('WARNING: ', 47, ' is an island (no neighbors)')\n",
      "('WARNING: ', 164, ' is an island (no neighbors)')\n",
      "('WARNING: ', 188, ' is an island (no neighbors)')\n",
      "('WARNING: ', 277, ' is an island (no neighbors)')\n",
      "('WARNING: ', 780, ' is an island (no neighbors)')\n",
      "('WARNING: ', 1075, ' is an island (no neighbors)')\n",
      "('WARNING: ', 1465, ' is an island (no neighbors)')\n",
      "('WARNING: ', 4054, ' is an island (no neighbors)')\n",
      "('WARNING: ', 4097, ' is an island (no neighbors)')\n",
      "('WARNING: ', 4511, ' is an island (no neighbors)')\n",
      "('WARNING: ', 5243, ' is an island (no neighbors)')\n",
      "('WARNING: ', 6456, ' is an island (no neighbors)')\n",
      "('WARNING: ', 6567, ' is an island (no neighbors)')\n",
      "('WARNING: ', 7607, ' is an island (no neighbors)')\n",
      "('WARNING: ', 7632, ' is an island (no neighbors)')\n",
      "('WARNING: ', 7705, ' is an island (no neighbors)')\n"
     ]
    },
    {
     "name": "stderr",
     "output_type": "stream",
     "text": [
      "/home/briochamsley/.cache/pypoetry/virtualenvs/oqapi-analysis-QKiHp62D-py3.12/lib/python3.12/site-packages/libpysal/weights/util.py:826: UserWarning: The weights matrix is not fully connected: \n",
      " There are 18 disconnected components.\n",
      "  w = W(neighbors, weights, ids, **kwargs)\n",
      "/home/briochamsley/.cache/pypoetry/virtualenvs/oqapi-analysis-QKiHp62D-py3.12/lib/python3.12/site-packages/libpysal/weights/distance.py:844: UserWarning: The weights matrix is not fully connected: \n",
      " There are 18 disconnected components.\n",
      "  W.__init__(\n"
     ]
    },
    {
     "name": "stdout",
     "output_type": "stream",
     "text": [
      "2020-01-01\n",
      "11686\n",
      "11686\n",
      "got 11686 samples\n"
     ]
    },
    {
     "name": "stderr",
     "output_type": "stream",
     "text": [
      "/home/briochamsley/.cache/pypoetry/virtualenvs/oqapi-analysis-QKiHp62D-py3.12/lib/python3.12/site-packages/libpysal/weights/util.py:826: UserWarning: The weights matrix is not fully connected: \n",
      " There are 37 disconnected components.\n",
      " There are 19 islands with ids: 0, 1, 3, 47, 164, 188, 277, 780, 1075, 1465, 4054, 4097, 4511, 5243, 6456, 6567, 7607, 7632, 7705.\n",
      "  w = W(neighbors, weights, ids, **kwargs)\n",
      "/home/briochamsley/.cache/pypoetry/virtualenvs/oqapi-analysis-QKiHp62D-py3.12/lib/python3.12/site-packages/libpysal/weights/distance.py:844: UserWarning: The weights matrix is not fully connected: \n",
      " There are 37 disconnected components.\n",
      " There are 19 islands with ids: 0, 1, 3, 47, 164, 188, 277, 780, 1075, 1465, 4054, 4097, 4511, 5243, 6456, 6567, 7607, 7632, 7705.\n",
      "  W.__init__(\n"
     ]
    },
    {
     "name": "stdout",
     "output_type": "stream",
     "text": [
      "('WARNING: ', 0, ' is an island (no neighbors)')\n",
      "('WARNING: ', 1, ' is an island (no neighbors)')\n",
      "('WARNING: ', 3, ' is an island (no neighbors)')\n",
      "('WARNING: ', 47, ' is an island (no neighbors)')\n",
      "('WARNING: ', 164, ' is an island (no neighbors)')\n",
      "('WARNING: ', 188, ' is an island (no neighbors)')\n",
      "('WARNING: ', 277, ' is an island (no neighbors)')\n",
      "('WARNING: ', 780, ' is an island (no neighbors)')\n",
      "('WARNING: ', 1075, ' is an island (no neighbors)')\n",
      "('WARNING: ', 1465, ' is an island (no neighbors)')\n",
      "('WARNING: ', 4054, ' is an island (no neighbors)')\n",
      "('WARNING: ', 4097, ' is an island (no neighbors)')\n",
      "('WARNING: ', 4511, ' is an island (no neighbors)')\n",
      "('WARNING: ', 5243, ' is an island (no neighbors)')\n",
      "('WARNING: ', 6456, ' is an island (no neighbors)')\n",
      "('WARNING: ', 6567, ' is an island (no neighbors)')\n",
      "('WARNING: ', 7607, ' is an island (no neighbors)')\n",
      "('WARNING: ', 7632, ' is an island (no neighbors)')\n",
      "('WARNING: ', 7705, ' is an island (no neighbors)')\n"
     ]
    },
    {
     "name": "stderr",
     "output_type": "stream",
     "text": [
      "/home/briochamsley/.cache/pypoetry/virtualenvs/oqapi-analysis-QKiHp62D-py3.12/lib/python3.12/site-packages/libpysal/weights/util.py:826: UserWarning: The weights matrix is not fully connected: \n",
      " There are 18 disconnected components.\n",
      "  w = W(neighbors, weights, ids, **kwargs)\n",
      "/home/briochamsley/.cache/pypoetry/virtualenvs/oqapi-analysis-QKiHp62D-py3.12/lib/python3.12/site-packages/libpysal/weights/distance.py:844: UserWarning: The weights matrix is not fully connected: \n",
      " There are 18 disconnected components.\n",
      "  W.__init__(\n"
     ]
    },
    {
     "name": "stdout",
     "output_type": "stream",
     "text": [
      "2021-01-01\n",
      "11686\n",
      "11686\n",
      "got 11686 samples\n"
     ]
    },
    {
     "name": "stderr",
     "output_type": "stream",
     "text": [
      "/home/briochamsley/.cache/pypoetry/virtualenvs/oqapi-analysis-QKiHp62D-py3.12/lib/python3.12/site-packages/libpysal/weights/util.py:826: UserWarning: The weights matrix is not fully connected: \n",
      " There are 37 disconnected components.\n",
      " There are 19 islands with ids: 0, 1, 3, 47, 164, 188, 277, 780, 1075, 1465, 4054, 4097, 4511, 5243, 6456, 6567, 7607, 7632, 7705.\n",
      "  w = W(neighbors, weights, ids, **kwargs)\n",
      "/home/briochamsley/.cache/pypoetry/virtualenvs/oqapi-analysis-QKiHp62D-py3.12/lib/python3.12/site-packages/libpysal/weights/distance.py:844: UserWarning: The weights matrix is not fully connected: \n",
      " There are 37 disconnected components.\n",
      " There are 19 islands with ids: 0, 1, 3, 47, 164, 188, 277, 780, 1075, 1465, 4054, 4097, 4511, 5243, 6456, 6567, 7607, 7632, 7705.\n",
      "  W.__init__(\n"
     ]
    },
    {
     "name": "stdout",
     "output_type": "stream",
     "text": [
      "('WARNING: ', 0, ' is an island (no neighbors)')\n",
      "('WARNING: ', 1, ' is an island (no neighbors)')\n",
      "('WARNING: ', 3, ' is an island (no neighbors)')\n",
      "('WARNING: ', 47, ' is an island (no neighbors)')\n",
      "('WARNING: ', 164, ' is an island (no neighbors)')\n",
      "('WARNING: ', 188, ' is an island (no neighbors)')\n",
      "('WARNING: ', 277, ' is an island (no neighbors)')\n",
      "('WARNING: ', 780, ' is an island (no neighbors)')\n",
      "('WARNING: ', 1075, ' is an island (no neighbors)')\n",
      "('WARNING: ', 1465, ' is an island (no neighbors)')\n",
      "('WARNING: ', 4054, ' is an island (no neighbors)')\n",
      "('WARNING: ', 4097, ' is an island (no neighbors)')\n",
      "('WARNING: ', 4511, ' is an island (no neighbors)')\n",
      "('WARNING: ', 5243, ' is an island (no neighbors)')\n",
      "('WARNING: ', 6456, ' is an island (no neighbors)')\n",
      "('WARNING: ', 6567, ' is an island (no neighbors)')\n",
      "('WARNING: ', 7607, ' is an island (no neighbors)')\n",
      "('WARNING: ', 7632, ' is an island (no neighbors)')\n",
      "('WARNING: ', 7705, ' is an island (no neighbors)')\n"
     ]
    },
    {
     "name": "stderr",
     "output_type": "stream",
     "text": [
      "/home/briochamsley/.cache/pypoetry/virtualenvs/oqapi-analysis-QKiHp62D-py3.12/lib/python3.12/site-packages/libpysal/weights/util.py:826: UserWarning: The weights matrix is not fully connected: \n",
      " There are 18 disconnected components.\n",
      "  w = W(neighbors, weights, ids, **kwargs)\n",
      "/home/briochamsley/.cache/pypoetry/virtualenvs/oqapi-analysis-QKiHp62D-py3.12/lib/python3.12/site-packages/libpysal/weights/distance.py:844: UserWarning: The weights matrix is not fully connected: \n",
      " There are 18 disconnected components.\n",
      "  W.__init__(\n"
     ]
    },
    {
     "name": "stdout",
     "output_type": "stream",
     "text": [
      "2022-01-01\n",
      "11686\n",
      "11686\n",
      "got 11686 samples\n"
     ]
    },
    {
     "name": "stderr",
     "output_type": "stream",
     "text": [
      "/home/briochamsley/.cache/pypoetry/virtualenvs/oqapi-analysis-QKiHp62D-py3.12/lib/python3.12/site-packages/libpysal/weights/util.py:826: UserWarning: The weights matrix is not fully connected: \n",
      " There are 37 disconnected components.\n",
      " There are 19 islands with ids: 0, 1, 3, 47, 164, 188, 277, 780, 1075, 1465, 4054, 4097, 4511, 5243, 6456, 6567, 7607, 7632, 7705.\n",
      "  w = W(neighbors, weights, ids, **kwargs)\n",
      "/home/briochamsley/.cache/pypoetry/virtualenvs/oqapi-analysis-QKiHp62D-py3.12/lib/python3.12/site-packages/libpysal/weights/distance.py:844: UserWarning: The weights matrix is not fully connected: \n",
      " There are 37 disconnected components.\n",
      " There are 19 islands with ids: 0, 1, 3, 47, 164, 188, 277, 780, 1075, 1465, 4054, 4097, 4511, 5243, 6456, 6567, 7607, 7632, 7705.\n",
      "  W.__init__(\n"
     ]
    },
    {
     "name": "stdout",
     "output_type": "stream",
     "text": [
      "('WARNING: ', 0, ' is an island (no neighbors)')\n",
      "('WARNING: ', 1, ' is an island (no neighbors)')\n",
      "('WARNING: ', 3, ' is an island (no neighbors)')\n",
      "('WARNING: ', 47, ' is an island (no neighbors)')\n",
      "('WARNING: ', 164, ' is an island (no neighbors)')\n",
      "('WARNING: ', 188, ' is an island (no neighbors)')\n",
      "('WARNING: ', 277, ' is an island (no neighbors)')\n",
      "('WARNING: ', 780, ' is an island (no neighbors)')\n",
      "('WARNING: ', 1075, ' is an island (no neighbors)')\n",
      "('WARNING: ', 1465, ' is an island (no neighbors)')\n",
      "('WARNING: ', 4054, ' is an island (no neighbors)')\n",
      "('WARNING: ', 4097, ' is an island (no neighbors)')\n",
      "('WARNING: ', 4511, ' is an island (no neighbors)')\n",
      "('WARNING: ', 5243, ' is an island (no neighbors)')\n",
      "('WARNING: ', 6456, ' is an island (no neighbors)')\n",
      "('WARNING: ', 6567, ' is an island (no neighbors)')\n",
      "('WARNING: ', 7607, ' is an island (no neighbors)')\n",
      "('WARNING: ', 7632, ' is an island (no neighbors)')\n",
      "('WARNING: ', 7705, ' is an island (no neighbors)')\n"
     ]
    },
    {
     "name": "stderr",
     "output_type": "stream",
     "text": [
      "/home/briochamsley/.cache/pypoetry/virtualenvs/oqapi-analysis-QKiHp62D-py3.12/lib/python3.12/site-packages/libpysal/weights/util.py:826: UserWarning: The weights matrix is not fully connected: \n",
      " There are 18 disconnected components.\n",
      "  w = W(neighbors, weights, ids, **kwargs)\n",
      "/home/briochamsley/.cache/pypoetry/virtualenvs/oqapi-analysis-QKiHp62D-py3.12/lib/python3.12/site-packages/libpysal/weights/distance.py:844: UserWarning: The weights matrix is not fully connected: \n",
      " There are 18 disconnected components.\n",
      "  W.__init__(\n"
     ]
    },
    {
     "name": "stdout",
     "output_type": "stream",
     "text": [
      "2023-01-01\n",
      "11686\n",
      "11686\n",
      "got 11686 samples\n"
     ]
    },
    {
     "name": "stderr",
     "output_type": "stream",
     "text": [
      "/home/briochamsley/.cache/pypoetry/virtualenvs/oqapi-analysis-QKiHp62D-py3.12/lib/python3.12/site-packages/libpysal/weights/util.py:826: UserWarning: The weights matrix is not fully connected: \n",
      " There are 37 disconnected components.\n",
      " There are 19 islands with ids: 0, 1, 3, 47, 164, 188, 277, 780, 1075, 1465, 4054, 4097, 4511, 5243, 6456, 6567, 7607, 7632, 7705.\n",
      "  w = W(neighbors, weights, ids, **kwargs)\n",
      "/home/briochamsley/.cache/pypoetry/virtualenvs/oqapi-analysis-QKiHp62D-py3.12/lib/python3.12/site-packages/libpysal/weights/distance.py:844: UserWarning: The weights matrix is not fully connected: \n",
      " There are 37 disconnected components.\n",
      " There are 19 islands with ids: 0, 1, 3, 47, 164, 188, 277, 780, 1075, 1465, 4054, 4097, 4511, 5243, 6456, 6567, 7607, 7632, 7705.\n",
      "  W.__init__(\n"
     ]
    },
    {
     "name": "stdout",
     "output_type": "stream",
     "text": [
      "('WARNING: ', 0, ' is an island (no neighbors)')\n",
      "('WARNING: ', 1, ' is an island (no neighbors)')\n",
      "('WARNING: ', 3, ' is an island (no neighbors)')\n",
      "('WARNING: ', 47, ' is an island (no neighbors)')\n",
      "('WARNING: ', 164, ' is an island (no neighbors)')\n",
      "('WARNING: ', 188, ' is an island (no neighbors)')\n",
      "('WARNING: ', 277, ' is an island (no neighbors)')\n",
      "('WARNING: ', 780, ' is an island (no neighbors)')\n",
      "('WARNING: ', 1075, ' is an island (no neighbors)')\n",
      "('WARNING: ', 1465, ' is an island (no neighbors)')\n",
      "('WARNING: ', 4054, ' is an island (no neighbors)')\n",
      "('WARNING: ', 4097, ' is an island (no neighbors)')\n",
      "('WARNING: ', 4511, ' is an island (no neighbors)')\n",
      "('WARNING: ', 5243, ' is an island (no neighbors)')\n",
      "('WARNING: ', 6456, ' is an island (no neighbors)')\n",
      "('WARNING: ', 6567, ' is an island (no neighbors)')\n",
      "('WARNING: ', 7607, ' is an island (no neighbors)')\n",
      "('WARNING: ', 7632, ' is an island (no neighbors)')\n",
      "('WARNING: ', 7705, ' is an island (no neighbors)')\n"
     ]
    },
    {
     "name": "stderr",
     "output_type": "stream",
     "text": [
      "/home/briochamsley/.cache/pypoetry/virtualenvs/oqapi-analysis-QKiHp62D-py3.12/lib/python3.12/site-packages/libpysal/weights/util.py:826: UserWarning: The weights matrix is not fully connected: \n",
      " There are 18 disconnected components.\n",
      "  w = W(neighbors, weights, ids, **kwargs)\n",
      "/home/briochamsley/.cache/pypoetry/virtualenvs/oqapi-analysis-QKiHp62D-py3.12/lib/python3.12/site-packages/libpysal/weights/distance.py:844: UserWarning: The weights matrix is not fully connected: \n",
      " There are 18 disconnected components.\n",
      "  W.__init__(\n"
     ]
    },
    {
     "name": "stdout",
     "output_type": "stream",
     "text": [
      "2024-01-01\n",
      "11686\n",
      "11686\n",
      "got 11686 samples\n"
     ]
    },
    {
     "name": "stderr",
     "output_type": "stream",
     "text": [
      "/home/briochamsley/.cache/pypoetry/virtualenvs/oqapi-analysis-QKiHp62D-py3.12/lib/python3.12/site-packages/libpysal/weights/util.py:826: UserWarning: The weights matrix is not fully connected: \n",
      " There are 37 disconnected components.\n",
      " There are 19 islands with ids: 0, 1, 3, 47, 164, 188, 277, 780, 1075, 1465, 4054, 4097, 4511, 5243, 6456, 6567, 7607, 7632, 7705.\n",
      "  w = W(neighbors, weights, ids, **kwargs)\n",
      "/home/briochamsley/.cache/pypoetry/virtualenvs/oqapi-analysis-QKiHp62D-py3.12/lib/python3.12/site-packages/libpysal/weights/distance.py:844: UserWarning: The weights matrix is not fully connected: \n",
      " There are 37 disconnected components.\n",
      " There are 19 islands with ids: 0, 1, 3, 47, 164, 188, 277, 780, 1075, 1465, 4054, 4097, 4511, 5243, 6456, 6567, 7607, 7632, 7705.\n",
      "  W.__init__(\n"
     ]
    },
    {
     "name": "stdout",
     "output_type": "stream",
     "text": [
      "('WARNING: ', 0, ' is an island (no neighbors)')\n",
      "('WARNING: ', 1, ' is an island (no neighbors)')\n",
      "('WARNING: ', 3, ' is an island (no neighbors)')\n",
      "('WARNING: ', 47, ' is an island (no neighbors)')\n",
      "('WARNING: ', 164, ' is an island (no neighbors)')\n",
      "('WARNING: ', 188, ' is an island (no neighbors)')\n",
      "('WARNING: ', 277, ' is an island (no neighbors)')\n",
      "('WARNING: ', 780, ' is an island (no neighbors)')\n",
      "('WARNING: ', 1075, ' is an island (no neighbors)')\n",
      "('WARNING: ', 1465, ' is an island (no neighbors)')\n",
      "('WARNING: ', 4054, ' is an island (no neighbors)')\n",
      "('WARNING: ', 4097, ' is an island (no neighbors)')\n",
      "('WARNING: ', 4511, ' is an island (no neighbors)')\n",
      "('WARNING: ', 5243, ' is an island (no neighbors)')\n",
      "('WARNING: ', 6456, ' is an island (no neighbors)')\n",
      "('WARNING: ', 6567, ' is an island (no neighbors)')\n",
      "('WARNING: ', 7607, ' is an island (no neighbors)')\n",
      "('WARNING: ', 7632, ' is an island (no neighbors)')\n",
      "('WARNING: ', 7705, ' is an island (no neighbors)')\n"
     ]
    },
    {
     "name": "stderr",
     "output_type": "stream",
     "text": [
      "/home/briochamsley/.cache/pypoetry/virtualenvs/oqapi-analysis-QKiHp62D-py3.12/lib/python3.12/site-packages/libpysal/weights/util.py:826: UserWarning: The weights matrix is not fully connected: \n",
      " There are 18 disconnected components.\n",
      "  w = W(neighbors, weights, ids, **kwargs)\n",
      "/home/briochamsley/.cache/pypoetry/virtualenvs/oqapi-analysis-QKiHp62D-py3.12/lib/python3.12/site-packages/libpysal/weights/distance.py:844: UserWarning: The weights matrix is not fully connected: \n",
      " There are 18 disconnected components.\n",
      "  W.__init__(\n"
     ]
    },
    {
     "name": "stdout",
     "output_type": "stream",
     "text": [
      "2024-05-01\n",
      "11686\n",
      "11686\n",
      "got 11686 samples\n"
     ]
    },
    {
     "name": "stderr",
     "output_type": "stream",
     "text": [
      "/home/briochamsley/.cache/pypoetry/virtualenvs/oqapi-analysis-QKiHp62D-py3.12/lib/python3.12/site-packages/libpysal/weights/util.py:826: UserWarning: The weights matrix is not fully connected: \n",
      " There are 37 disconnected components.\n",
      " There are 19 islands with ids: 0, 1, 3, 47, 164, 188, 277, 780, 1075, 1465, 4054, 4097, 4511, 5243, 6456, 6567, 7607, 7632, 7705.\n",
      "  w = W(neighbors, weights, ids, **kwargs)\n",
      "/home/briochamsley/.cache/pypoetry/virtualenvs/oqapi-analysis-QKiHp62D-py3.12/lib/python3.12/site-packages/libpysal/weights/distance.py:844: UserWarning: The weights matrix is not fully connected: \n",
      " There are 37 disconnected components.\n",
      " There are 19 islands with ids: 0, 1, 3, 47, 164, 188, 277, 780, 1075, 1465, 4054, 4097, 4511, 5243, 6456, 6567, 7607, 7632, 7705.\n",
      "  W.__init__(\n"
     ]
    },
    {
     "name": "stdout",
     "output_type": "stream",
     "text": [
      "('WARNING: ', 0, ' is an island (no neighbors)')\n",
      "('WARNING: ', 1, ' is an island (no neighbors)')\n",
      "('WARNING: ', 3, ' is an island (no neighbors)')\n",
      "('WARNING: ', 47, ' is an island (no neighbors)')\n",
      "('WARNING: ', 164, ' is an island (no neighbors)')\n",
      "('WARNING: ', 188, ' is an island (no neighbors)')\n",
      "('WARNING: ', 277, ' is an island (no neighbors)')\n",
      "('WARNING: ', 780, ' is an island (no neighbors)')\n",
      "('WARNING: ', 1075, ' is an island (no neighbors)')\n",
      "('WARNING: ', 1465, ' is an island (no neighbors)')\n",
      "('WARNING: ', 4054, ' is an island (no neighbors)')\n",
      "('WARNING: ', 4097, ' is an island (no neighbors)')\n",
      "('WARNING: ', 4511, ' is an island (no neighbors)')\n",
      "('WARNING: ', 5243, ' is an island (no neighbors)')\n",
      "('WARNING: ', 6456, ' is an island (no neighbors)')\n",
      "('WARNING: ', 6567, ' is an island (no neighbors)')\n",
      "('WARNING: ', 7607, ' is an island (no neighbors)')\n",
      "('WARNING: ', 7632, ' is an island (no neighbors)')\n",
      "('WARNING: ', 7705, ' is an island (no neighbors)')\n"
     ]
    },
    {
     "name": "stderr",
     "output_type": "stream",
     "text": [
      "/home/briochamsley/.cache/pypoetry/virtualenvs/oqapi-analysis-QKiHp62D-py3.12/lib/python3.12/site-packages/libpysal/weights/util.py:826: UserWarning: The weights matrix is not fully connected: \n",
      " There are 18 disconnected components.\n",
      "  w = W(neighbors, weights, ids, **kwargs)\n",
      "/home/briochamsley/.cache/pypoetry/virtualenvs/oqapi-analysis-QKiHp62D-py3.12/lib/python3.12/site-packages/libpysal/weights/distance.py:844: UserWarning: The weights matrix is not fully connected: \n",
      " There are 18 disconnected components.\n",
      "  W.__init__(\n"
     ]
    }
   ],
   "source": [
    "morans_lists = {}\n",
    "gini_lists = {}\n",
    "pop_low_completeness_lists = {}\n",
    "pop_high_completeness_lists = {}\n",
    "avg_completeness_lists = {}\n",
    "\n",
    "for i, region in enumerate(wb_regions):\n",
    "    \n",
    "    morans_lists[i] = []\n",
    "    gini_lists[i] = []\n",
    "    pop_low_completeness_lists[i] = []\n",
    "    pop_high_completeness_lists[i] = []\n",
    "    avg_completeness_lists[i] = []\n",
    "    \n",
    "    for j, month in enumerate(all_months):\n",
    "        print(month)\n",
    "        \n",
    "        df = get_urban_centers_gdf_timeline(\n",
    "            region,\n",
    "            month,\n",
    "        ).reset_index()\n",
    "        \n",
    "        avg_completeness_lists[i].append(\n",
    "            df[\"prediction_osm_completeness\"].mean()\n",
    "        )\n",
    "        \n",
    "        index = segregation.singlegroup.gini.Gini(\n",
    "            df[['sum_osm_building_area_sqkm', 'prediction']],\n",
    "            'sum_osm_building_area_sqkm',\n",
    "            'prediction'\n",
    "        )\n",
    "        gini_lists[i].append(index.statistic)\n",
    "\n",
    "        w = DistanceBand.from_dataframe(df, 5, binary=False)\n",
    "        w.transform = 'r'\n",
    "\n",
    "        df = df.loc[~df.index.isin(w.islands)]\n",
    "\n",
    "        w = DistanceBand.from_dataframe(df, 5, binary=False)\n",
    "        w.transform = 'r'\n",
    "\n",
    "        y = df['osm_completeness']\n",
    "        # global and local Moran's I\n",
    "        try:\n",
    "            moran_global = Moran(y, w)\n",
    "            moran_loc = Moran_Local(y, w)\n",
    "            df[f\"{month.year}_moran_loc\"] = moran_loc.Is\n",
    "            df[f\"{month.year}_moran_loc_q\"] = moran_loc.q\n",
    "            df[f\"{month.year}_moran_loc_p_sim\"] = moran_loc.p_sim\n",
    "            df[f\"{month.year}_moran_global\"] = moran_global.I\n",
    "        except (ZeroDivisionError, StopIteration):\n",
    "            df[f\"{month.year}_moran_loc\"] = np.nan\n",
    "            df[f\"{month.year}_moran_global\"] = np.nan\n",
    "\n",
    "        morans_lists[i].append(moran_global.I)\n",
    "\n",
    "        pop_low_completeness = df.loc[df['osm_completeness'] < 0.2][\"ghs_pop_2023\"].sum() / df[\"ghs_pop_2023\"].sum()\n",
    "        pop_low_completeness_lists[i].append(pop_low_completeness)\n",
    "\n",
    "        pop_high_completeness = df.loc[df['osm_completeness'] >= 0.8][\"ghs_pop_2023\"].sum() / df[\"ghs_pop_2023\"].sum()\n",
    "        pop_high_completeness_lists[i].append(pop_high_completeness)"
   ]
  },
  {
   "cell_type": "markdown",
   "id": "fedd4290",
   "metadata": {},
   "source": [
    "## Save Results\n"
   ]
  },
  {
   "cell_type": "code",
   "execution_count": 5,
   "id": "6b819ea0",
   "metadata": {},
   "outputs": [],
   "source": [
    "stats = []\n",
    "for i, region in enumerate(wb_regions):\n",
    "    stats.append([\n",
    "        label_strings[i],\n",
    "        all_months,\n",
    "        avg_completeness_lists[i],\n",
    "        pop_low_completeness_lists[i],\n",
    "        pop_high_completeness_lists[i],\n",
    "        morans_lists[i],\n",
    "        gini_lists[i]\n",
    "    ])\n",
    "    \n",
    "with open(outfile, 'wb') as f:\n",
    "    pickle.dump(stats, f)"
   ]
  },
  {
   "cell_type": "markdown",
   "id": "2003abd9",
   "metadata": {},
   "source": [
    "## Create Plots"
   ]
  },
  {
   "cell_type": "code",
   "execution_count": 6,
   "id": "9d2fd5a0",
   "metadata": {},
   "outputs": [
    {
     "data": {
      "text/html": [
       "<div>\n",
       "<style scoped>\n",
       "    .dataframe tbody tr th:only-of-type {\n",
       "        vertical-align: middle;\n",
       "    }\n",
       "\n",
       "    .dataframe tbody tr th {\n",
       "        vertical-align: top;\n",
       "    }\n",
       "\n",
       "    .dataframe thead th {\n",
       "        text-align: right;\n",
       "    }\n",
       "</style>\n",
       "<table border=\"1\" class=\"dataframe\">\n",
       "  <thead>\n",
       "    <tr style=\"text-align: right;\">\n",
       "      <th></th>\n",
       "      <th>region</th>\n",
       "      <th>months</th>\n",
       "      <th>avg_completeness</th>\n",
       "      <th>pop_low_completeness</th>\n",
       "      <th>pop_high_completeness</th>\n",
       "      <th>morans</th>\n",
       "      <th>gini</th>\n",
       "    </tr>\n",
       "  </thead>\n",
       "  <tbody>\n",
       "    <tr>\n",
       "      <th>0</th>\n",
       "      <td>East Asia &amp; Pacific</td>\n",
       "      <td>[2008-01-01, 2009-01-01, 2010-01-01, 2011-01-0...</td>\n",
       "      <td>[1.9694361811543303e-05, 0.0001942511132528065...</td>\n",
       "      <td>[1.0, 1.0, 1.0, 0.9999353426256288, 0.99541346...</td>\n",
       "      <td>[0.0, 0.0, 0.0, 0.0, 0.0, 8.666049786105551e-0...</td>\n",
       "      <td>[0.02865981902532822, 0.042327322809579314, 0....</td>\n",
       "      <td>[0.966440769337867, 0.9244522606160571, 0.9064...</td>\n",
       "    </tr>\n",
       "    <tr>\n",
       "      <th>1</th>\n",
       "      <td>Europe &amp; Central Asia</td>\n",
       "      <td>[2008-01-01, 2009-01-01, 2010-01-01, 2011-01-0...</td>\n",
       "      <td>[0.0009213781424904145, 0.013263015649545181, ...</td>\n",
       "      <td>[1.0, 0.9860139642351973, 0.8684349649329557, ...</td>\n",
       "      <td>[0.0, 0.0025032104361476593, 0.006247882258259...</td>\n",
       "      <td>[0.10117903035759326, 0.084015426563279, 0.214...</td>\n",
       "      <td>[0.8982027847774807, 0.8251734761969722, 0.780...</td>\n",
       "    </tr>\n",
       "    <tr>\n",
       "      <th>2</th>\n",
       "      <td>Latin America &amp; Caribbean</td>\n",
       "      <td>[2008-01-01, 2009-01-01, 2010-01-01, 2011-01-0...</td>\n",
       "      <td>[3.343413940939291e-06, 9.017563172502203e-05,...</td>\n",
       "      <td>[1.0, 1.0, 1.0, 0.9966297071800824, 0.99144867...</td>\n",
       "      <td>[0.0, 0.0, 0.0, 0.0, 0.0, 0.0, 0.0001819309178...</td>\n",
       "      <td>[-0.0009309929968889493, -0.005593111689079903...</td>\n",
       "      <td>[0.9742205247405482, 0.8777958249296828, 0.797...</td>\n",
       "    </tr>\n",
       "    <tr>\n",
       "      <th>3</th>\n",
       "      <td>Middle East &amp; North Africa</td>\n",
       "      <td>[2008-01-01, 2009-01-01, 2010-01-01, 2011-01-0...</td>\n",
       "      <td>[8.556386595169945e-06, 0.00024993828638862284...</td>\n",
       "      <td>[1.0, 1.0, 1.0, 0.9997929498205909, 0.99848439...</td>\n",
       "      <td>[0.0, 0.0, 0.0, 0.0, 0.0, 0.0, 0.0004789471291...</td>\n",
       "      <td>[-0.00015696101816057065, 0.05673521936223217,...</td>\n",
       "      <td>[0.9433086421655241, 0.9180080674607398, 0.851...</td>\n",
       "    </tr>\n",
       "    <tr>\n",
       "      <th>4</th>\n",
       "      <td>North America</td>\n",
       "      <td>[2008-01-01, 2009-01-01, 2010-01-01, 2011-01-0...</td>\n",
       "      <td>[0.000334832420252607, 0.003954016996779672, 0...</td>\n",
       "      <td>[1.0, 1.0, 0.9869198685245462, 0.9051769617770...</td>\n",
       "      <td>[0.0, 0.0, 0.0, 0.0021480378218865733, 0.00214...</td>\n",
       "      <td>[0.08903471029933355, 0.07185859192882238, 0.1...</td>\n",
       "      <td>[0.9584086126854428, 0.724654751592134, 0.7405...</td>\n",
       "    </tr>\n",
       "    <tr>\n",
       "      <th>5</th>\n",
       "      <td>South Asia</td>\n",
       "      <td>[2008-01-01, 2009-01-01, 2010-01-01, 2011-01-0...</td>\n",
       "      <td>[6.837200479282085e-05, 8.544428177481021e-05,...</td>\n",
       "      <td>[1.0, 1.0, 1.0, 1.0, 0.9991065419785996, 0.998...</td>\n",
       "      <td>[0.0, 0.0, 0.0, 0.0, 0.0, 0.0, 0.0, 0.0, 0.0, ...</td>\n",
       "      <td>[0.00018588048755383517, 0.0003379371053987339...</td>\n",
       "      <td>[0.9999045103937354, 0.9344727847676942, 0.885...</td>\n",
       "    </tr>\n",
       "    <tr>\n",
       "      <th>6</th>\n",
       "      <td>Sub-Saharan Africa</td>\n",
       "      <td>[2008-01-01, 2009-01-01, 2010-01-01, 2011-01-0...</td>\n",
       "      <td>[2.4506194804758693e-06, 2.316923432885294e-05...</td>\n",
       "      <td>[1.0, 1.0, 1.0, 1.0, 0.9983907094662199, 0.981...</td>\n",
       "      <td>[0.0, 0.0, 0.0, 0.0, 0.0, 0.000128162933020270...</td>\n",
       "      <td>[-0.0012551035106919363, 0.0008628787241143927...</td>\n",
       "      <td>[0.9804669444998946, 0.9043287666564832, 0.886...</td>\n",
       "    </tr>\n",
       "    <tr>\n",
       "      <th>7</th>\n",
       "      <td>all</td>\n",
       "      <td>[2008-01-01, 2009-01-01, 2010-01-01, 2011-01-0...</td>\n",
       "      <td>[0.00015366642743985887, 0.0019693601862075865...</td>\n",
       "      <td>[1.0, 0.998527363653567, 0.9855984192519449, 0...</td>\n",
       "      <td>[0.0, 0.00026357137455050524, 0.00065786035846...</td>\n",
       "      <td>[0.06240354678833991, 0.11803872285924395, 0.2...</td>\n",
       "      <td>[0.9737838481384851, 0.9376554724179601, 0.922...</td>\n",
       "    </tr>\n",
       "  </tbody>\n",
       "</table>\n",
       "</div>"
      ],
      "text/plain": [
       "                       region  \\\n",
       "0         East Asia & Pacific   \n",
       "1       Europe & Central Asia   \n",
       "2   Latin America & Caribbean   \n",
       "3  Middle East & North Africa   \n",
       "4               North America   \n",
       "5                  South Asia   \n",
       "6          Sub-Saharan Africa   \n",
       "7                         all   \n",
       "\n",
       "                                              months  \\\n",
       "0  [2008-01-01, 2009-01-01, 2010-01-01, 2011-01-0...   \n",
       "1  [2008-01-01, 2009-01-01, 2010-01-01, 2011-01-0...   \n",
       "2  [2008-01-01, 2009-01-01, 2010-01-01, 2011-01-0...   \n",
       "3  [2008-01-01, 2009-01-01, 2010-01-01, 2011-01-0...   \n",
       "4  [2008-01-01, 2009-01-01, 2010-01-01, 2011-01-0...   \n",
       "5  [2008-01-01, 2009-01-01, 2010-01-01, 2011-01-0...   \n",
       "6  [2008-01-01, 2009-01-01, 2010-01-01, 2011-01-0...   \n",
       "7  [2008-01-01, 2009-01-01, 2010-01-01, 2011-01-0...   \n",
       "\n",
       "                                    avg_completeness  \\\n",
       "0  [1.9694361811543303e-05, 0.0001942511132528065...   \n",
       "1  [0.0009213781424904145, 0.013263015649545181, ...   \n",
       "2  [3.343413940939291e-06, 9.017563172502203e-05,...   \n",
       "3  [8.556386595169945e-06, 0.00024993828638862284...   \n",
       "4  [0.000334832420252607, 0.003954016996779672, 0...   \n",
       "5  [6.837200479282085e-05, 8.544428177481021e-05,...   \n",
       "6  [2.4506194804758693e-06, 2.316923432885294e-05...   \n",
       "7  [0.00015366642743985887, 0.0019693601862075865...   \n",
       "\n",
       "                                pop_low_completeness  \\\n",
       "0  [1.0, 1.0, 1.0, 0.9999353426256288, 0.99541346...   \n",
       "1  [1.0, 0.9860139642351973, 0.8684349649329557, ...   \n",
       "2  [1.0, 1.0, 1.0, 0.9966297071800824, 0.99144867...   \n",
       "3  [1.0, 1.0, 1.0, 0.9997929498205909, 0.99848439...   \n",
       "4  [1.0, 1.0, 0.9869198685245462, 0.9051769617770...   \n",
       "5  [1.0, 1.0, 1.0, 1.0, 0.9991065419785996, 0.998...   \n",
       "6  [1.0, 1.0, 1.0, 1.0, 0.9983907094662199, 0.981...   \n",
       "7  [1.0, 0.998527363653567, 0.9855984192519449, 0...   \n",
       "\n",
       "                               pop_high_completeness  \\\n",
       "0  [0.0, 0.0, 0.0, 0.0, 0.0, 8.666049786105551e-0...   \n",
       "1  [0.0, 0.0025032104361476593, 0.006247882258259...   \n",
       "2  [0.0, 0.0, 0.0, 0.0, 0.0, 0.0, 0.0001819309178...   \n",
       "3  [0.0, 0.0, 0.0, 0.0, 0.0, 0.0, 0.0004789471291...   \n",
       "4  [0.0, 0.0, 0.0, 0.0021480378218865733, 0.00214...   \n",
       "5  [0.0, 0.0, 0.0, 0.0, 0.0, 0.0, 0.0, 0.0, 0.0, ...   \n",
       "6  [0.0, 0.0, 0.0, 0.0, 0.0, 0.000128162933020270...   \n",
       "7  [0.0, 0.00026357137455050524, 0.00065786035846...   \n",
       "\n",
       "                                              morans  \\\n",
       "0  [0.02865981902532822, 0.042327322809579314, 0....   \n",
       "1  [0.10117903035759326, 0.084015426563279, 0.214...   \n",
       "2  [-0.0009309929968889493, -0.005593111689079903...   \n",
       "3  [-0.00015696101816057065, 0.05673521936223217,...   \n",
       "4  [0.08903471029933355, 0.07185859192882238, 0.1...   \n",
       "5  [0.00018588048755383517, 0.0003379371053987339...   \n",
       "6  [-0.0012551035106919363, 0.0008628787241143927...   \n",
       "7  [0.06240354678833991, 0.11803872285924395, 0.2...   \n",
       "\n",
       "                                                gini  \n",
       "0  [0.966440769337867, 0.9244522606160571, 0.9064...  \n",
       "1  [0.8982027847774807, 0.8251734761969722, 0.780...  \n",
       "2  [0.9742205247405482, 0.8777958249296828, 0.797...  \n",
       "3  [0.9433086421655241, 0.9180080674607398, 0.851...  \n",
       "4  [0.9584086126854428, 0.724654751592134, 0.7405...  \n",
       "5  [0.9999045103937354, 0.9344727847676942, 0.885...  \n",
       "6  [0.9804669444998946, 0.9043287666564832, 0.886...  \n",
       "7  [0.9737838481384851, 0.9376554724179601, 0.922...  "
      ]
     },
     "metadata": {},
     "output_type": "display_data"
    },
    {
     "data": {
      "text/plain": [
       "array([list([np.float64(0.06240354678833991), np.float64(0.11803872285924395), np.float64(0.29321568645412643), np.float64(0.5094508552295408), np.float64(0.6400306676165602), np.float64(0.7024054020149004), np.float64(0.7129968977119521), np.float64(0.703858708310704), np.float64(0.6908243018547316), np.float64(0.6595612810104411), np.float64(0.6236617863226528), np.float64(0.5945185451878323), np.float64(0.6024965586379626), np.float64(0.5953010338766234), np.float64(0.5905885257971435), np.float64(0.5756818757231393), np.float64(0.5732766701314629), np.float64(0.5714823466977189)])],\n",
       "      dtype=object)"
      ]
     },
     "metadata": {},
     "output_type": "display_data"
    }
   ],
   "source": [
    "with open(outfile, 'rb') as f:\n",
    "    stats_new = pickle.load(f)\n",
    "\n",
    "columns = [\n",
    "    \"region\",\n",
    "    \"months\",\n",
    "    \"avg_completeness\",\n",
    "    \"pop_low_completeness\",\n",
    "    \"pop_high_completeness\",\n",
    "    \"morans\",\n",
    "    \"gini\"\n",
    "]    \n",
    "    \n",
    "stats_df = pd.DataFrame(\n",
    "    stats_new,\n",
    "    columns=columns\n",
    ")\n",
    "display(stats_df)\n",
    "\n",
    "display(\n",
    "    stats_df.loc[stats_df[\"region\"] == 'all'][\"morans\"].values\n",
    ")"
   ]
  },
  {
   "cell_type": "code",
   "execution_count": 7,
   "id": "ee735884",
   "metadata": {},
   "outputs": [
    {
     "name": "stderr",
     "output_type": "stream",
     "text": [
      "/tmp/ipykernel_18691/3529118833.py:19: MatplotlibDeprecationWarning: The get_cmap function was deprecated in Matplotlib 3.7 and will be removed in 3.11. Use ``matplotlib.colormaps[name]`` or ``matplotlib.colormaps.get_cmap()`` or ``pyplot.get_cmap()`` instead.\n",
      "  cmap = matplotlib.cm.get_cmap('tab10')\n"
     ]
    },
    {
     "data": {
      "image/png": "[encoded data removed]",
      "text/plain": [
       "<Figure size 1250x600 with 2 Axes>"
      ]
     },
     "metadata": {},
     "output_type": "display_data"
    }
   ],
   "source": [
    "fontsize = 6\n",
    "\n",
    "#fig, axs = plt.subplots(1, 2, figsize=(12.5, 6)) # using this approach, as has been in the original notebook, leads to doubled x-axis labels, the ones specified and additional from 0 to 1 \n",
    "fig = plt.figure(figsize=(12.5, 6))\n",
    "gs1 = gridspec.GridSpec(1, 2, fig)\n",
    "gs1.update(wspace=0.2, hspace=0.2) # set the spacing between axes.\n",
    "\n",
    "max_y_values = {\n",
    "    \"gini\": [],\n",
    "    \"morans\": []\n",
    "}\n",
    "\n",
    "columns = [\n",
    "    \"gini\",\n",
    "    \"morans\"\n",
    "]\n",
    "\n",
    "\n",
    "cmap = matplotlib.cm.get_cmap('tab10')\n",
    "colors_dict = {\n",
    "    \"East Asia & Pacific\": cmap(0),\n",
    "    \"Europe & Central Asia\": cmap(0.125),\n",
    "    \"Latin America & Caribbean\": cmap(0.25),\n",
    "    \"Middle East & North Africa\": cmap(0.375),\n",
    "    \"North America\": cmap(0.5),\n",
    "    \"South Asia\": cmap(0.625),\n",
    "    \"Sub-Saharan Africa\": cmap(0.75),\n",
    "    \"all\": \"black\",\n",
    "}\n",
    "\n",
    "linestyles_dict = {\n",
    "    \"East Asia & Pacific\": ('dotted', (0, (1, 1))),\n",
    "    \"Europe & Central Asia\": ('densely dashed', (0, (5, 1))),\n",
    "    \"Latin America & Caribbean\": ('densely dashed', (0, (5, 1))),\n",
    "    \"Middle East & North Africa\": ('solid', (0, ())),\n",
    "    \"North America\": ('dotted', (0, (1, 1))),\n",
    "    \"South Asia\": ('solid',(0, ())),\n",
    "    \"Sub-Saharan Africa\": ('densely dashed', (0, (5, 1))),\n",
    "    \"all\":  ('solid', (0, ())),\n",
    "}\n",
    "    \n",
    "\n",
    "label_strings_new = {\n",
    "    \"gini\": [\n",
    "        \"all\",\n",
    "        \"South Asia\",\n",
    "        \"Sub-Saharan Africa\",\n",
    "        \"East Asia & Pacific\",\n",
    "        \"Europe & Central Asia\",\n",
    "        \"Latin America & Caribbean\",\n",
    "        \"Middle East & North Africa\",\n",
    "        \"North America\",\n",
    "    ],\n",
    "    \"morans\": [\n",
    "        \"Europe & Central Asia\",\n",
    "        \"all\",\n",
    "        \"East Asia & Pacific\",\n",
    "        \"Latin America & Caribbean\",\n",
    "        \"Sub-Saharan Africa\",\n",
    "        \"North America\",\n",
    "        \"Middle East & North Africa\",\n",
    "        \"South Asia\",\n",
    "    ]\n",
    "}\n",
    "\n",
    "for j, column in enumerate(columns):\n",
    "    ax = plt.subplot(gs1[j])\n",
    "    \n",
    "    for i, region in enumerate(label_strings_new[column]):\n",
    "        region_df = stats_df.loc[stats_df[\"region\"] == region]\n",
    "\n",
    "        max_y_values[column].append(\n",
    "            region_df[column].to_list()[0][-1]\n",
    "        )\n",
    "\n",
    "        ax.plot(\n",
    "            region_df[\"months\"].to_list()[0],\n",
    "            region_df[column].to_list()[0],\n",
    "            label=region,\n",
    "            color=colors_dict[region],\n",
    "            linestyle=linestyles_dict[region][1]\n",
    "        )\n",
    "\n",
    "        if region == 'all' and column == 'gini':\n",
    "            label_position = max_y_values[column][i] + 0.005\n",
    "        elif region == 'Sub-Saharan Africa' and column == 'morans':\n",
    "            label_position = max_y_values[column][i] + 0.0075\n",
    "        else:\n",
    "            label_position = max_y_values[column][i]\n",
    "\n",
    "        ax.annotate(\n",
    "            region,\n",
    "            (datetime.date(2024, 6, 1), label_position - 0.005),\n",
    "            fontsize=fontsize,\n",
    "            color=colors_dict[region]\n",
    "        )\n",
    "    \n",
    "ax = plt.subplot(gs1[0])\n",
    "ax1 = plt.subplot(gs1[1])  \n",
    "\n",
    "ax.set_title(\"(a) Evenness\")\n",
    "ax.set_ylabel(\"Gini Coefficient\")\n",
    "ax.set_xlim([datetime.date(2008, 1, 1), datetime.date(2029, 1, 1)])\n",
    "ax.set_ylim([0.5,1.0])\n",
    "ax.set_xticks([\n",
    "    datetime.date(2010, 1, 1),\n",
    "    datetime.date(2015, 1, 1),\n",
    "    datetime.date(2020, 1, 1),\n",
    "    datetime.date(2025, 1, 1),\n",
    "])\n",
    "ax.set_xticklabels([\"2010\", \"2015\", \"2020\", \"2025\"])\n",
    "ax.grid()\n",
    "\n",
    "ax1.set_title(\"(b) Clustering\")\n",
    "ax1.set_ylabel(\"Moran's I\")\n",
    "ax1.set_xlim([datetime.date(2008, 1, 1), datetime.date(2029, 1, 1)])\n",
    "ax1.grid()\n",
    "ax1.set_xticks([\n",
    "    datetime.date(2010, 1, 1),\n",
    "    datetime.date(2015, 1, 1),\n",
    "    datetime.date(2020, 1, 1),\n",
    "    datetime.date(2025, 1, 1),\n",
    "])\n",
    "ax1.set_xticklabels([\"2010\", \"2015\", \"2020\", \"2025\"])\n",
    "ax1.set_yticks([\n",
    "    0, 0.15, 0.30, 0.45, 0.6, 0.75\n",
    "])\n",
    "ax1.set_yticklabels([0, 0.15, 0.30, 0.45, 0.6, 0.75])\n",
    "ax1.set_ylim([0,0.75])\n",
    "\n",
    "\n",
    "plt.savefig(\n",
    "    f\"../data/figures/inequality/completeness_inequality_per_month_by_region_{model_name}_v2024.pdf\",\n",
    "    dpi=300,\n",
    "    bbox_inches = 'tight',\n",
    "    pad_inches = 0.25\n",
    ")\n",
    "\n",
    "plt.show()  "
   ]
  },
  {
   "cell_type": "markdown",
   "id": "0bc7971d",
   "metadata": {},
   "source": [
    "## Get Data for Europe & Central Asia and Sub-Saharan Africa"
   ]
  },
  {
   "cell_type": "code",
   "execution_count": 8,
   "id": "5136d8a2",
   "metadata": {},
   "outputs": [
    {
     "data": {
      "text/html": [
       "<div>\n",
       "<style scoped>\n",
       "    .dataframe tbody tr th:only-of-type {\n",
       "        vertical-align: middle;\n",
       "    }\n",
       "\n",
       "    .dataframe tbody tr th {\n",
       "        vertical-align: top;\n",
       "    }\n",
       "\n",
       "    .dataframe thead th {\n",
       "        text-align: right;\n",
       "    }\n",
       "</style>\n",
       "<table border=\"1\" class=\"dataframe\">\n",
       "  <thead>\n",
       "    <tr style=\"text-align: right;\">\n",
       "      <th></th>\n",
       "      <th>index</th>\n",
       "      <th>urban_center_id</th>\n",
       "      <th>ghs_pop_2023</th>\n",
       "      <th>prediction</th>\n",
       "      <th>prediction_osm_completeness</th>\n",
       "      <th>region_wb</th>\n",
       "      <th>geometry</th>\n",
       "      <th>osm_completeness</th>\n",
       "      <th>sum_osm_building_area_sqkm</th>\n",
       "      <th>2024_moran_loc</th>\n",
       "      <th>2024_moran_loc_q</th>\n",
       "      <th>2024_moran_loc_p_sim</th>\n",
       "      <th>2024_moran_global</th>\n",
       "    </tr>\n",
       "  </thead>\n",
       "  <tbody>\n",
       "    <tr>\n",
       "      <th>2</th>\n",
       "      <td>2</td>\n",
       "      <td>3</td>\n",
       "      <td>53721</td>\n",
       "      <td>1.831028</td>\n",
       "      <td>0.079047</td>\n",
       "      <td>North America</td>\n",
       "      <td>POINT (-158.01694 21.3244)</td>\n",
       "      <td>0.079047</td>\n",
       "      <td>0.144737</td>\n",
       "      <td>-0.220039</td>\n",
       "      <td>2</td>\n",
       "      <td>0.316</td>\n",
       "      <td>0.571482</td>\n",
       "    </tr>\n",
       "    <tr>\n",
       "      <th>4</th>\n",
       "      <td>4</td>\n",
       "      <td>5</td>\n",
       "      <td>76707</td>\n",
       "      <td>3.425973</td>\n",
       "      <td>0.172562</td>\n",
       "      <td>Latin America &amp; Caribbean</td>\n",
       "      <td>POINT (-117.05451 32.37649)</td>\n",
       "      <td>0.172562</td>\n",
       "      <td>0.591192</td>\n",
       "      <td>-0.247972</td>\n",
       "      <td>2</td>\n",
       "      <td>0.015</td>\n",
       "      <td>0.571482</td>\n",
       "    </tr>\n",
       "    <tr>\n",
       "      <th>5</th>\n",
       "      <td>5</td>\n",
       "      <td>6</td>\n",
       "      <td>250762</td>\n",
       "      <td>12.137755</td>\n",
       "      <td>0.776040</td>\n",
       "      <td>North America</td>\n",
       "      <td>POINT (-123.35334 48.44708)</td>\n",
       "      <td>0.776040</td>\n",
       "      <td>9.419380</td>\n",
       "      <td>2.569760</td>\n",
       "      <td>1</td>\n",
       "      <td>0.001</td>\n",
       "      <td>0.571482</td>\n",
       "    </tr>\n",
       "    <tr>\n",
       "      <th>6</th>\n",
       "      <td>6</td>\n",
       "      <td>7</td>\n",
       "      <td>62528</td>\n",
       "      <td>0.851833</td>\n",
       "      <td>0.009217</td>\n",
       "      <td>Latin America &amp; Caribbean</td>\n",
       "      <td>POINT (-92.05613 14.91044)</td>\n",
       "      <td>0.009217</td>\n",
       "      <td>0.007851</td>\n",
       "      <td>-0.174121</td>\n",
       "      <td>2</td>\n",
       "      <td>0.112</td>\n",
       "      <td>0.571482</td>\n",
       "    </tr>\n",
       "    <tr>\n",
       "      <th>7</th>\n",
       "      <td>7</td>\n",
       "      <td>8</td>\n",
       "      <td>83850</td>\n",
       "      <td>2.145722</td>\n",
       "      <td>0.160665</td>\n",
       "      <td>Latin America &amp; Caribbean</td>\n",
       "      <td>POINT (-89.84755 13.93222)</td>\n",
       "      <td>0.160665</td>\n",
       "      <td>0.344742</td>\n",
       "      <td>-0.029246</td>\n",
       "      <td>2</td>\n",
       "      <td>0.300</td>\n",
       "      <td>0.571482</td>\n",
       "    </tr>\n",
       "    <tr>\n",
       "      <th>...</th>\n",
       "      <td>...</td>\n",
       "      <td>...</td>\n",
       "      <td>...</td>\n",
       "      <td>...</td>\n",
       "      <td>...</td>\n",
       "      <td>...</td>\n",
       "      <td>...</td>\n",
       "      <td>...</td>\n",
       "      <td>...</td>\n",
       "      <td>...</td>\n",
       "      <td>...</td>\n",
       "      <td>...</td>\n",
       "      <td>...</td>\n",
       "    </tr>\n",
       "    <tr>\n",
       "      <th>11681</th>\n",
       "      <td>11681</td>\n",
       "      <td>11682</td>\n",
       "      <td>252067</td>\n",
       "      <td>7.137708</td>\n",
       "      <td>0.041780</td>\n",
       "      <td>East Asia &amp; Pacific</td>\n",
       "      <td>POINT (121.25594 28.11263)</td>\n",
       "      <td>0.041780</td>\n",
       "      <td>0.298212</td>\n",
       "      <td>0.415999</td>\n",
       "      <td>3</td>\n",
       "      <td>0.001</td>\n",
       "      <td>0.571482</td>\n",
       "    </tr>\n",
       "    <tr>\n",
       "      <th>11682</th>\n",
       "      <td>11682</td>\n",
       "      <td>11683</td>\n",
       "      <td>54242</td>\n",
       "      <td>1.916450</td>\n",
       "      <td>0.012559</td>\n",
       "      <td>East Asia &amp; Pacific</td>\n",
       "      <td>POINT (121.15191 27.83963)</td>\n",
       "      <td>0.012559</td>\n",
       "      <td>0.024069</td>\n",
       "      <td>0.460339</td>\n",
       "      <td>3</td>\n",
       "      <td>0.001</td>\n",
       "      <td>0.571482</td>\n",
       "    </tr>\n",
       "    <tr>\n",
       "      <th>11683</th>\n",
       "      <td>11683</td>\n",
       "      <td>11684</td>\n",
       "      <td>80162</td>\n",
       "      <td>3.137552</td>\n",
       "      <td>0.002044</td>\n",
       "      <td>East Asia &amp; Pacific</td>\n",
       "      <td>POINT (121.59331 28.34725)</td>\n",
       "      <td>0.002044</td>\n",
       "      <td>0.006413</td>\n",
       "      <td>0.482137</td>\n",
       "      <td>3</td>\n",
       "      <td>0.001</td>\n",
       "      <td>0.571482</td>\n",
       "    </tr>\n",
       "    <tr>\n",
       "      <th>11684</th>\n",
       "      <td>11684</td>\n",
       "      <td>11685</td>\n",
       "      <td>73418</td>\n",
       "      <td>2.516636</td>\n",
       "      <td>0.006967</td>\n",
       "      <td>East Asia &amp; Pacific</td>\n",
       "      <td>POINT (121.59557 28.27314)</td>\n",
       "      <td>0.006967</td>\n",
       "      <td>0.017533</td>\n",
       "      <td>0.474382</td>\n",
       "      <td>3</td>\n",
       "      <td>0.001</td>\n",
       "      <td>0.571482</td>\n",
       "    </tr>\n",
       "    <tr>\n",
       "      <th>11685</th>\n",
       "      <td>11685</td>\n",
       "      <td>11686</td>\n",
       "      <td>107086</td>\n",
       "      <td>2.837875</td>\n",
       "      <td>0.024360</td>\n",
       "      <td>East Asia &amp; Pacific</td>\n",
       "      <td>POINT (119.78981 25.50009)</td>\n",
       "      <td>0.024360</td>\n",
       "      <td>0.069131</td>\n",
       "      <td>0.436182</td>\n",
       "      <td>3</td>\n",
       "      <td>0.001</td>\n",
       "      <td>0.571482</td>\n",
       "    </tr>\n",
       "  </tbody>\n",
       "</table>\n",
       "<p>11667 rows × 13 columns</p>\n",
       "</div>"
      ],
      "text/plain": [
       "       index  urban_center_id  ghs_pop_2023  prediction  \\\n",
       "2          2                3         53721    1.831028   \n",
       "4          4                5         76707    3.425973   \n",
       "5          5                6        250762   12.137755   \n",
       "6          6                7         62528    0.851833   \n",
       "7          7                8         83850    2.145722   \n",
       "...      ...              ...           ...         ...   \n",
       "11681  11681            11682        252067    7.137708   \n",
       "11682  11682            11683         54242    1.916450   \n",
       "11683  11683            11684         80162    3.137552   \n",
       "11684  11684            11685         73418    2.516636   \n",
       "11685  11685            11686        107086    2.837875   \n",
       "\n",
       "       prediction_osm_completeness                  region_wb  \\\n",
       "2                         0.079047              North America   \n",
       "4                         0.172562  Latin America & Caribbean   \n",
       "5                         0.776040              North America   \n",
       "6                         0.009217  Latin America & Caribbean   \n",
       "7                         0.160665  Latin America & Caribbean   \n",
       "...                            ...                        ...   \n",
       "11681                     0.041780        East Asia & Pacific   \n",
       "11682                     0.012559        East Asia & Pacific   \n",
       "11683                     0.002044        East Asia & Pacific   \n",
       "11684                     0.006967        East Asia & Pacific   \n",
       "11685                     0.024360        East Asia & Pacific   \n",
       "\n",
       "                          geometry  osm_completeness  \\\n",
       "2       POINT (-158.01694 21.3244)          0.079047   \n",
       "4      POINT (-117.05451 32.37649)          0.172562   \n",
       "5      POINT (-123.35334 48.44708)          0.776040   \n",
       "6       POINT (-92.05613 14.91044)          0.009217   \n",
       "7       POINT (-89.84755 13.93222)          0.160665   \n",
       "...                            ...               ...   \n",
       "11681   POINT (121.25594 28.11263)          0.041780   \n",
       "11682   POINT (121.15191 27.83963)          0.012559   \n",
       "11683   POINT (121.59331 28.34725)          0.002044   \n",
       "11684   POINT (121.59557 28.27314)          0.006967   \n",
       "11685   POINT (119.78981 25.50009)          0.024360   \n",
       "\n",
       "       sum_osm_building_area_sqkm  2024_moran_loc  2024_moran_loc_q  \\\n",
       "2                        0.144737       -0.220039                 2   \n",
       "4                        0.591192       -0.247972                 2   \n",
       "5                        9.419380        2.569760                 1   \n",
       "6                        0.007851       -0.174121                 2   \n",
       "7                        0.344742       -0.029246                 2   \n",
       "...                           ...             ...               ...   \n",
       "11681                    0.298212        0.415999                 3   \n",
       "11682                    0.024069        0.460339                 3   \n",
       "11683                    0.006413        0.482137                 3   \n",
       "11684                    0.017533        0.474382                 3   \n",
       "11685                    0.069131        0.436182                 3   \n",
       "\n",
       "       2024_moran_loc_p_sim  2024_moran_global  \n",
       "2                     0.316           0.571482  \n",
       "4                     0.015           0.571482  \n",
       "5                     0.001           0.571482  \n",
       "6                     0.112           0.571482  \n",
       "7                     0.300           0.571482  \n",
       "...                     ...                ...  \n",
       "11681                 0.001           0.571482  \n",
       "11682                 0.001           0.571482  \n",
       "11683                 0.001           0.571482  \n",
       "11684                 0.001           0.571482  \n",
       "11685                 0.001           0.571482  \n",
       "\n",
       "[11667 rows x 13 columns]"
      ]
     },
     "metadata": {},
     "output_type": "display_data"
    }
   ],
   "source": [
    "display(df)"
   ]
  },
  {
   "cell_type": "code",
   "execution_count": 9,
   "id": "5982dbd2",
   "metadata": {},
   "outputs": [
    {
     "name": "stdout",
     "output_type": "stream",
     "text": [
      "1523\n",
      "1523\n",
      "got 1523 samples\n"
     ]
    },
    {
     "name": "stderr",
     "output_type": "stream",
     "text": [
      "/home/briochamsley/.cache/pypoetry/virtualenvs/oqapi-analysis-QKiHp62D-py3.12/lib/python3.12/site-packages/libpysal/weights/util.py:826: UserWarning: The weights matrix is not fully connected: \n",
      " There are 20 disconnected components.\n",
      " There are 13 islands with ids: 0, 1, 4, 50, 84, 302, 1405, 1510, 1511, 1512, 1513, 1521, 1522.\n",
      "  w = W(neighbors, weights, ids, **kwargs)\n",
      "/home/briochamsley/.cache/pypoetry/virtualenvs/oqapi-analysis-QKiHp62D-py3.12/lib/python3.12/site-packages/libpysal/weights/distance.py:844: UserWarning: The weights matrix is not fully connected: \n",
      " There are 20 disconnected components.\n",
      " There are 13 islands with ids: 0, 1, 4, 50, 84, 302, 1405, 1510, 1511, 1512, 1513, 1521, 1522.\n",
      "  W.__init__(\n"
     ]
    },
    {
     "name": "stdout",
     "output_type": "stream",
     "text": [
      "('WARNING: ', 0, ' is an island (no neighbors)')\n",
      "('WARNING: ', 1, ' is an island (no neighbors)')\n",
      "('WARNING: ', 4, ' is an island (no neighbors)')\n",
      "('WARNING: ', 50, ' is an island (no neighbors)')\n",
      "('WARNING: ', 84, ' is an island (no neighbors)')\n",
      "('WARNING: ', 302, ' is an island (no neighbors)')\n",
      "('WARNING: ', 1405, ' is an island (no neighbors)')\n",
      "('WARNING: ', 1510, ' is an island (no neighbors)')\n",
      "('WARNING: ', 1511, ' is an island (no neighbors)')\n",
      "('WARNING: ', 1512, ' is an island (no neighbors)')\n",
      "('WARNING: ', 1513, ' is an island (no neighbors)')\n",
      "('WARNING: ', 1521, ' is an island (no neighbors)')\n",
      "('WARNING: ', 1522, ' is an island (no neighbors)')\n"
     ]
    },
    {
     "name": "stderr",
     "output_type": "stream",
     "text": [
      "/home/briochamsley/.cache/pypoetry/virtualenvs/oqapi-analysis-QKiHp62D-py3.12/lib/python3.12/site-packages/libpysal/weights/util.py:826: UserWarning: The weights matrix is not fully connected: \n",
      " There are 7 disconnected components.\n",
      "  w = W(neighbors, weights, ids, **kwargs)\n",
      "/home/briochamsley/.cache/pypoetry/virtualenvs/oqapi-analysis-QKiHp62D-py3.12/lib/python3.12/site-packages/libpysal/weights/distance.py:844: UserWarning: The weights matrix is not fully connected: \n",
      " There are 7 disconnected components.\n",
      "  W.__init__(\n"
     ]
    },
    {
     "name": "stdout",
     "output_type": "stream",
     "text": [
      "['Europe & Central Asia'] 2010-01-01 0.7805083973239206 0.21465167701054247\n",
      "1523\n",
      "1523\n",
      "got 1523 samples\n"
     ]
    },
    {
     "name": "stderr",
     "output_type": "stream",
     "text": [
      "/home/briochamsley/.cache/pypoetry/virtualenvs/oqapi-analysis-QKiHp62D-py3.12/lib/python3.12/site-packages/libpysal/weights/util.py:826: UserWarning: The weights matrix is not fully connected: \n",
      " There are 20 disconnected components.\n",
      " There are 13 islands with ids: 0, 1, 4, 50, 84, 302, 1405, 1510, 1511, 1512, 1513, 1521, 1522.\n",
      "  w = W(neighbors, weights, ids, **kwargs)\n",
      "/home/briochamsley/.cache/pypoetry/virtualenvs/oqapi-analysis-QKiHp62D-py3.12/lib/python3.12/site-packages/libpysal/weights/distance.py:844: UserWarning: The weights matrix is not fully connected: \n",
      " There are 20 disconnected components.\n",
      " There are 13 islands with ids: 0, 1, 4, 50, 84, 302, 1405, 1510, 1511, 1512, 1513, 1521, 1522.\n",
      "  W.__init__(\n"
     ]
    },
    {
     "name": "stdout",
     "output_type": "stream",
     "text": [
      "('WARNING: ', 0, ' is an island (no neighbors)')\n",
      "('WARNING: ', 1, ' is an island (no neighbors)')\n",
      "('WARNING: ', 4, ' is an island (no neighbors)')\n",
      "('WARNING: ', 50, ' is an island (no neighbors)')\n",
      "('WARNING: ', 84, ' is an island (no neighbors)')\n",
      "('WARNING: ', 302, ' is an island (no neighbors)')\n",
      "('WARNING: ', 1405, ' is an island (no neighbors)')\n",
      "('WARNING: ', 1510, ' is an island (no neighbors)')\n",
      "('WARNING: ', 1511, ' is an island (no neighbors)')\n",
      "('WARNING: ', 1512, ' is an island (no neighbors)')\n",
      "('WARNING: ', 1513, ' is an island (no neighbors)')\n",
      "('WARNING: ', 1521, ' is an island (no neighbors)')\n",
      "('WARNING: ', 1522, ' is an island (no neighbors)')\n"
     ]
    },
    {
     "name": "stderr",
     "output_type": "stream",
     "text": [
      "/home/briochamsley/.cache/pypoetry/virtualenvs/oqapi-analysis-QKiHp62D-py3.12/lib/python3.12/site-packages/libpysal/weights/util.py:826: UserWarning: The weights matrix is not fully connected: \n",
      " There are 7 disconnected components.\n",
      "  w = W(neighbors, weights, ids, **kwargs)\n",
      "/home/briochamsley/.cache/pypoetry/virtualenvs/oqapi-analysis-QKiHp62D-py3.12/lib/python3.12/site-packages/libpysal/weights/distance.py:844: UserWarning: The weights matrix is not fully connected: \n",
      " There are 7 disconnected components.\n",
      "  W.__init__(\n"
     ]
    },
    {
     "name": "stdout",
     "output_type": "stream",
     "text": [
      "['Europe & Central Asia'] 2014-01-01 0.7521989594122921 0.5923393307997448\n",
      "1523\n",
      "1523\n",
      "got 1523 samples\n"
     ]
    },
    {
     "name": "stderr",
     "output_type": "stream",
     "text": [
      "/home/briochamsley/.cache/pypoetry/virtualenvs/oqapi-analysis-QKiHp62D-py3.12/lib/python3.12/site-packages/libpysal/weights/util.py:826: UserWarning: The weights matrix is not fully connected: \n",
      " There are 20 disconnected components.\n",
      " There are 13 islands with ids: 0, 1, 4, 50, 84, 302, 1405, 1510, 1511, 1512, 1513, 1521, 1522.\n",
      "  w = W(neighbors, weights, ids, **kwargs)\n",
      "/home/briochamsley/.cache/pypoetry/virtualenvs/oqapi-analysis-QKiHp62D-py3.12/lib/python3.12/site-packages/libpysal/weights/distance.py:844: UserWarning: The weights matrix is not fully connected: \n",
      " There are 20 disconnected components.\n",
      " There are 13 islands with ids: 0, 1, 4, 50, 84, 302, 1405, 1510, 1511, 1512, 1513, 1521, 1522.\n",
      "  W.__init__(\n"
     ]
    },
    {
     "name": "stdout",
     "output_type": "stream",
     "text": [
      "('WARNING: ', 0, ' is an island (no neighbors)')\n",
      "('WARNING: ', 1, ' is an island (no neighbors)')\n",
      "('WARNING: ', 4, ' is an island (no neighbors)')\n",
      "('WARNING: ', 50, ' is an island (no neighbors)')\n",
      "('WARNING: ', 84, ' is an island (no neighbors)')\n",
      "('WARNING: ', 302, ' is an island (no neighbors)')\n",
      "('WARNING: ', 1405, ' is an island (no neighbors)')\n",
      "('WARNING: ', 1510, ' is an island (no neighbors)')\n",
      "('WARNING: ', 1511, ' is an island (no neighbors)')\n",
      "('WARNING: ', 1512, ' is an island (no neighbors)')\n",
      "('WARNING: ', 1513, ' is an island (no neighbors)')\n",
      "('WARNING: ', 1521, ' is an island (no neighbors)')\n",
      "('WARNING: ', 1522, ' is an island (no neighbors)')\n"
     ]
    },
    {
     "name": "stderr",
     "output_type": "stream",
     "text": [
      "/home/briochamsley/.cache/pypoetry/virtualenvs/oqapi-analysis-QKiHp62D-py3.12/lib/python3.12/site-packages/libpysal/weights/util.py:826: UserWarning: The weights matrix is not fully connected: \n",
      " There are 7 disconnected components.\n",
      "  w = W(neighbors, weights, ids, **kwargs)\n",
      "/home/briochamsley/.cache/pypoetry/virtualenvs/oqapi-analysis-QKiHp62D-py3.12/lib/python3.12/site-packages/libpysal/weights/distance.py:844: UserWarning: The weights matrix is not fully connected: \n",
      " There are 7 disconnected components.\n",
      "  W.__init__(\n"
     ]
    },
    {
     "name": "stdout",
     "output_type": "stream",
     "text": [
      "['Europe & Central Asia'] 2024-05-01 0.7044239781319104 0.6179811954263539\n",
      "1832\n",
      "1832\n",
      "got 1832 samples\n"
     ]
    },
    {
     "name": "stderr",
     "output_type": "stream",
     "text": [
      "/home/briochamsley/.cache/pypoetry/virtualenvs/oqapi-analysis-QKiHp62D-py3.12/lib/python3.12/site-packages/libpysal/weights/util.py:826: UserWarning: The weights matrix is not fully connected: \n",
      " There are 4 disconnected components.\n",
      " There is 1 island with id: 46.\n",
      "  w = W(neighbors, weights, ids, **kwargs)\n",
      "/home/briochamsley/.cache/pypoetry/virtualenvs/oqapi-analysis-QKiHp62D-py3.12/lib/python3.12/site-packages/libpysal/weights/distance.py:844: UserWarning: The weights matrix is not fully connected: \n",
      " There are 4 disconnected components.\n",
      " There is 1 island with id: 46.\n",
      "  W.__init__(\n"
     ]
    },
    {
     "name": "stdout",
     "output_type": "stream",
     "text": [
      "('WARNING: ', 46, ' is an island (no neighbors)')\n"
     ]
    },
    {
     "name": "stderr",
     "output_type": "stream",
     "text": [
      "/home/briochamsley/.cache/pypoetry/virtualenvs/oqapi-analysis-QKiHp62D-py3.12/lib/python3.12/site-packages/libpysal/weights/util.py:826: UserWarning: The weights matrix is not fully connected: \n",
      " There are 3 disconnected components.\n",
      "  w = W(neighbors, weights, ids, **kwargs)\n",
      "/home/briochamsley/.cache/pypoetry/virtualenvs/oqapi-analysis-QKiHp62D-py3.12/lib/python3.12/site-packages/libpysal/weights/distance.py:844: UserWarning: The weights matrix is not fully connected: \n",
      " There are 3 disconnected components.\n",
      "  W.__init__(\n"
     ]
    },
    {
     "name": "stdout",
     "output_type": "stream",
     "text": [
      "['Sub-Saharan Africa'] 2010-01-01 0.8860920811760364 0.016500433497158257\n",
      "1832\n",
      "1832\n",
      "got 1832 samples\n"
     ]
    },
    {
     "name": "stderr",
     "output_type": "stream",
     "text": [
      "/home/briochamsley/.cache/pypoetry/virtualenvs/oqapi-analysis-QKiHp62D-py3.12/lib/python3.12/site-packages/libpysal/weights/util.py:826: UserWarning: The weights matrix is not fully connected: \n",
      " There are 4 disconnected components.\n",
      " There is 1 island with id: 46.\n",
      "  w = W(neighbors, weights, ids, **kwargs)\n",
      "/home/briochamsley/.cache/pypoetry/virtualenvs/oqapi-analysis-QKiHp62D-py3.12/lib/python3.12/site-packages/libpysal/weights/distance.py:844: UserWarning: The weights matrix is not fully connected: \n",
      " There are 4 disconnected components.\n",
      " There is 1 island with id: 46.\n",
      "  W.__init__(\n"
     ]
    },
    {
     "name": "stdout",
     "output_type": "stream",
     "text": [
      "('WARNING: ', 46, ' is an island (no neighbors)')\n"
     ]
    },
    {
     "name": "stderr",
     "output_type": "stream",
     "text": [
      "/home/briochamsley/.cache/pypoetry/virtualenvs/oqapi-analysis-QKiHp62D-py3.12/lib/python3.12/site-packages/libpysal/weights/util.py:826: UserWarning: The weights matrix is not fully connected: \n",
      " There are 3 disconnected components.\n",
      "  w = W(neighbors, weights, ids, **kwargs)\n",
      "/home/briochamsley/.cache/pypoetry/virtualenvs/oqapi-analysis-QKiHp62D-py3.12/lib/python3.12/site-packages/libpysal/weights/distance.py:844: UserWarning: The weights matrix is not fully connected: \n",
      " There are 3 disconnected components.\n",
      "  W.__init__(\n"
     ]
    },
    {
     "name": "stdout",
     "output_type": "stream",
     "text": [
      "['Sub-Saharan Africa'] 2014-01-01 0.8173914791558399 0.09312583347707493\n",
      "1832\n",
      "1832\n",
      "got 1832 samples\n"
     ]
    },
    {
     "name": "stderr",
     "output_type": "stream",
     "text": [
      "/home/briochamsley/.cache/pypoetry/virtualenvs/oqapi-analysis-QKiHp62D-py3.12/lib/python3.12/site-packages/libpysal/weights/util.py:826: UserWarning: The weights matrix is not fully connected: \n",
      " There are 4 disconnected components.\n",
      " There is 1 island with id: 46.\n",
      "  w = W(neighbors, weights, ids, **kwargs)\n",
      "/home/briochamsley/.cache/pypoetry/virtualenvs/oqapi-analysis-QKiHp62D-py3.12/lib/python3.12/site-packages/libpysal/weights/distance.py:844: UserWarning: The weights matrix is not fully connected: \n",
      " There are 4 disconnected components.\n",
      " There is 1 island with id: 46.\n",
      "  W.__init__(\n"
     ]
    },
    {
     "name": "stdout",
     "output_type": "stream",
     "text": [
      "('WARNING: ', 46, ' is an island (no neighbors)')\n"
     ]
    },
    {
     "name": "stderr",
     "output_type": "stream",
     "text": [
      "/home/briochamsley/.cache/pypoetry/virtualenvs/oqapi-analysis-QKiHp62D-py3.12/lib/python3.12/site-packages/libpysal/weights/util.py:826: UserWarning: The weights matrix is not fully connected: \n",
      " There are 3 disconnected components.\n",
      "  w = W(neighbors, weights, ids, **kwargs)\n",
      "/home/briochamsley/.cache/pypoetry/virtualenvs/oqapi-analysis-QKiHp62D-py3.12/lib/python3.12/site-packages/libpysal/weights/distance.py:844: UserWarning: The weights matrix is not fully connected: \n",
      " There are 3 disconnected components.\n",
      "  W.__init__(\n"
     ]
    },
    {
     "name": "stdout",
     "output_type": "stream",
     "text": [
      "['Sub-Saharan Africa'] 2024-05-01 0.7956730300085217 0.27906867583298645\n"
     ]
    }
   ],
   "source": [
    "wb_regions = [\n",
    "    [\"East Asia & Pacific\"],\n",
    "    [\"Europe & Central Asia\"],\n",
    "    [\"Latin America & Caribbean\"],\n",
    "    [\"Middle East & North Africa\"],\n",
    "    [\"North America\"],\n",
    "    [\"South Asia\"],\n",
    "    [\"Sub-Saharan Africa\"],\n",
    "    [\n",
    "        \"Europe & Central Asia\", \n",
    "        \"Latin America & Caribbean\", \n",
    "        \"North America\", \n",
    "        \"East Asia & Pacific\", \n",
    "        \"South Asia\", \n",
    "        \"Middle East & North Africa\",\n",
    "        \"Sub-Saharan Africa\"\n",
    "    ],\n",
    "]\n",
    "\n",
    "\n",
    "all_months = [\n",
    "    datetime.date(2010, 1, 1),\n",
    "    datetime.date(2014, 1, 1),\n",
    "    datetime.date(2024, 5, 1),\n",
    "]\n",
    "\n",
    "colors = [\n",
    "    \"blue\",\n",
    "    \"green\",\n",
    "    \"yellow\",\n",
    "    \"violet\"\n",
    "]\n",
    "\n",
    "column = \"osm_completeness\"\n",
    "\n",
    "for j, region_id in enumerate([1, 6]):\n",
    "    region = wb_regions[region_id]\n",
    "    \n",
    "    for i, month in enumerate(all_months):\n",
    "        \n",
    "        # need to make sure to reset index!\n",
    "        df = get_urban_centers_gdf_timeline(\n",
    "            region,\n",
    "            month\n",
    "        )\n",
    "        df.drop([\"prediction_osm_completeness\"], axis=1, inplace=True)\n",
    "        \n",
    "        index = segregation.singlegroup.gini.Gini(\n",
    "            df[['sum_osm_building_area_sqkm', 'prediction']],\n",
    "            'sum_osm_building_area_sqkm',\n",
    "            'prediction'\n",
    "        )\n",
    "        gini = index.statistic\n",
    "        \n",
    "        df.reset_index(inplace=True)\n",
    "        \n",
    "        w = DistanceBand.from_dataframe(df, 5, binary=False)\n",
    "        w.transform = 'r'\n",
    "\n",
    "        df = df.loc[~df.index.isin(w.islands)]\n",
    "        w = DistanceBand.from_dataframe(df, 5, binary=False)\n",
    "        w.transform = 'r'\n",
    "\n",
    "        y = df[column]\n",
    "        # global and local Moran's I\n",
    "        try:\n",
    "            moran_global = Moran(y, w)\n",
    "            moran_loc = Moran_Local(y, w)\n",
    "            df[f\"{column}_moran_loc\"] = moran_loc.Is\n",
    "            df[f\"{column}_moran_loc_q\"] = moran_loc.q\n",
    "            df[f\"{column}_moran_loc_p_sim\"] = moran_loc.p_sim\n",
    "            df[f\"{column}_moran_global\"] = moran_global.I\n",
    "        except (ZeroDivisionError, StopIteration):\n",
    "            df[f\"{column}_moran_loc\"] = np.nan\n",
    "            df[f\"{column}_moran_global\"] = np.nan\n",
    "\n",
    "        morans = moran_global.I\n",
    "\n",
    "        print(region, month, gini, morans)\n",
    "\n",
    "        df[\"alpha\"] = 0.2\n",
    "        df.loc[df[\"osm_completeness_moran_loc_p_sim\"] < 0.1, \"alpha\"] = 1\n",
    "        df.to_file(\n",
    "            \"../data/global_urban_building_completeness.gpkg\",\n",
    "            layer=f'{region[0]}_{month}_v2024',\n",
    "            driver=\"GPKG\"\n",
    "        )"
   ]
  }
 ],
 "metadata": {
  "kernelspec": {
   "display_name": "Python 3 (ipykernel)",
   "language": "python",
   "name": "python3"
  },
  "language_info": {
   "codemirror_mode": {
    "name": "ipython",
    "version": 3
   },
   "file_extension": ".py",
   "mimetype": "text/x-python",
   "name": "python",
   "nbconvert_exporter": "python",
   "pygments_lexer": "ipython3",
   "version": "3.12.3"
  }
 },
 "nbformat": 4,
 "nbformat_minor": 5
}
