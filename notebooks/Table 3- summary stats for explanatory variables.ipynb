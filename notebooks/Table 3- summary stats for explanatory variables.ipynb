{
 "cells": [
  {
   "cell_type": "code",
   "execution_count": 1,
   "id": "10b7a7e4",
   "metadata": {},
   "outputs": [
    {
     "name": "stderr",
     "output_type": "stream",
     "text": [
      "/home/h9b/GIT_REPOS/global-urban-building-completeness-analysis/venv/lib/python3.10/site-packages/geopandas/_compat.py:123: UserWarning: The Shapely GEOS version (3.11.1-CAPI-1.17.1) is incompatible with the GEOS version PyGEOS was compiled with (3.10.4-CAPI-1.16.2). Conversions between both will be slow.\n",
      "  warnings.warn(\n",
      "/tmp/ipykernel_51192/4060178741.py:4: UserWarning: Shapely 2.0 is installed, but because PyGEOS is also installed, GeoPandas will still use PyGEOS by default for now. To force to use and test Shapely 2.0, you have to set the environment variable USE_PYGEOS=0. You can do this before starting the Python process, or in your code before importing geopandas:\n",
      "\n",
      "import os\n",
      "os.environ['USE_PYGEOS'] = '0'\n",
      "import geopandas\n",
      "\n",
      "In a future release, GeoPandas will switch to using Shapely by default. If you are using PyGEOS directly (calling PyGEOS functions on geometries from GeoPandas), this will then stop working and you are encouraged to migrate from PyGEOS to Shapely 2.0 (https://shapely.readthedocs.io/en/latest/migration_pygeos.html).\n",
      "  import geopandas as gpd\n"
     ]
    }
   ],
   "source": [
    "import logging\n",
    "import sqlite3\n",
    "import pandas as pd\n",
    "import geopandas as gpd\n",
    "\n",
    "COVARIATE_COLUMNS = [\n",
    "    \"worldcover_2020_built_up_sqkm\",\n",
    "    \"worldcover_2020_tree_cover_sqkm\",\n",
    "    \"worldcover_2020_sparse_vegetation_sqkm\",\n",
    "    \"ghspop_2020\",\n",
    "    \"vnl_2020\",\n",
    "    \"shdi_2019\",\n",
    "    \"osm_road_length_km_2023\",\n",
    "    \"region_code\",\n",
    "]"
   ]
  },
  {
   "cell_type": "code",
   "execution_count": 2,
   "id": "bcc8adb1",
   "metadata": {},
   "outputs": [],
   "source": [
    "def load_urban_centers_grid():\n",
    "    con = sqlite3.connect(\"../data/global_urban_building_completeness.gpkg\")\n",
    "    query = f\"\"\"\n",
    "        SELECT\n",
    "           a.grid_fid as fid\n",
    "          ,a.*\n",
    "        FROM all_parameters_urban_centers_grid a\n",
    "    \"\"\"\n",
    "    df = pd.read_sql_query(query, con=con)\n",
    "\n",
    "    df[\"region_wb\"] = pd.Categorical(df[\"region_wb\"])\n",
    "    df['region_code'] = df.region_wb.cat.codes\n",
    "\n",
    "    df['shdi_2019'].fillna((df['shdi_2019'].mean()), inplace=True)\n",
    "    df['osm_road_length_km_2023'].fillna((df['osm_road_length_km_2023'].mean()), inplace=True)\n",
    "\n",
    "    for column in df.columns:\n",
    "        if column in [\n",
    "            \"external_reference_building_area_sqkm\",\n",
    "            \"microsoft_building_area_sqkm\",\n",
    "            \"reference_building_area_sqkm\",\n",
    "            \"reference_osm_completeness\",\n",
    "        ]:\n",
    "            continue\n",
    "\n",
    "        df[column] = df[column].fillna(0)\n",
    "\n",
    "    logging.info(len(df))\n",
    "    return df"
   ]
  },
  {
   "cell_type": "markdown",
   "id": "f689bc7a",
   "metadata": {},
   "source": [
    "# Display summary stats for explanatory variables\n",
    "Note: Feature importance is logged when running the model in `scripts/run_prediction.py`."
   ]
  },
  {
   "cell_type": "code",
   "execution_count": 3,
   "id": "669f4197",
   "metadata": {},
   "outputs": [],
   "source": [
    "grid_df = load_urban_centers_grid()"
   ]
  },
  {
   "cell_type": "code",
   "execution_count": 4,
   "id": "91cce7ec",
   "metadata": {
    "scrolled": true
   },
   "outputs": [
    {
     "name": "stdout",
     "output_type": "stream",
     "text": [
      "worldcover_2020_built_up_sqkm: 0.0 & 0.403 & 0.376 & 0.27 & 1.005 \n",
      "worldcover_2020_tree_cover_sqkm: 0.0 & 0.228 & 0.149 & 0.228 & 1.008 \n",
      "worldcover_2020_sparse_vegetation_sqkm: 0.0 & 0.083 & 0.045 & 0.108 & 1.003 \n",
      "ghspop_2020: 0.0 & 4484.223 & 2750.0 & 6104.975 & 615757.0 \n",
      "vnl_2020: 0 & 121.375 & 78.0 & 231.79 & 71509 \n",
      "shdi_2019: 0.276 & 0.77 & 0.77 & 0.126 & 0.985 \n",
      "osm_road_length_km_2023: 0.0 & 9.106 & 8.133 & 6.453 & 57.635 \n",
      "region_code: 0 & 2.428 & 2.0 & 2.155 & 6 \n"
     ]
    }
   ],
   "source": [
    "pd.set_option('display.float_format', lambda x: '%.3f' % x)\n",
    "\n",
    "for column in COVARIATE_COLUMNS:\n",
    "    print(\n",
    "        f\"{column}: \"\n",
    "        f\"{round(grid_df[column].min(), 3)} & \"\n",
    "        f\"{round(grid_df[column].mean(), 3)} & \"\n",
    "        f\"{round(grid_df[column].median(), 3)} & \"\n",
    "        f\"{round(grid_df[column].std(), 3)} & \"\n",
    "        f\"{round(grid_df[column].max(), 3)} \"\n",
    "    )"
   ]
  },
  {
   "cell_type": "code",
   "execution_count": 24,
   "id": "d7bc4a3d",
   "metadata": {},
   "outputs": [],
   "source": [
    "feature_importance = {\n",
    "    'worldcover_2020_built_up_sqkm': 0.6849695124111642,\n",
    "    'worldcover_2020_tree_cover_sqkm': 0.0365150867377664,\n",
    "    'worldcover_2020_sparse_vegetation_sqkm': 0.037499777590713504,\n",
    "    'ghspop_2020': 0.08174518956675597,\n",
    "    'vnl_2020': 0.02801227382896272,\n",
    "    'shdi_2019': 0.04355697627407274,\n",
    "    'osm_road_length_km_2023': 0.056407616161615,\n",
    "    'region_code': 0.03129356742894947\n",
    "}"
   ]
  },
  {
   "cell_type": "code",
   "execution_count": null,
   "id": "dd8871fc",
   "metadata": {},
   "outputs": [],
   "source": []
  }
 ],
 "metadata": {
  "kernelspec": {
   "display_name": "Python 3 (ipykernel)",
   "language": "python",
   "name": "python3"
  },
  "language_info": {
   "codemirror_mode": {
    "name": "ipython",
    "version": 3
   },
   "file_extension": ".py",
   "mimetype": "text/x-python",
   "name": "python",
   "nbconvert_exporter": "python",
   "pygments_lexer": "ipython3",
   "version": "3.10.6"
  }
 },
 "nbformat": 4,
 "nbformat_minor": 5
}
